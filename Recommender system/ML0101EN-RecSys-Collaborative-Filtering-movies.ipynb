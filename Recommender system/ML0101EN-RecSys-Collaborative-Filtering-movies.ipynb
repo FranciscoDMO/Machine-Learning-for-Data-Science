{
 "cells": [
  {
   "cell_type": "markdown",
   "metadata": {
    "button": false,
    "new_sheet": false,
    "run_control": {
     "read_only": false
    }
   },
   "source": [
    "Recommendation systems are a collection of algorithms used to recommend items to users based on information taken from the user. These systems have become ubiquitous and can be commonly seen in online stores, movies databases and job finders. In this notebook, we will explore recommendation systems based on Collaborative Filtering and implement simple version of one using Python and the Pandas library.\n"
   ]
  },
  {
   "cell_type": "markdown",
   "metadata": {
    "button": false,
    "new_sheet": false,
    "run_control": {
     "read_only": false
    }
   },
   "source": [
    "<h1>Table of contents</h1>\n",
    "\n",
    "<div class=\"alert alert-block alert-info\" style=\"margin-top: 20px\">\n",
    "    <ol>\n",
    "        <li><a href=\"https://#ref1\">Acquiring the Data</a></li>\n",
    "        <li><a href=\"https://#ref2\">Preprocessing</a></li>\n",
    "        <li><a href=\"https://#ref3\">Collaborative Filtering</a></li>\n",
    "    </ol>\n",
    "</div>\n",
    "<br>\n",
    "<hr>\n"
   ]
  },
  {
   "cell_type": "markdown",
   "metadata": {
    "button": false,
    "new_sheet": false,
    "run_control": {
     "read_only": false
    }
   },
   "source": [
    "<a id=\"ref1\"></a>\n",
    "\n",
    "# Acquiring the Data\n"
   ]
  },
  {
   "cell_type": "markdown",
   "metadata": {
    "button": false,
    "new_sheet": false,
    "run_control": {
     "read_only": false
    }
   },
   "source": [
    "To acquire and extract the data, simply run the following Bash scripts:\\\n",
    "Dataset acquired from [GroupLens](http://grouplens.org/datasets/movielens/?utm_medium=Exinfluencer&utm_source=Exinfluencer&utm_content=000026UJ&utm_term=10006555&utm_id=NA-SkillsNetwork-Channel-SkillsNetworkCoursesIBMDeveloperSkillsNetworkML0101ENSkillsNetwork20718538-2021-01-01). Let's download the dataset. To download the data, we will use **`!wget`** to download it from IBM Object Storage.\\\n",
    "\n"
   ]
  },
  {
   "cell_type": "code",
   "execution_count": 1,
   "metadata": {
    "button": false,
    "new_sheet": false,
    "run_control": {
     "read_only": false
    }
   },
   "outputs": [],
   "source": [
    "#!wget -O moviedataset.zip https://cf-courses-data.s3.us.cloud-object-storage.appdomain.cloud/IBMDeveloperSkillsNetwork-ML0101EN-SkillsNetwork/labs/Module%205/data/moviedataset.zip\n",
    "#print('unziping ...')\n",
    "#!unzip -o -j moviedataset.zip "
   ]
  },
  {
   "cell_type": "markdown",
   "metadata": {
    "button": false,
    "new_sheet": false,
    "run_control": {
     "read_only": false
    }
   },
   "source": [
    "Now you're ready to start working with the data!\n"
   ]
  },
  {
   "cell_type": "markdown",
   "metadata": {
    "button": false,
    "new_sheet": false,
    "run_control": {
     "read_only": false
    }
   },
   "source": [
    "<hr>\n",
    "\n",
    "<a id=\"ref2\"></a>\n",
    "\n",
    "# Preprocessing\n"
   ]
  },
  {
   "cell_type": "markdown",
   "metadata": {
    "button": false,
    "new_sheet": false,
    "run_control": {
     "read_only": false
    }
   },
   "source": [
    "First, let's get all of the imports out of the way:\n"
   ]
  },
  {
   "cell_type": "code",
   "execution_count": 2,
   "metadata": {
    "button": false,
    "new_sheet": false,
    "run_control": {
     "read_only": false
    }
   },
   "outputs": [],
   "source": [
    "#Dataframe manipulation library\n",
    "import pandas as pd\n",
    "#Math functions, we'll only need the sqrt function so let's import only that\n",
    "from math import sqrt\n",
    "import numpy as np\n",
    "import matplotlib.pyplot as plt\n",
    "%matplotlib inline"
   ]
  },
  {
   "cell_type": "markdown",
   "metadata": {
    "button": false,
    "new_sheet": false,
    "run_control": {
     "read_only": false
    }
   },
   "source": [
    "Now let's read each file into their Dataframes:\n"
   ]
  },
  {
   "cell_type": "code",
   "execution_count": 3,
   "metadata": {
    "button": false,
    "new_sheet": false,
    "run_control": {
     "read_only": false
    }
   },
   "outputs": [],
   "source": [
    "#Storing the movie information into a pandas dataframe\n",
    "movies_df = pd.read_csv('movies.csv')\n",
    "#Storing the user information into a pandas dataframe\n",
    "ratings_df = pd.read_csv('ratings.csv')"
   ]
  },
  {
   "cell_type": "markdown",
   "metadata": {
    "button": false,
    "new_sheet": false,
    "run_control": {
     "read_only": false
    }
   },
   "source": [
    "Let's also take a peek at how each of them are organized:\n"
   ]
  },
  {
   "cell_type": "code",
   "execution_count": 4,
   "metadata": {
    "button": false,
    "new_sheet": false,
    "run_control": {
     "read_only": false
    }
   },
   "outputs": [
    {
     "data": {
      "text/html": [
       "<div>\n",
       "<style scoped>\n",
       "    .dataframe tbody tr th:only-of-type {\n",
       "        vertical-align: middle;\n",
       "    }\n",
       "\n",
       "    .dataframe tbody tr th {\n",
       "        vertical-align: top;\n",
       "    }\n",
       "\n",
       "    .dataframe thead th {\n",
       "        text-align: right;\n",
       "    }\n",
       "</style>\n",
       "<table border=\"1\" class=\"dataframe\">\n",
       "  <thead>\n",
       "    <tr style=\"text-align: right;\">\n",
       "      <th></th>\n",
       "      <th>movieId</th>\n",
       "      <th>title</th>\n",
       "      <th>genres</th>\n",
       "    </tr>\n",
       "  </thead>\n",
       "  <tbody>\n",
       "    <tr>\n",
       "      <th>0</th>\n",
       "      <td>1</td>\n",
       "      <td>Toy Story (1995)</td>\n",
       "      <td>Adventure|Animation|Children|Comedy|Fantasy</td>\n",
       "    </tr>\n",
       "    <tr>\n",
       "      <th>1</th>\n",
       "      <td>2</td>\n",
       "      <td>Jumanji (1995)</td>\n",
       "      <td>Adventure|Children|Fantasy</td>\n",
       "    </tr>\n",
       "    <tr>\n",
       "      <th>2</th>\n",
       "      <td>3</td>\n",
       "      <td>Grumpier Old Men (1995)</td>\n",
       "      <td>Comedy|Romance</td>\n",
       "    </tr>\n",
       "    <tr>\n",
       "      <th>3</th>\n",
       "      <td>4</td>\n",
       "      <td>Waiting to Exhale (1995)</td>\n",
       "      <td>Comedy|Drama|Romance</td>\n",
       "    </tr>\n",
       "    <tr>\n",
       "      <th>4</th>\n",
       "      <td>5</td>\n",
       "      <td>Father of the Bride Part II (1995)</td>\n",
       "      <td>Comedy</td>\n",
       "    </tr>\n",
       "  </tbody>\n",
       "</table>\n",
       "</div>"
      ],
      "text/plain": [
       "   movieId                               title  \\\n",
       "0        1                    Toy Story (1995)   \n",
       "1        2                      Jumanji (1995)   \n",
       "2        3             Grumpier Old Men (1995)   \n",
       "3        4            Waiting to Exhale (1995)   \n",
       "4        5  Father of the Bride Part II (1995)   \n",
       "\n",
       "                                        genres  \n",
       "0  Adventure|Animation|Children|Comedy|Fantasy  \n",
       "1                   Adventure|Children|Fantasy  \n",
       "2                               Comedy|Romance  \n",
       "3                         Comedy|Drama|Romance  \n",
       "4                                       Comedy  "
      ]
     },
     "execution_count": 4,
     "metadata": {},
     "output_type": "execute_result"
    }
   ],
   "source": [
    "#Head is a function that gets the first N rows of a dataframe. N's default is 5.\n",
    "movies_df.head()"
   ]
  },
  {
   "cell_type": "markdown",
   "metadata": {
    "button": false,
    "new_sheet": false,
    "run_control": {
     "read_only": false
    }
   },
   "source": [
    "So each movie has a unique ID, a title with its release year along with it (Which may contain unicode characters) and several different genres in the same field. Let's remove the year from the title column and place it into its own one by using the handy [extract](http://pandas.pydata.org/pandas-docs/stable/generated/pandas.Series.str.extract.html?utm_medium=Exinfluencer&utm_source=Exinfluencer&utm_content=000026UJ&utm_term=10006555&utm_id=NA-SkillsNetwork-Channel-SkillsNetworkCoursesIBMDeveloperSkillsNetworkML0101ENSkillsNetwork20718538-2021-01-01#pandas.Series.str.extract) function that Pandas has.\n"
   ]
  },
  {
   "cell_type": "markdown",
   "metadata": {
    "button": false,
    "new_sheet": false,
    "run_control": {
     "read_only": false
    }
   },
   "source": [
    "Let's remove the year from the **title** column by using pandas' replace function and store it in a new **year** column.\n"
   ]
  },
  {
   "cell_type": "code",
   "execution_count": 5,
   "metadata": {
    "button": false,
    "new_sheet": false,
    "run_control": {
     "read_only": false
    },
    "scrolled": false
   },
   "outputs": [
    {
     "name": "stderr",
     "output_type": "stream",
     "text": [
      "C:\\Users\\FRANCI~1\\AppData\\Local\\Temp/ipykernel_29396/2727439841.py:7: FutureWarning: The default value of regex will change from True to False in a future version.\n",
      "  movies_df['title'] = movies_df.title.str.replace('(\\(\\d\\d\\d\\d\\))', '')\n"
     ]
    }
   ],
   "source": [
    "#Using regular expressions to find a year stored between parentheses\n",
    "#We specify the parantheses so we don't conflict with movies that have years in their titles\n",
    "movies_df['year'] = movies_df.title.str.extract('(\\(\\d\\d\\d\\d\\))',expand=False)\n",
    "#Removing the parentheses\n",
    "movies_df['year'] = movies_df.year.str.extract('(\\d\\d\\d\\d)',expand=False)\n",
    "#Removing the years from the 'title' column\n",
    "movies_df['title'] = movies_df.title.str.replace('(\\(\\d\\d\\d\\d\\))', '')\n",
    "#Applying the strip function to get rid of any ending whitespace characters that may have appeared\n",
    "movies_df['title'] = movies_df['title'].apply(lambda x: x.strip())"
   ]
  },
  {
   "cell_type": "markdown",
   "metadata": {
    "button": false,
    "new_sheet": false,
    "run_control": {
     "read_only": false
    }
   },
   "source": [
    "Let's look at the result!\n"
   ]
  },
  {
   "cell_type": "code",
   "execution_count": 6,
   "metadata": {
    "button": false,
    "new_sheet": false,
    "run_control": {
     "read_only": false
    },
    "scrolled": false
   },
   "outputs": [
    {
     "data": {
      "text/html": [
       "<div>\n",
       "<style scoped>\n",
       "    .dataframe tbody tr th:only-of-type {\n",
       "        vertical-align: middle;\n",
       "    }\n",
       "\n",
       "    .dataframe tbody tr th {\n",
       "        vertical-align: top;\n",
       "    }\n",
       "\n",
       "    .dataframe thead th {\n",
       "        text-align: right;\n",
       "    }\n",
       "</style>\n",
       "<table border=\"1\" class=\"dataframe\">\n",
       "  <thead>\n",
       "    <tr style=\"text-align: right;\">\n",
       "      <th></th>\n",
       "      <th>movieId</th>\n",
       "      <th>title</th>\n",
       "      <th>genres</th>\n",
       "      <th>year</th>\n",
       "    </tr>\n",
       "  </thead>\n",
       "  <tbody>\n",
       "    <tr>\n",
       "      <th>0</th>\n",
       "      <td>1</td>\n",
       "      <td>Toy Story</td>\n",
       "      <td>Adventure|Animation|Children|Comedy|Fantasy</td>\n",
       "      <td>1995</td>\n",
       "    </tr>\n",
       "    <tr>\n",
       "      <th>1</th>\n",
       "      <td>2</td>\n",
       "      <td>Jumanji</td>\n",
       "      <td>Adventure|Children|Fantasy</td>\n",
       "      <td>1995</td>\n",
       "    </tr>\n",
       "    <tr>\n",
       "      <th>2</th>\n",
       "      <td>3</td>\n",
       "      <td>Grumpier Old Men</td>\n",
       "      <td>Comedy|Romance</td>\n",
       "      <td>1995</td>\n",
       "    </tr>\n",
       "    <tr>\n",
       "      <th>3</th>\n",
       "      <td>4</td>\n",
       "      <td>Waiting to Exhale</td>\n",
       "      <td>Comedy|Drama|Romance</td>\n",
       "      <td>1995</td>\n",
       "    </tr>\n",
       "    <tr>\n",
       "      <th>4</th>\n",
       "      <td>5</td>\n",
       "      <td>Father of the Bride Part II</td>\n",
       "      <td>Comedy</td>\n",
       "      <td>1995</td>\n",
       "    </tr>\n",
       "  </tbody>\n",
       "</table>\n",
       "</div>"
      ],
      "text/plain": [
       "   movieId                        title  \\\n",
       "0        1                    Toy Story   \n",
       "1        2                      Jumanji   \n",
       "2        3             Grumpier Old Men   \n",
       "3        4            Waiting to Exhale   \n",
       "4        5  Father of the Bride Part II   \n",
       "\n",
       "                                        genres  year  \n",
       "0  Adventure|Animation|Children|Comedy|Fantasy  1995  \n",
       "1                   Adventure|Children|Fantasy  1995  \n",
       "2                               Comedy|Romance  1995  \n",
       "3                         Comedy|Drama|Romance  1995  \n",
       "4                                       Comedy  1995  "
      ]
     },
     "execution_count": 6,
     "metadata": {},
     "output_type": "execute_result"
    }
   ],
   "source": [
    "movies_df.head()"
   ]
  },
  {
   "cell_type": "markdown",
   "metadata": {
    "button": false,
    "new_sheet": false,
    "run_control": {
     "read_only": false
    }
   },
   "source": [
    "With that, let's also drop the genres column since we won't need it for this particular recommendation system.\n"
   ]
  },
  {
   "cell_type": "code",
   "execution_count": 7,
   "metadata": {
    "button": false,
    "new_sheet": false,
    "run_control": {
     "read_only": false
    },
    "scrolled": false
   },
   "outputs": [
    {
     "name": "stderr",
     "output_type": "stream",
     "text": [
      "C:\\Users\\FRANCI~1\\AppData\\Local\\Temp/ipykernel_29396/3336070625.py:2: FutureWarning: In a future version of pandas all arguments of DataFrame.drop except for the argument 'labels' will be keyword-only\n",
      "  movies_df = movies_df.drop('genres',1)\n"
     ]
    }
   ],
   "source": [
    "#Dropping the genres column\n",
    "movies_df = movies_df.drop('genres',1)\n"
   ]
  },
  {
   "cell_type": "code",
   "execution_count": 8,
   "metadata": {},
   "outputs": [
    {
     "name": "stdout",
     "output_type": "stream",
     "text": [
      "34208\n",
      "34140\n"
     ]
    }
   ],
   "source": [
    "#removing movies b4 2000 so it shows movies that are \"more popular\" \n",
    "print(movies_df['year'].size)\n",
    "movies_df=movies_df.dropna()\n",
    "print(movies_df['year'].size)\n",
    "movies_df['year']= pd.to_numeric(movies_df['year'])\n",
    "movies_df['year'].dtypes\n",
    "movies_df= movies_df[movies_df['year'] >= 2000]\n"
   ]
  },
  {
   "cell_type": "code",
   "execution_count": 9,
   "metadata": {},
   "outputs": [
    {
     "name": "stdout",
     "output_type": "stream",
     "text": [
      "51462\n"
     ]
    }
   ],
   "source": [
    "print(movies_df.size)"
   ]
  },
  {
   "cell_type": "markdown",
   "metadata": {
    "button": false,
    "new_sheet": false,
    "run_control": {
     "read_only": false
    }
   },
   "source": [
    "Here's the final movies dataframe:\n"
   ]
  },
  {
   "cell_type": "code",
   "execution_count": 10,
   "metadata": {
    "button": false,
    "new_sheet": false,
    "run_control": {
     "read_only": false
    }
   },
   "outputs": [
    {
     "data": {
      "text/html": [
       "<div>\n",
       "<style scoped>\n",
       "    .dataframe tbody tr th:only-of-type {\n",
       "        vertical-align: middle;\n",
       "    }\n",
       "\n",
       "    .dataframe tbody tr th {\n",
       "        vertical-align: top;\n",
       "    }\n",
       "\n",
       "    .dataframe thead th {\n",
       "        text-align: right;\n",
       "    }\n",
       "</style>\n",
       "<table border=\"1\" class=\"dataframe\">\n",
       "  <thead>\n",
       "    <tr style=\"text-align: right;\">\n",
       "      <th></th>\n",
       "      <th>movieId</th>\n",
       "      <th>title</th>\n",
       "      <th>year</th>\n",
       "    </tr>\n",
       "  </thead>\n",
       "  <tbody>\n",
       "    <tr>\n",
       "      <th>2684</th>\n",
       "      <td>2769</td>\n",
       "      <td>Yards, The</td>\n",
       "      <td>2000</td>\n",
       "    </tr>\n",
       "    <tr>\n",
       "      <th>3091</th>\n",
       "      <td>3177</td>\n",
       "      <td>Next Friday</td>\n",
       "      <td>2000</td>\n",
       "    </tr>\n",
       "    <tr>\n",
       "      <th>3104</th>\n",
       "      <td>3190</td>\n",
       "      <td>Supernova</td>\n",
       "      <td>2000</td>\n",
       "    </tr>\n",
       "    <tr>\n",
       "      <th>3139</th>\n",
       "      <td>3225</td>\n",
       "      <td>Down to You</td>\n",
       "      <td>2000</td>\n",
       "    </tr>\n",
       "    <tr>\n",
       "      <th>3142</th>\n",
       "      <td>3228</td>\n",
       "      <td>Wirey Spindell</td>\n",
       "      <td>2000</td>\n",
       "    </tr>\n",
       "  </tbody>\n",
       "</table>\n",
       "</div>"
      ],
      "text/plain": [
       "      movieId           title  year\n",
       "2684     2769      Yards, The  2000\n",
       "3091     3177     Next Friday  2000\n",
       "3104     3190       Supernova  2000\n",
       "3139     3225     Down to You  2000\n",
       "3142     3228  Wirey Spindell  2000"
      ]
     },
     "execution_count": 10,
     "metadata": {},
     "output_type": "execute_result"
    }
   ],
   "source": [
    "movies_df.head()"
   ]
  },
  {
   "cell_type": "markdown",
   "metadata": {
    "button": false,
    "new_sheet": false,
    "run_control": {
     "read_only": false
    }
   },
   "source": [
    "<br>\n"
   ]
  },
  {
   "cell_type": "markdown",
   "metadata": {
    "button": false,
    "new_sheet": false,
    "run_control": {
     "read_only": false
    }
   },
   "source": [
    "Next, let's look at the ratings dataframe.\n"
   ]
  },
  {
   "cell_type": "code",
   "execution_count": 11,
   "metadata": {
    "button": false,
    "new_sheet": false,
    "run_control": {
     "read_only": false
    }
   },
   "outputs": [
    {
     "data": {
      "text/html": [
       "<div>\n",
       "<style scoped>\n",
       "    .dataframe tbody tr th:only-of-type {\n",
       "        vertical-align: middle;\n",
       "    }\n",
       "\n",
       "    .dataframe tbody tr th {\n",
       "        vertical-align: top;\n",
       "    }\n",
       "\n",
       "    .dataframe thead th {\n",
       "        text-align: right;\n",
       "    }\n",
       "</style>\n",
       "<table border=\"1\" class=\"dataframe\">\n",
       "  <thead>\n",
       "    <tr style=\"text-align: right;\">\n",
       "      <th></th>\n",
       "      <th>userId</th>\n",
       "      <th>movieId</th>\n",
       "      <th>rating</th>\n",
       "      <th>timestamp</th>\n",
       "    </tr>\n",
       "  </thead>\n",
       "  <tbody>\n",
       "    <tr>\n",
       "      <th>0</th>\n",
       "      <td>1</td>\n",
       "      <td>169</td>\n",
       "      <td>2.5</td>\n",
       "      <td>1204927694</td>\n",
       "    </tr>\n",
       "    <tr>\n",
       "      <th>1</th>\n",
       "      <td>1</td>\n",
       "      <td>2471</td>\n",
       "      <td>3.0</td>\n",
       "      <td>1204927438</td>\n",
       "    </tr>\n",
       "    <tr>\n",
       "      <th>2</th>\n",
       "      <td>1</td>\n",
       "      <td>48516</td>\n",
       "      <td>5.0</td>\n",
       "      <td>1204927435</td>\n",
       "    </tr>\n",
       "    <tr>\n",
       "      <th>3</th>\n",
       "      <td>2</td>\n",
       "      <td>2571</td>\n",
       "      <td>3.5</td>\n",
       "      <td>1436165433</td>\n",
       "    </tr>\n",
       "    <tr>\n",
       "      <th>4</th>\n",
       "      <td>2</td>\n",
       "      <td>109487</td>\n",
       "      <td>4.0</td>\n",
       "      <td>1436165496</td>\n",
       "    </tr>\n",
       "  </tbody>\n",
       "</table>\n",
       "</div>"
      ],
      "text/plain": [
       "   userId  movieId  rating   timestamp\n",
       "0       1      169     2.5  1204927694\n",
       "1       1     2471     3.0  1204927438\n",
       "2       1    48516     5.0  1204927435\n",
       "3       2     2571     3.5  1436165433\n",
       "4       2   109487     4.0  1436165496"
      ]
     },
     "execution_count": 11,
     "metadata": {},
     "output_type": "execute_result"
    }
   ],
   "source": [
    "ratings_df.head()"
   ]
  },
  {
   "cell_type": "markdown",
   "metadata": {
    "button": false,
    "new_sheet": false,
    "run_control": {
     "read_only": false
    }
   },
   "source": [
    "Every row in the ratings dataframe has a user id associated with at least one movie, a rating and a timestamp showing when they reviewed it. We won't be needing the timestamp column, so let's drop it to save on memory.\n"
   ]
  },
  {
   "cell_type": "code",
   "execution_count": 12,
   "metadata": {
    "button": false,
    "new_sheet": false,
    "run_control": {
     "read_only": false
    }
   },
   "outputs": [
    {
     "name": "stderr",
     "output_type": "stream",
     "text": [
      "C:\\Users\\FRANCI~1\\AppData\\Local\\Temp/ipykernel_29396/1971122656.py:2: FutureWarning: In a future version of pandas all arguments of DataFrame.drop except for the argument 'labels' will be keyword-only\n",
      "  ratings_df = ratings_df.drop('timestamp', 1)\n"
     ]
    }
   ],
   "source": [
    "#Drop removes a specified row or column from a dataframe\n",
    "ratings_df = ratings_df.drop('timestamp', 1)"
   ]
  },
  {
   "cell_type": "markdown",
   "metadata": {
    "button": false,
    "new_sheet": false,
    "run_control": {
     "read_only": false
    }
   },
   "source": [
    "Here's how the final ratings Dataframe looks like:\n"
   ]
  },
  {
   "cell_type": "code",
   "execution_count": 13,
   "metadata": {
    "button": false,
    "new_sheet": false,
    "run_control": {
     "read_only": false
    },
    "scrolled": true
   },
   "outputs": [
    {
     "data": {
      "text/html": [
       "<div>\n",
       "<style scoped>\n",
       "    .dataframe tbody tr th:only-of-type {\n",
       "        vertical-align: middle;\n",
       "    }\n",
       "\n",
       "    .dataframe tbody tr th {\n",
       "        vertical-align: top;\n",
       "    }\n",
       "\n",
       "    .dataframe thead th {\n",
       "        text-align: right;\n",
       "    }\n",
       "</style>\n",
       "<table border=\"1\" class=\"dataframe\">\n",
       "  <thead>\n",
       "    <tr style=\"text-align: right;\">\n",
       "      <th></th>\n",
       "      <th>userId</th>\n",
       "      <th>movieId</th>\n",
       "      <th>rating</th>\n",
       "    </tr>\n",
       "  </thead>\n",
       "  <tbody>\n",
       "    <tr>\n",
       "      <th>0</th>\n",
       "      <td>1</td>\n",
       "      <td>169</td>\n",
       "      <td>2.5</td>\n",
       "    </tr>\n",
       "    <tr>\n",
       "      <th>1</th>\n",
       "      <td>1</td>\n",
       "      <td>2471</td>\n",
       "      <td>3.0</td>\n",
       "    </tr>\n",
       "    <tr>\n",
       "      <th>2</th>\n",
       "      <td>1</td>\n",
       "      <td>48516</td>\n",
       "      <td>5.0</td>\n",
       "    </tr>\n",
       "    <tr>\n",
       "      <th>3</th>\n",
       "      <td>2</td>\n",
       "      <td>2571</td>\n",
       "      <td>3.5</td>\n",
       "    </tr>\n",
       "    <tr>\n",
       "      <th>4</th>\n",
       "      <td>2</td>\n",
       "      <td>109487</td>\n",
       "      <td>4.0</td>\n",
       "    </tr>\n",
       "  </tbody>\n",
       "</table>\n",
       "</div>"
      ],
      "text/plain": [
       "   userId  movieId  rating\n",
       "0       1      169     2.5\n",
       "1       1     2471     3.0\n",
       "2       1    48516     5.0\n",
       "3       2     2571     3.5\n",
       "4       2   109487     4.0"
      ]
     },
     "execution_count": 13,
     "metadata": {},
     "output_type": "execute_result"
    }
   ],
   "source": [
    "ratings_df.head()"
   ]
  },
  {
   "cell_type": "markdown",
   "metadata": {
    "button": false,
    "new_sheet": false,
    "run_control": {
     "read_only": false
    }
   },
   "source": [
    "<hr>\n",
    "\n",
    "<a id=\"ref3\"></a>\n",
    "\n",
    "# Collaborative Filtering\n"
   ]
  },
  {
   "cell_type": "markdown",
   "metadata": {
    "button": false,
    "new_sheet": false,
    "run_control": {
     "read_only": false
    }
   },
   "source": [
    "Now it's time to start our work on recommendation systems.\n",
    "\n",
    "The first technique we're going to take a look at is called **Collaborative Filtering**, which is also known as **User-User Filtering**. As hinted by its alternate name, this technique uses other users to recommend items to the input user. It attempts to find users that have similar preferences and opinions as the input and then recommends items that they have liked to the input. There are several methods of finding similar users (Even some making use of Machine Learning), and the one we will be using here is going to be based on the **Pearson Correlation Function**.\n",
    "\n",
    "<img src=\"https://cf-courses-data.s3.us.cloud-object-storage.appdomain.cloud/IBMDeveloperSkillsNetwork-ML0101EN-SkillsNetwork/labs/Module%205/images/User_Item.png\" width=800px>\n",
    "\n",
    "The process for creating a User Based recommendation system is as follows:\n",
    "\n",
    "*   Select a user with the movies the user has watched\n",
    "*   Based on his rating of the movies, find the top X neighbours\n",
    "*   Get the watched movie record of the user for each neighbour\n",
    "*   Calculate a similarity score using some formula\n",
    "*   Recommend the items with the highest score\n",
    "\n",
    "Let's begin by creating an input user to recommend movies to:\n",
    "\n",
    "Notice: To add more movies, simply increase the amount of elements in the userInput. Feel free to add more in! Just be sure to write it in with capital letters and if a movie starts with a \"The\", like \"The Matrix\" then write it in like this: 'Matrix, The' .\n"
   ]
  },
  {
   "cell_type": "code",
   "execution_count": 14,
   "metadata": {
    "button": false,
    "new_sheet": false,
    "run_control": {
     "read_only": false
    }
   },
   "outputs": [
    {
     "data": {
      "text/html": [
       "<div>\n",
       "<style scoped>\n",
       "    .dataframe tbody tr th:only-of-type {\n",
       "        vertical-align: middle;\n",
       "    }\n",
       "\n",
       "    .dataframe tbody tr th {\n",
       "        vertical-align: top;\n",
       "    }\n",
       "\n",
       "    .dataframe thead th {\n",
       "        text-align: right;\n",
       "    }\n",
       "</style>\n",
       "<table border=\"1\" class=\"dataframe\">\n",
       "  <thead>\n",
       "    <tr style=\"text-align: right;\">\n",
       "      <th></th>\n",
       "      <th>title</th>\n",
       "      <th>rating</th>\n",
       "    </tr>\n",
       "  </thead>\n",
       "  <tbody>\n",
       "    <tr>\n",
       "      <th>0</th>\n",
       "      <td>Toy Story</td>\n",
       "      <td>4.0</td>\n",
       "    </tr>\n",
       "    <tr>\n",
       "      <th>1</th>\n",
       "      <td>Alien</td>\n",
       "      <td>4.0</td>\n",
       "    </tr>\n",
       "    <tr>\n",
       "      <th>2</th>\n",
       "      <td>War of the Worlds</td>\n",
       "      <td>3.0</td>\n",
       "    </tr>\n",
       "    <tr>\n",
       "      <th>3</th>\n",
       "      <td>Spy Kids</td>\n",
       "      <td>3.0</td>\n",
       "    </tr>\n",
       "    <tr>\n",
       "      <th>4</th>\n",
       "      <td>Iron Man</td>\n",
       "      <td>4.0</td>\n",
       "    </tr>\n",
       "    <tr>\n",
       "      <th>5</th>\n",
       "      <td>Hangover, The</td>\n",
       "      <td>3.5</td>\n",
       "    </tr>\n",
       "    <tr>\n",
       "      <th>6</th>\n",
       "      <td>Star Wars: Episode VI - Return of the Jedi</td>\n",
       "      <td>5.0</td>\n",
       "    </tr>\n",
       "    <tr>\n",
       "      <th>7</th>\n",
       "      <td>Star Wars: Episode V - The Empire Strikes Back</td>\n",
       "      <td>5.0</td>\n",
       "    </tr>\n",
       "    <tr>\n",
       "      <th>8</th>\n",
       "      <td>Star Wars: Episode IV - A New Hope</td>\n",
       "      <td>4.0</td>\n",
       "    </tr>\n",
       "    <tr>\n",
       "      <th>9</th>\n",
       "      <td>Thor</td>\n",
       "      <td>2.0</td>\n",
       "    </tr>\n",
       "  </tbody>\n",
       "</table>\n",
       "</div>"
      ],
      "text/plain": [
       "                                            title  rating\n",
       "0                                       Toy Story     4.0\n",
       "1                                           Alien     4.0\n",
       "2                               War of the Worlds     3.0\n",
       "3                                        Spy Kids     3.0\n",
       "4                                        Iron Man     4.0\n",
       "5                                   Hangover, The     3.5\n",
       "6      Star Wars: Episode VI - Return of the Jedi     5.0\n",
       "7  Star Wars: Episode V - The Empire Strikes Back     5.0\n",
       "8              Star Wars: Episode IV - A New Hope     4.0\n",
       "9                                            Thor     2.0"
      ]
     },
     "execution_count": 14,
     "metadata": {},
     "output_type": "execute_result"
    }
   ],
   "source": [
    "userInput = [\n",
    "    \n",
    "            {'title':'Toy Story', 'rating':4},\n",
    "            {'title':'Alien', 'rating':4},\n",
    "            {'title':'War of the Worlds', 'rating':3},\n",
    "            {'title':'Spy Kids', 'rating':3},\n",
    "            {'title':'Iron Man', 'rating':4},\n",
    "            {'title':'Hangover, The', 'rating':3.5},\n",
    "            {'title':'Star Wars: Episode VI - Return of the Jedi', 'rating':5},\n",
    "            {'title':'Star Wars: Episode V - The Empire Strikes Back', 'rating':5},\n",
    "            {'title':'Star Wars: Episode IV - A New Hope', 'rating':4},\n",
    "            {'title':'Thor', 'rating':2}\n",
    "    \n",
    "\n",
    "   \n",
    "         ] \n",
    "inputMovies = pd.DataFrame(userInput)\n",
    "inputMovies"
   ]
  },
  {
   "cell_type": "markdown",
   "metadata": {
    "button": false,
    "new_sheet": false,
    "run_control": {
     "read_only": false
    }
   },
   "source": [
    "#### Add movieId to input user\n",
    "\n",
    "With the input complete, let's extract the input movies's ID's from the movies dataframe and add them into it.\n",
    "\n",
    "We can achieve this by first filtering out the rows that contain the input movies' title and then merging this subset with the input dataframe. We also drop unnecessary columns for the input to save memory space.\n"
   ]
  },
  {
   "cell_type": "code",
   "execution_count": 15,
   "metadata": {
    "button": false,
    "new_sheet": false,
    "run_control": {
     "read_only": false
    },
    "scrolled": true
   },
   "outputs": [
    {
     "data": {
      "text/html": [
       "<div>\n",
       "<style scoped>\n",
       "    .dataframe tbody tr th:only-of-type {\n",
       "        vertical-align: middle;\n",
       "    }\n",
       "\n",
       "    .dataframe tbody tr th {\n",
       "        vertical-align: top;\n",
       "    }\n",
       "\n",
       "    .dataframe thead th {\n",
       "        text-align: right;\n",
       "    }\n",
       "</style>\n",
       "<table border=\"1\" class=\"dataframe\">\n",
       "  <thead>\n",
       "    <tr style=\"text-align: right;\">\n",
       "      <th></th>\n",
       "      <th>movieId</th>\n",
       "      <th>title</th>\n",
       "      <th>year</th>\n",
       "    </tr>\n",
       "  </thead>\n",
       "  <tbody>\n",
       "    <tr>\n",
       "      <th>4139</th>\n",
       "      <td>4232</td>\n",
       "      <td>Spy Kids</td>\n",
       "      <td>2001</td>\n",
       "    </tr>\n",
       "    <tr>\n",
       "      <th>10231</th>\n",
       "      <td>34048</td>\n",
       "      <td>War of the Worlds</td>\n",
       "      <td>2005</td>\n",
       "    </tr>\n",
       "    <tr>\n",
       "      <th>12646</th>\n",
       "      <td>59315</td>\n",
       "      <td>Iron Man</td>\n",
       "      <td>2008</td>\n",
       "    </tr>\n",
       "    <tr>\n",
       "      <th>13288</th>\n",
       "      <td>64997</td>\n",
       "      <td>War of the Worlds</td>\n",
       "      <td>2005</td>\n",
       "    </tr>\n",
       "    <tr>\n",
       "      <th>13809</th>\n",
       "      <td>69122</td>\n",
       "      <td>Hangover, The</td>\n",
       "      <td>2009</td>\n",
       "    </tr>\n",
       "    <tr>\n",
       "      <th>17074</th>\n",
       "      <td>86332</td>\n",
       "      <td>Thor</td>\n",
       "      <td>2011</td>\n",
       "    </tr>\n",
       "  </tbody>\n",
       "</table>\n",
       "</div>"
      ],
      "text/plain": [
       "       movieId              title  year\n",
       "4139      4232           Spy Kids  2001\n",
       "10231    34048  War of the Worlds  2005\n",
       "12646    59315           Iron Man  2008\n",
       "13288    64997  War of the Worlds  2005\n",
       "13809    69122      Hangover, The  2009\n",
       "17074    86332               Thor  2011"
      ]
     },
     "execution_count": 15,
     "metadata": {},
     "output_type": "execute_result"
    }
   ],
   "source": [
    "#Filtering out the movies by title\n",
    "inputId = movies_df[movies_df['title'].isin(inputMovies['title'].tolist())]\n",
    "inputId\n"
   ]
  },
  {
   "cell_type": "code",
   "execution_count": 16,
   "metadata": {},
   "outputs": [
    {
     "data": {
      "text/html": [
       "<div>\n",
       "<style scoped>\n",
       "    .dataframe tbody tr th:only-of-type {\n",
       "        vertical-align: middle;\n",
       "    }\n",
       "\n",
       "    .dataframe tbody tr th {\n",
       "        vertical-align: top;\n",
       "    }\n",
       "\n",
       "    .dataframe thead th {\n",
       "        text-align: right;\n",
       "    }\n",
       "</style>\n",
       "<table border=\"1\" class=\"dataframe\">\n",
       "  <thead>\n",
       "    <tr style=\"text-align: right;\">\n",
       "      <th></th>\n",
       "      <th>movieId</th>\n",
       "      <th>title</th>\n",
       "      <th>year</th>\n",
       "      <th>rating</th>\n",
       "    </tr>\n",
       "  </thead>\n",
       "  <tbody>\n",
       "    <tr>\n",
       "      <th>0</th>\n",
       "      <td>4232</td>\n",
       "      <td>Spy Kids</td>\n",
       "      <td>2001</td>\n",
       "      <td>3.0</td>\n",
       "    </tr>\n",
       "    <tr>\n",
       "      <th>1</th>\n",
       "      <td>34048</td>\n",
       "      <td>War of the Worlds</td>\n",
       "      <td>2005</td>\n",
       "      <td>3.0</td>\n",
       "    </tr>\n",
       "    <tr>\n",
       "      <th>2</th>\n",
       "      <td>64997</td>\n",
       "      <td>War of the Worlds</td>\n",
       "      <td>2005</td>\n",
       "      <td>3.0</td>\n",
       "    </tr>\n",
       "    <tr>\n",
       "      <th>3</th>\n",
       "      <td>59315</td>\n",
       "      <td>Iron Man</td>\n",
       "      <td>2008</td>\n",
       "      <td>4.0</td>\n",
       "    </tr>\n",
       "    <tr>\n",
       "      <th>4</th>\n",
       "      <td>69122</td>\n",
       "      <td>Hangover, The</td>\n",
       "      <td>2009</td>\n",
       "      <td>3.5</td>\n",
       "    </tr>\n",
       "    <tr>\n",
       "      <th>5</th>\n",
       "      <td>86332</td>\n",
       "      <td>Thor</td>\n",
       "      <td>2011</td>\n",
       "      <td>2.0</td>\n",
       "    </tr>\n",
       "  </tbody>\n",
       "</table>\n",
       "</div>"
      ],
      "text/plain": [
       "   movieId              title  year  rating\n",
       "0     4232           Spy Kids  2001     3.0\n",
       "1    34048  War of the Worlds  2005     3.0\n",
       "2    64997  War of the Worlds  2005     3.0\n",
       "3    59315           Iron Man  2008     4.0\n",
       "4    69122      Hangover, The  2009     3.5\n",
       "5    86332               Thor  2011     2.0"
      ]
     },
     "execution_count": 16,
     "metadata": {},
     "output_type": "execute_result"
    }
   ],
   "source": [
    "#Then merging it so we can get the movieId. It's implicitly merging it by title.\n",
    "inputMovies = pd.merge(inputId, inputMovies)\n",
    "inputMovies"
   ]
  },
  {
   "cell_type": "code",
   "execution_count": 17,
   "metadata": {},
   "outputs": [
    {
     "name": "stderr",
     "output_type": "stream",
     "text": [
      "C:\\Users\\FRANCI~1\\AppData\\Local\\Temp/ipykernel_29396/3541781103.py:2: FutureWarning: In a future version of pandas all arguments of DataFrame.drop except for the argument 'labels' will be keyword-only\n",
      "  inputMovies = inputMovies.drop('year', 1)\n"
     ]
    }
   ],
   "source": [
    "#Dropping information we won't use from the input dataframe\n",
    "inputMovies = inputMovies.drop('year', 1)"
   ]
  },
  {
   "cell_type": "code",
   "execution_count": 18,
   "metadata": {},
   "outputs": [
    {
     "data": {
      "text/html": [
       "<div>\n",
       "<style scoped>\n",
       "    .dataframe tbody tr th:only-of-type {\n",
       "        vertical-align: middle;\n",
       "    }\n",
       "\n",
       "    .dataframe tbody tr th {\n",
       "        vertical-align: top;\n",
       "    }\n",
       "\n",
       "    .dataframe thead th {\n",
       "        text-align: right;\n",
       "    }\n",
       "</style>\n",
       "<table border=\"1\" class=\"dataframe\">\n",
       "  <thead>\n",
       "    <tr style=\"text-align: right;\">\n",
       "      <th></th>\n",
       "      <th>movieId</th>\n",
       "      <th>title</th>\n",
       "      <th>rating</th>\n",
       "    </tr>\n",
       "  </thead>\n",
       "  <tbody>\n",
       "    <tr>\n",
       "      <th>0</th>\n",
       "      <td>4232</td>\n",
       "      <td>Spy Kids</td>\n",
       "      <td>3.0</td>\n",
       "    </tr>\n",
       "    <tr>\n",
       "      <th>1</th>\n",
       "      <td>34048</td>\n",
       "      <td>War of the Worlds</td>\n",
       "      <td>3.0</td>\n",
       "    </tr>\n",
       "    <tr>\n",
       "      <th>2</th>\n",
       "      <td>64997</td>\n",
       "      <td>War of the Worlds</td>\n",
       "      <td>3.0</td>\n",
       "    </tr>\n",
       "    <tr>\n",
       "      <th>3</th>\n",
       "      <td>59315</td>\n",
       "      <td>Iron Man</td>\n",
       "      <td>4.0</td>\n",
       "    </tr>\n",
       "    <tr>\n",
       "      <th>4</th>\n",
       "      <td>69122</td>\n",
       "      <td>Hangover, The</td>\n",
       "      <td>3.5</td>\n",
       "    </tr>\n",
       "    <tr>\n",
       "      <th>5</th>\n",
       "      <td>86332</td>\n",
       "      <td>Thor</td>\n",
       "      <td>2.0</td>\n",
       "    </tr>\n",
       "  </tbody>\n",
       "</table>\n",
       "</div>"
      ],
      "text/plain": [
       "   movieId              title  rating\n",
       "0     4232           Spy Kids     3.0\n",
       "1    34048  War of the Worlds     3.0\n",
       "2    64997  War of the Worlds     3.0\n",
       "3    59315           Iron Man     4.0\n",
       "4    69122      Hangover, The     3.5\n",
       "5    86332               Thor     2.0"
      ]
     },
     "execution_count": 18,
     "metadata": {},
     "output_type": "execute_result"
    }
   ],
   "source": [
    "#Final input dataframe\n",
    "#If a movie you added in above isn't here, then it might not be in the original \n",
    "#dataframe or it might spelled differently, please check capitalisation.\n",
    "inputMovies"
   ]
  },
  {
   "cell_type": "markdown",
   "metadata": {
    "button": false,
    "new_sheet": false,
    "run_control": {
     "read_only": false
    }
   },
   "source": [
    "#### The users who has seen the same movies\n",
    "\n",
    "Now with the movie ID's in our input, we can now get the subset of users that have watched and reviewed the movies in our input.\n"
   ]
  },
  {
   "cell_type": "code",
   "execution_count": 19,
   "metadata": {
    "button": false,
    "new_sheet": false,
    "run_control": {
     "read_only": false
    }
   },
   "outputs": [
    {
     "data": {
      "text/html": [
       "<div>\n",
       "<style scoped>\n",
       "    .dataframe tbody tr th:only-of-type {\n",
       "        vertical-align: middle;\n",
       "    }\n",
       "\n",
       "    .dataframe tbody tr th {\n",
       "        vertical-align: top;\n",
       "    }\n",
       "\n",
       "    .dataframe thead th {\n",
       "        text-align: right;\n",
       "    }\n",
       "</style>\n",
       "<table border=\"1\" class=\"dataframe\">\n",
       "  <thead>\n",
       "    <tr style=\"text-align: right;\">\n",
       "      <th></th>\n",
       "      <th>userId</th>\n",
       "      <th>movieId</th>\n",
       "      <th>rating</th>\n",
       "    </tr>\n",
       "  </thead>\n",
       "  <tbody>\n",
       "    <tr>\n",
       "      <th>1175</th>\n",
       "      <td>15</td>\n",
       "      <td>59315</td>\n",
       "      <td>2.5</td>\n",
       "    </tr>\n",
       "    <tr>\n",
       "      <th>2328</th>\n",
       "      <td>19</td>\n",
       "      <td>59315</td>\n",
       "      <td>4.5</td>\n",
       "    </tr>\n",
       "    <tr>\n",
       "      <th>2866</th>\n",
       "      <td>23</td>\n",
       "      <td>59315</td>\n",
       "      <td>5.0</td>\n",
       "    </tr>\n",
       "    <tr>\n",
       "      <th>2884</th>\n",
       "      <td>23</td>\n",
       "      <td>86332</td>\n",
       "      <td>4.0</td>\n",
       "    </tr>\n",
       "    <tr>\n",
       "      <th>3860</th>\n",
       "      <td>37</td>\n",
       "      <td>34048</td>\n",
       "      <td>4.0</td>\n",
       "    </tr>\n",
       "  </tbody>\n",
       "</table>\n",
       "</div>"
      ],
      "text/plain": [
       "      userId  movieId  rating\n",
       "1175      15    59315     2.5\n",
       "2328      19    59315     4.5\n",
       "2866      23    59315     5.0\n",
       "2884      23    86332     4.0\n",
       "3860      37    34048     4.0"
      ]
     },
     "execution_count": 19,
     "metadata": {},
     "output_type": "execute_result"
    }
   ],
   "source": [
    "#Filtering out users that have watched movies that the input has watched and storing it\n",
    "userSubset = ratings_df[ratings_df['movieId'].isin(inputMovies['movieId'].tolist())]\n",
    "userSubset.head()"
   ]
  },
  {
   "cell_type": "markdown",
   "metadata": {
    "button": false,
    "new_sheet": false,
    "run_control": {
     "read_only": false
    }
   },
   "source": [
    "We now group up the rows by user ID.\n"
   ]
  },
  {
   "cell_type": "code",
   "execution_count": 20,
   "metadata": {
    "button": false,
    "new_sheet": false,
    "run_control": {
     "read_only": false
    }
   },
   "outputs": [],
   "source": [
    "#Groupby creates several sub dataframes where they all have the same value in the column specified as the parameter\n",
    "userSubsetGroup = userSubset.groupby(['userId'])"
   ]
  },
  {
   "cell_type": "markdown",
   "metadata": {
    "button": false,
    "new_sheet": false,
    "run_control": {
     "read_only": false
    }
   },
   "source": [
    "Let's look at one of the users, e.g. the one with userID=1130.\n"
   ]
  },
  {
   "cell_type": "code",
   "execution_count": 21,
   "metadata": {
    "button": false,
    "new_sheet": false,
    "run_control": {
     "read_only": false
    }
   },
   "outputs": [
    {
     "data": {
      "text/html": [
       "<div>\n",
       "<style scoped>\n",
       "    .dataframe tbody tr th:only-of-type {\n",
       "        vertical-align: middle;\n",
       "    }\n",
       "\n",
       "    .dataframe tbody tr th {\n",
       "        vertical-align: top;\n",
       "    }\n",
       "\n",
       "    .dataframe thead th {\n",
       "        text-align: right;\n",
       "    }\n",
       "</style>\n",
       "<table border=\"1\" class=\"dataframe\">\n",
       "  <thead>\n",
       "    <tr style=\"text-align: right;\">\n",
       "      <th></th>\n",
       "      <th>userId</th>\n",
       "      <th>movieId</th>\n",
       "      <th>rating</th>\n",
       "    </tr>\n",
       "  </thead>\n",
       "  <tbody>\n",
       "    <tr>\n",
       "      <th>105000</th>\n",
       "      <td>1130</td>\n",
       "      <td>59315</td>\n",
       "      <td>1.0</td>\n",
       "    </tr>\n",
       "    <tr>\n",
       "      <th>105028</th>\n",
       "      <td>1130</td>\n",
       "      <td>69122</td>\n",
       "      <td>2.5</td>\n",
       "    </tr>\n",
       "    <tr>\n",
       "      <th>105096</th>\n",
       "      <td>1130</td>\n",
       "      <td>86332</td>\n",
       "      <td>2.0</td>\n",
       "    </tr>\n",
       "  </tbody>\n",
       "</table>\n",
       "</div>"
      ],
      "text/plain": [
       "        userId  movieId  rating\n",
       "105000    1130    59315     1.0\n",
       "105028    1130    69122     2.5\n",
       "105096    1130    86332     2.0"
      ]
     },
     "execution_count": 21,
     "metadata": {},
     "output_type": "execute_result"
    }
   ],
   "source": [
    "userSubsetGroup.get_group(1130)"
   ]
  },
  {
   "cell_type": "markdown",
   "metadata": {
    "button": false,
    "new_sheet": false,
    "run_control": {
     "read_only": false
    }
   },
   "source": [
    "Let's also sort these groups so the users that share the most movies in common with the input have higher priority. This provides a richer recommendation since we won't go through every single user.\n"
   ]
  },
  {
   "cell_type": "code",
   "execution_count": 22,
   "metadata": {
    "button": false,
    "new_sheet": false,
    "run_control": {
     "read_only": false
    }
   },
   "outputs": [],
   "source": [
    "#Sorting it so users with movie most in common with the input will have priority\n",
    "userSubsetGroup = sorted(userSubsetGroup,  key=lambda x: len(x[1]), reverse=True)"
   ]
  },
  {
   "cell_type": "markdown",
   "metadata": {
    "button": false,
    "new_sheet": false,
    "run_control": {
     "read_only": false
    }
   },
   "source": [
    "Now let's look at the first user.\n"
   ]
  },
  {
   "cell_type": "code",
   "execution_count": 23,
   "metadata": {
    "button": false,
    "new_sheet": false,
    "run_control": {
     "read_only": false
    }
   },
   "outputs": [
    {
     "data": {
      "text/plain": [
       "[(6157,\n",
       "          userId  movieId  rating\n",
       "  568538    6157     4232     1.5\n",
       "  568780    6157    34048     2.5\n",
       "  568893    6157    59315     2.5\n",
       "  568923    6157    64997     3.0\n",
       "  568941    6157    69122     3.5\n",
       "  569037    6157    86332     2.5),\n",
       " (6530,\n",
       "          userId  movieId  rating\n",
       "  612808    6530     4232     2.0\n",
       "  613524    6530    34048     3.5\n",
       "  613763    6530    59315     4.0\n",
       "  613820    6530    64997     3.5\n",
       "  613848    6530    69122     3.5\n",
       "  613993    6530    86332     3.5),\n",
       " (20804,\n",
       "           userId  movieId  rating\n",
       "  1934407   20804     4232     3.0\n",
       "  1934551   20804    34048     3.0\n",
       "  1934652   20804    59315     4.0\n",
       "  1934676   20804    64997     3.0\n",
       "  1934699   20804    69122     4.5\n",
       "  1934775   20804    86332     3.0)]"
      ]
     },
     "execution_count": 23,
     "metadata": {},
     "output_type": "execute_result"
    }
   ],
   "source": [
    "userSubsetGroup[0:3]"
   ]
  },
  {
   "cell_type": "markdown",
   "metadata": {
    "button": false,
    "new_sheet": false,
    "run_control": {
     "read_only": false
    }
   },
   "source": [
    "#### Similarity of users to input user\n",
    "\n",
    "Next, we are going to compare all users (not really all !!!) to our specified user and find the one that is most similar.\\\n",
    "We're going to find out how similar each user is to the input through the **Pearson Correlation Coefficient**. It is used to measure the strength of a linear association between the two variables. The formula for finding this coefficient between sets X and Y with N values can be seen in the image below.\n",
    "\n",
    "Why Pearson Correlation?\n",
    "\n",
    "Pearson correlation is invariant to scaling, i.e. multiplying all elements by a nonzero constant or adding any constant to all elements. For example, if you have two vectors X and Y, then, pearson(X, Y) == pearson(X, 2 \\* Y + 3). This is a pretty important property in recommendation systems because, for example, two users might rate two series of items totally differently in terms of absolute rates, but they would be similar users (i.e. with similar ideas) with similar rates in various scales .\n",
    "\n",
    "![alt text](https://wikimedia.org/api/rest_v1/media/math/render/svg/bd1ccc2979b0fd1c1aec96e386f686ae874f9ec0 \"Pearson Correlation\")\n",
    "\n",
    "The values given by the formula vary from r = -1 to r = 1, where 1 forms a direct correlation between the two entities (it means a perfect positive correlation) and -1 forms a perfect negative correlation.\n",
    "\n",
    "In our case, a 1 means that the two users have similar tastes while a -1 means the opposite.\n"
   ]
  },
  {
   "cell_type": "markdown",
   "metadata": {
    "button": false,
    "new_sheet": false,
    "run_control": {
     "read_only": false
    }
   },
   "source": [
    "We will select a subset of users to iterate through. This limit is imposed because we don't want to waste too much time going through every single user.\n"
   ]
  },
  {
   "cell_type": "code",
   "execution_count": 24,
   "metadata": {
    "button": false,
    "new_sheet": false,
    "run_control": {
     "read_only": false
    }
   },
   "outputs": [],
   "source": [
    "userSubsetGroup = userSubsetGroup[0:10000]"
   ]
  },
  {
   "cell_type": "markdown",
   "metadata": {
    "button": false,
    "new_sheet": false,
    "run_control": {
     "read_only": false
    }
   },
   "source": [
    "Now, we calculate the Pearson Correlation between input user and subset group, and store it in a dictionary, where the key is the user Id and the value is the coefficient.\n"
   ]
  },
  {
   "cell_type": "code",
   "execution_count": 25,
   "metadata": {
    "button": false,
    "new_sheet": false,
    "run_control": {
     "read_only": false
    },
    "scrolled": true
   },
   "outputs": [],
   "source": [
    "#Store the Pearson Correlation in a dictionary, where the key is the user Id and the value is the coefficient\n",
    "pearsonCorrelationDict = {}\n",
    "\n",
    "#For every user group in our subset\n",
    "for name, group in userSubsetGroup:\n",
    "    #Let's start by sorting the input and current user group so the values aren't mixed up later on\n",
    "    group = group.sort_values(by='movieId')\n",
    "    inputMovies = inputMovies.sort_values(by='movieId')\n",
    "    #Get the N for the formula\n",
    "    nRatings = len(group)\n",
    "    #Get the review scores for the movies that they both have in common\n",
    "    temp_df = inputMovies[inputMovies['movieId'].isin(group['movieId'].tolist())]\n",
    "    #And then store them in a temporary buffer variable in a list format to facilitate future calculations\n",
    "    tempRatingList = temp_df['rating'].tolist()\n",
    "    #Let's also put the current user group reviews in a list format\n",
    "    tempGroupList = group['rating'].tolist()\n",
    "    #Now let's calculate the pearson correlation between two users, so called, x and y\n",
    "    Sxx = sum([i**2 for i in tempRatingList]) - pow(sum(tempRatingList),2)/float(nRatings)\n",
    "    Syy = sum([i**2 for i in tempGroupList]) - pow(sum(tempGroupList),2)/float(nRatings)\n",
    "    Sxy = sum( i*j for i, j in zip(tempRatingList, tempGroupList)) - sum(tempRatingList)*sum(tempGroupList)/float(nRatings)\n",
    "    \n",
    "    #If the denominator is different than zero, then divide, else, 0 correlation.\n",
    "    if Sxx > 0 and Syy > 0:\n",
    "      \n",
    "        pearsonCorrelationDict[name] = Sxy/sqrt(Sxx*Syy)\n",
    "    else:\n",
    "        pearsonCorrelationDict[name] = 0\n"
   ]
  },
  {
   "cell_type": "code",
   "execution_count": 26,
   "metadata": {},
   "outputs": [
    {
     "data": {
      "text/plain": [
       "dict_items([(6157, 0.2075471698113216), (6530, 0.25697808437502445), (20804, 0.6981132075471691), (24874, 0.5046949386828395), (30771, -0.3646859721191216), (36946, 0.6376804093660599), (42438, 0.6301164651388237), (45232, -0.014560190658208001), (46750, 0.7985836518841521), (51287, 0.21520264493646457), (54212, 0.18355577455359023), (58040, 0.22509030421845364), (65908, 0.3820708742229554), (74985, 0.5611587602421327), (77738, 0.48463711111820856), (87907, 0.4758309514308862), (108213, 0.892752573112483), (112293, -0.111088444625541), (117248, -0.09712858623572153), (120519, 0.26667876121581063), (121309, 0.7329262651180467), (142730, 0.4941220250226691), (156725, 0.21251704297343013), (157690, 0.1615242910417859), (163118, 0.21279807063957248), (186680, -0.06662966046527602), (187463, 0.8795367562872938), (190114, 0.1535737792084868), (201670, 0.21365440436357994), (205892, 0.2928695358309708), (220231, 0), (224750, 0.5395415843971624), (227112, -0.05387724584403576), (232461, 0.061429511683400675), (233281, 0.18355577455358688), (237154, 0.41208169184606686), (243600, 0.2747211278973779), (245940, 0.17855051462249646), (120, 0.32824397594488597), (815, 0.025854384499749448), (1040, 0.43082021842766427), (1669, 0.35478743759345055), (1950, 0.22360679774997896), (2191, 0.10002470050673763), (3533, -0.08471737420873487), (3734, 0.37787109080322956), (4208, -0.06668313367115741), (4415, 0.9165785722292301), (4619, 0.8291561975888392), (4663, 0.2132007163556103), (5326, 0.0), (6199, 0.10341753799900515), (7278, -0.025854384499749448), (7403, 0.0), (7528, 0.10341753799900341), (8528, 0.03251280443811821), (8541, 0.6722139969935231), (8863, 0.7462025072446361), (9051, 0.7817876057249318), (9101, 0.23268946049775974), (11357, -0.24174688920761464), (11905, 0.17104186373205776), (11957, 0.546489312047197), (12076, 0.21516574145596748), (12728, 0.35478743759345055), (13444, 0.7824758900557423), (14257, -0.04029114820126661), (14532, 0.23652495839563228), (14795, 0.23836564731139792), (15010, 0.5321811563901737), (15209, 0.055670221426892506), (15961, 0.14744195615489958), (16489, 0.010072787050316672), (21982, 0.35478743759345055), (22018, -0.018844459036109134), (23437, 0.8342797655898927), (24518, 0.22268088570756212), (24728, 0.34247475971078717), (25129, 0.6205052279940235), (26516, 0.621682371141597), (27702, -0.7150969419341937), (29653, 0.24174688920761359), (29657, 0.30151134457776557), (29910, 0.32663728995924296), (30624, 0.3926095117785651), (31780, 0.0973123680201903), (31820, 0.41367015199601326), (32033, -0.27524094128158993), (32680, 0.8446530265013347), (32946, 0.3744291017607274), (33538, 0.10002470050673763), (34039, -0.47727272727272735), (34538, 0.04029114820126958), (35743, 0.17782168978975416), (35900, 0.11306675421666576), (35964, 0.9233784927694011), (36133, -0.14892084929531677), (38210, 0.24174688920761114), (38446, 0.10341753799900515), (38921, 0.4268050309394925), (38957, 0.6784005252999671), (39395, 0.36262033381142245), (39635, 0.8749999999999989), (39699, 0.23652495839563228), (40333, 0.77109960095606), (41049, -0.18463723646900004), (41478, 0.9756654533819858), (41931, 0.06579516949597777), (44892, 0.2528249484237156), (45221, -0.48995593493886536), (46403, 0.5056498968474312), (47351, 0.8662596863272832), (47648, -0.23268946049775974), (47882, 0.5506629323567828), (48098, 0.5026155365907212), (48431, -0.0973123680201903), (49324, 0.020515248496554266), (49435, 0.975665453381985), (50313, 0.07537783614444206), (50738, 0), (51033, 0.07537783614444206), (51920, 0.34247475971078717), (51992, -0.6718839161506837), (52673, 0.5439305007171322), (53735, 0.29261523994305927), (54133, 0.5026155365907212), (55961, 0.20695933859617982), (57474, 0.6375196739103995), (57935, 0.9517467718927236), (58061, 0.24174688920761359), (58874, -0.016448792373993274), (59037, -0.22116293423234415), (59122, 0.9174063600174063), (59853, 0.10660035817780515), (62056, 0.20728904939721118), (63217, -0.3221390769615828), (63839, 0.16261090889699678), (65067, 0.30151134457776557), (65727, 0.8000946913656642), (65856, -0.12309149097933499), (65868, 0.8427498280790521), (66435, 0.20343336780168483), (67345, 0.8017837257372749), (67412, 0.43082021842766427), (67776, -0.5056498968474312), (67805, -0.23652495839563228), (67834, 0.18018749253911168), (68204, 0.7207499701564467), (68783, -0.18463723646900004), (68958, 0.49236596391733994), (69564, 0.1410190187044421), (70042, 0.08513326956164871), (70987, 0.8291561975888465), (71268, 0.4264014327112206), (71442, 0.07537783614444085), (71491, 0.4271410714851655), (73406, 0.42137491403952604), (73419, -0.11320502839602517), (73546, 0.24174688920761114), (73725, 0.2528249484237156), (73942, 0.32663728995924324), (74551, 0.5026155365907212), (75180, 0.35388803656558104), (76149, 0.09049034574912868), (76246, 0.5558692667446449), (76732, 0.6398358790761193), (76891, -0.08574929257125571), (77911, 0.5056498968474312), (78824, 0.7045454545454524), (78869, -0.0820609939862229), (79870, 0.53339646091044), (80058, -0.25976703570649184), (80731, -0.5600091430810558), (82800, 0.5454545454545461), (83234, 0.18463723646900004), (84039, 0.5321811563901737), (84407, 0.41367015199601326), (85133, 0.5929270612815721), (85291, 0.12309149097932624), (85565, 0.5330017908890258), (86681, 0.39666441401095853), (86688, 0.725476250110013), (87926, 0.21976226824788342), (87947, 0.08869685939836158), (89793, 0.2872134789517772), (90862, 0.7435930486560295), (91926, -0.016448792373993274), (93296, 0.5640760748177669), (93717, 0.16116459280507792), (96305, -0.4000988020269508), (96701, 0.8461141122266447), (96736, 0.6398358790761193), (96765, 0.5958496916478647), (96884, 0.5056498968474312), (97064, 0.966987556830456), (98070, 0.24318672855696022), (99175, 0.36802480954720895), (99263, 0.1130667542166604), (100825, -0.10249879721504936), (100857, 0.2365249583956365), (101420, 0.5640760748177669), (101855, 0.20454545454545559), (103444, 0.534522483824849), (105736, 0.41367015199601326), (105787, 0.18463723646899702), (111288, 0.7462025072446361), (111780, 0.8668451156610756), (111865, 0.4556497642013066), (111894, 0.8000946913656642), (113089, 0.7860275773968697), (113386, 0.04445542244743933), (113802, 0.45826710689153777), (113822, 0.24174688920761114), (114707, 0.8662596863272832), (116283, -0.2773500981126146), (116411, 0.5625000000000056), (116728, 0.11379481553341257), (119986, 0.2638224265055445), (121033, 0.6578737003731289), (122546, 0.9534625892455917), (122858, 0.8000946913656642), (123109, -0.23836564731139792), (123210, 0.1903549091136619), (124616, 0.07537783614443604), (124631, 0.46690726310960073), (126532, 0.20695933859617982), (126655, -0.5640760748177669), (129075, 0.6722139969935225), (129225, 0.7472809217078012), (129638, 0.03077287274483138), (131150, 0.6375196739103995), (131796, -0.5112373581455444), (132300, 0.3386059696959042), (132751, 0.17782168978975416), (133019, 0.27524094128158993), (135635, 0.4923659639173312), (135877, -0.016448792373993274), (135971, 0.5938156952201644), (137234, 0.8291561975888392), (137767, 0.1130667542166604), (138276, 0.546489312047197), (138474, 0.8668451156610703), (138819, 0.5846845821518312), (138969, 0.6784005252999671), (139396, 0.527644853011086), (139414, 0.12949244257070228), (139758, 0.35478743759345005), (140334, 0.7237468644557461), (140615, 0.26382242650554394), (141533, 0.2889602459083509), (142555, 0.7655318158241115), (143637, 0.2453498730314743), (145425, 0.03077287274483138), (145964, 0.16116459280507792), (146116, 0.17782168978975416), (146269, 0.07537783614444206), (146327, 0.11714148253148408), (146685, 0.6784005252999671), (147003, 0.16261090889699673), (148423, 0.6407116072277494), (149135, 0.461367868865275), (149181, 0.17782168978975732), (149941, 0.37318224814267426), (150772, 0.5112373581455444), (151899, 0.968245836551853), (151986, 0.8427498280790521), (152692, 0.6375196739103995), (153243, 0.45826710689153793), (153266, 0.23836564731139792), (153441, -0.2843982294972586), (153880, -0.17571222379722717), (153902, 0.24174688920761114), (154598, 0.5441071875825098), (155273, -0.23268946049775815), (157266, 0.7406141278780146), (157267, 0.5056498968474312), (157673, 0.2872134789517772), (158048, 0), (158242, 0.6504436355879919), (159658, 0.9315516419063795), (159795, 0.23652495839563228), (160238, 0.8446530265013378), (161178, 0.2528249484237156), (161467, 0.07537783614444206), (161559, 0.011772040233699599), (161716, 0.16854996561581043), (162695, 0.2872134789517772), (163085, 0.33678176227801754), (164946, 0.24174688920761359), (165107, 0.022107884414269398), (166521, 0.12309149097933142), (166906, 0.8863636363636365), (167468, 0.5330017908890258), (167523, 0.18018749253911168), (167867, 0.2638224265055445), (168743, 0.734933902408299), (168834, 0.9307578419910316), (169154, 0.2769558547034999), (169681, 0.2843982294972586), (170012, 0.49788681843744087), (171530, 0.5112373581455444), (171801, 0.32663728995924324), (172955, -0.07537783614443604), (173765, 0.205191933573739), (176438, 0.10514994558491743), (177013, 0.18463723646899702), (178639, 0.4264014327112206), (178786, 0.43181818181818254), (179664, 0.8427498280790521), (180362, -0.04199193832168864), (180758, -0.23652495839563228), (181207, 0.9246547634003547), (182871, 0.4308202184276681), (182973, -0.33678176227801754), (183502, -0.34114411961050656), (184167, 0.0), (184217, 0.5910804632890476), (184262, 0.20695933859617957), (184396, -0.1846372364689981), (184688, 0.5504818825631799), (185430, 0.5929270612815721), (186439, -0.12309149097933499), (187193, 0.2667325346846326), (188068, 0.6744004873337616), (188776, 0.46334820431459306), (189256, 0.30151134457776285), (189490, 0.2638224265055423), (189807, 0.18463723646899702), (190088, -0.12309149097933142), (190419, 0.5056498968474312), (190424, 0.844653026501334), (190449, 0.43181818181818254), (190899, 0.07537783614443604), (191008, 0.4899559349388707), (191095, 0.07537783614443604), (191568, 0.20100756305184173), (191612, -0.12033741781803314), (192358, 0.7960029457578504), (192880, 0.11918282365569896), (193091, 0.8342797655898927), (194604, 0.6308996735095018), (194631, 0.4154337820552482), (195275, -0.025854384499749448), (195621, 0.7655318158241115), (195939, -0.0940126791362947), (197043, 0.2528249484237156), (197687, 0.8749999999999989), (198542, 0.8291561975888392), (198631, 0.559016994374947), (198956, 0.36196138299651287), (199909, 0.27524094128158993), (200118, 0.10002470050673763), (200659, 0.21976226824788342), (200880, 0.4432026302139557), (201146, -0.10341753799900515), (202727, 0.8000946913656642), (203882, -0.04029114820126958), (204518, 0.07537783614444085), (205864, 0.4154337820552482), (206690, 0.8461141122266492), (207526, 0.8251369970070366), (209100, 0.47673129462279584), (210348, 0.3576408488192957), (210519, -0.3015113445777641), (210899, 0.39192475766909735), (212021, 0.22591299788996108), (212331, 0.6205052279940235), (212505, -0.7655318158241115), (212511, 0.4432026302139597), (215057, 0.4591095691143111), (215144, 0.05567022142688987), (215174, 0.8000946913656596), (215777, -0.6396021490668309), (215897, 0.04445542244743933), (215987, 0.47673129462279584), (216211, 0.40824829046387145), (216212, 0.11306675421666576), (216540, 0.2638224265055445), (217983, 0.03711348095126077), (218381, 0.8278373543847152), (219000, 0.7456011350793258), (219038, 0.025854384499751307), (220369, 0.5056498968474312), (220570, 0.3440511766019875), (220705, 0.36262033381142245), (221260, 0.3957336397583132), (221453, 0.28896024590835157), (221732, 0.8528028654224412), (222002, 0.7051561380739445), (222874, -0.4264014327112206), (223638, 0.05567022142688987), (226232, -0.2843982294972586), (227614, 0.24174688920761464), (228254, 0.025854384499749448), (228911, 0.6223759142641412), (228926, 0.11306675421666199), (229208, 0.8790490729915327), (230891, 0.7385489458760012), (230909, 0.17782168978975416), (233460, 0.27429019252949705), (233606, 0.16116459280507633), (233616, 0.4432026302139557), (233744, 0.15357377920848783), (233904, 0.26382242650554394), (233919, 0.5520049508762932), (234563, 0.47727272727272535), (234980, 0.0973123680201903), (236209, -0.8291561975888392), (236267, 0.9296599791147719), (237172, 0.6223759142641412), (237483, 0.6030226891555268), (237539, 0.49236596391733034), (238069, 0.07945521577046598), (239034, 0.35478743759345055), (239662, 0.30012252399939193), (240856, 0.16116459280507792), (241135, 0.6800092553874444), (242868, 0.12309149097933142), (242889, 0.3329748276855721), (243182, 0.059131239598909126), (243645, 0.6375196739103995), (243688, 0.17782168978975416), (244631, 0.5964320793656578), (245674, 0.6446583712203019), (246105, 0.7385489458759997), (246533, 0.5429420744947678), (247081, 0.2499999999999984), (247084, 0.35478743759345055), (607, -0.8757549764126291), (707, 0.7171371656006361), (768, 0.8528028654224417), (1011, 0.5532833351724882), (1250, 0.3333333333333333), (1573, -0.038778336716474064), (1667, 0.8664002254439634), (1848, 0.0), (2452, 0.09759000729485333), (2514, 0.33510052044720356), (2569, 0.7644707871564383), (2787, 0.07559289460184544), (2964, 0.45454545454545453), (3186, 0.9506541513652698), (3309, 0.0), (3388, 0.22677868380553634), (3508, 0.8451542547285166), (3720, 0.47886115464444223), (3817, 0.8783100656536799), (4099, 0.516540885435685), (4193, 0.9045340337332909), (4280, -0.8664002254439634), (4586, -0.13483997249264842), (4588, 0.17407765595569785), (4733, 0.23904572186687872), (5025, 0.6625413488689132), (5104, 0.581675050747111), (5131, 0.5428571428571428), (5133, 0.2817180849095055), (5327, 0.6847623832623259), (5336, 0.6625413488689132), (5547, 0.8783100656536799), (5576, 0.953747635118964), (5630, 0.07559289460184544), (5933, -0.27144835701531844), (5972, 0.47809144373375745), (6127, -0.23904572186687872), (6569, 0.09759000729485333), (6601, 0.7483314773547882), (6701, 0.23904572186687872), (6979, 0.0), (7220, 0.7171371656006361), (7301, 0.0), (7982, 0.2), (8360, 0.8783100656536799), (8519, 0.8451542547285166), (8909, 0.23904572186687872), (9214, 0.6831300510639732), (9528, 0.5606119105813882), (10088, 0.5291502622129182), (10298, 0.4265617038812147), (10565, 0.9561828874675149), (10580, 0.0), (10986, -0.050964719143762556), (11040, 0.9091237672046559), (11098, 0.7142857142857143), (11422, 0.47809144373375745), (11539, 0.6625413488689132), (11568, 0.09759000729485333), (11584, -0.8451542547285166), (11592, 0.8783100656536799), (11703, 0.22677868380553634), (12120, -0.6831300510639733), (12469, 0), (12542, 0.23904572186687872), (13154, 0.03138824102871723), (13204, -0.42640143271122083), (13404, 0.1690308509457033), (13810, -0.8664002254439634), (14385, -0.11834526708278771), (14588, 0.6831300510639733), (14703, 0.50709255283711), (14943, 0.8703882797784892), (15017, -0.0563436169819011), (15030, 0.6390644422470536), (15267, 0.7171371656006361), (15387, 0.9393939393939394), (15504, 0.3490050304482666), (15685, 0.30151134457776363), (15729, 0.47809144373375745), (15821, 0.760885910252682), (15895, 0.23904572186687872), (16138, -0.29277002188455997), (16382, 0.5222329678670935), (16399, 0.2), (16456, 0.23570226039551587), (16506, -0.2548235957188128), (16583, 0.23904572186687872), (16615, 0.3490050304482666), (16739, -0.32071349029490925), (16815, 0.6414269805898185), (17281, 0.2), (17498, 0.680336051416609), (17695, 0.50709255283711), (17746, 0.09759000729485333), (18051, 0.8451542547285166), (18209, 0.581675050747111), (18372, 0.6324555320336759), (18512, 0.7385489458759964), (18658, 0.609449400220044), (20115, 0.680336051416609), (20154, 0.42640143271122083), (20265, 0.680336051416609), (20278, 0.09759000729485333), (20640, -0.2548235957188128), (21128, 0.0), (21441, -0.29277002188455997), (21748, -0.09759000729485331), (21819, -0.9561828874675149), (21985, 0.23904572186687872), (22055, 0.09759000729485333), (22164, 0.42640143271122083), (22394, 0.2548235957188128), (22398, 0.5291502622129182), (22485, -0.06629935441317959), (23250, 0.42640143271122083), (23332, 0), (23534, 0.09759000729485333), (23652, 0.6831300510639733), (23670, -0.7171371656006361), (23709, -0.29277002188455997), (23720, 0.7385489458759964), (23742, 0.24206536647461385), (23843, 0.5291502622129182), (23871, 0.8451542547285166), (24291, 1.0), (24567, 0.6625413488689132), (24602, -0.6831300510639733), (24763, 0.6625413488689132), (24917, -0.2), (25090, 0.5606119105813882), (25285, -0.29277002188455997), (25449, 0.33510052044720356), (25769, 0.33510052044720356), (25944, 0.8451542547285166), (26125, 0.30151134457776363), (26420, -0.27144835701531844), (26452, 0.45454545454545453), (26474, 0.4723774929733302), (26615, 0.09759000729485333), (27030, 0.22152441025819233), (27332, 0.09759000729485333), (28191, 0.19813298130565876), (28670, 0.8451542547285166), (28757, -0.17407765595569785), (28946, -0.09759000729485333), (29037, -0.23904572186687872), (29118, 0.8528028654224418), (29300, 0.8451542547285166), (29447, 0.8528028654224417), (29497, -0.8451542547285166), (29773, 0.8919017444789035), (29844, -0.8783100656536799), (30223, 0.8664002254439634), (30663, 0.9578414886923188), (30721, 0.1690308509457033), (30758, 0.6831300510639732), (30995, -0.050964719143762556), (31155, 0.09759000729485333), (31460, 0.47809144373375745), (31614, 0.37796447300922725), (31831, 0.5118906968889915), (32000, -0.4857142857142857), (32830, 0.47809144373375745), (33065, 0.41403933560541256), (34018, 0.19738550848793068), (34521, 0.5606119105813882), (34830, 0.23904572186687872), (34981, 0.42640143271122083), (35189, 0), (35887, 0.8451542547285166), (36018, -0.37796447300922725), (36089, 0.9462555234916723), (36199, -0.2548235957188128), (36608, 0.674199862463242), (36679, 0.8451542547285166), (36890, 0.5773502691896258), (37030, 0.050964719143762556), (37166, 0.11033545687347408), (37244, 0.09759000729485333), (37333, 0.9561828874675149), (37528, -0.09759000729485333), (37749, 0.8783100656536799), (38004, 0.24206536647461385), (38035, 0.2817180849095055), (38154, 0.6900655593423543), (38450, 0.07559289460184544), (38647, 0.4023739080814782), (39100, 0.09090909090909091), (39123, 0.7171371656006361), (39142, 0.34554737023254406), (39382, 0.9561828874675149), (39827, -0.050964719143762556), (39994, -0.10337805812048977), (40129, 0.9683296637314885), (40336, 0.4738840450125853), (40568, 0.7071067811865475), (40946, 0.9561828874675149), (41468, -0.6831300510639733), (41570, 0.23904572186687872), (41890, 0.5291502622129182), (42014, -0.11065666703449763), (42196, 1.0), (42491, -0.27477403519260085), (42734, 0.4543694673976518), (43008, 0.581675050747111), (43450, 0.32071349029490925), (43514, 0.9045340337332909), (43559, 0.15289415743128767), (43584, -0.2277100170213244), (43618, 0.5), (43622, 0.659231724180059), (43768, -0.37796447300922725), (43884, -0.3682298471593294), (44027, 0.7810787627463989), (44088, 0.5606119105813882), (44232, 0.0), (44585, 0.8783100656536799), (44758, 0.47809144373375745), (44902, -0.50709255283711), (44911, 0.4923659639173309), (45216, 0.5291502622129182), (45474, 0.899228803025897), (45729, 0.6625413488689132), (45933, 0.13483997249264842), (46035, 0.5606119105813882), (46455, 0.8058229640253802), (46670, -0.2548235957188128), (46770, 0.7810787627463989), (47117, -0.29277002188455997), (47462, 0.09759000729485333), (47586, 0.5532833351724882), (47897, 0.9428571428571428), (47900, 0.5428571428571428), (47919, 0.6831300510639732), (47926, 0.6831300510639733), (47957, 0.9367701261733566), (48072, 0.09759000729485333), (48087, 0.8783100656536799), (48162, 0.8528028654224417), (48568, 0.9045340337332909), (48596, 0.09759000729485333), (48666, 0.9683296637314885), (49485, 0.581675050747111), (49589, 0.09759000729485333), (49779, 0.7745966692414834), (49807, -0.1690308509457033), (49883, 0.42640143271122083), (49909, 0.581675050747111), (50183, 0.8783100656536799), (50238, 0.9230930832457441), (50259, -0.058025885318565944), (50535, -0.29277002188455997), (50699, -0.47809144373375745), (50877, 0.7142857142857143), (51159, 0.8703882797784892), (51513, 0.42640143271122083), (52067, 0.47809144373375745), (52575, 0.581675050747111), (52641, 0.47809144373375745), (52754, 0.6381723297967092), (52815, 0.10337805812048977), (52969, 0.8703882797784892), (53168, 0.9534625892455924), (53283, 0.09759000729485333), (53350, -0.07559289460184544), (53361, 0.6831300510639733), (53368, 0.4857142857142857), (53489, 0.42640143271122083), (53957, 0.502518907629606), (54059, 0.6831300510639733), (54322, 0.8451542547285166), (55061, -0.8164965809277261), (55164, 0.5057805388588731), (55221, 0.8451542547285166), (55445, 1.0), (55599, -0.5520524474738834), (55956, 0.5222329678670935), (56201, 0.8703882797784892), (56606, 0.07559289460184544), (56705, 0.8664002254439634), (56914, 0.8783100656536799), (57083, 0.6622661785325219), (57117, 0.8164965809277261), (57305, 1.0), (57331, 0.5606119105813882), (57604, 0.9683296637314885), (57812, 1.0), (58296, 0.47809144373375745), (58565, 0.8280786712108251), (58708, 0.6414269805898185), (59011, 0.3244428422615251), (59062, 0.9428571428571428), (59201, 0.47809144373375745), (59257, 0.23904572186687872), (59489, 0.9561828874675149), (59584, 0.9561828874675149), (59916, -0.07733088933397006), (59949, 0.7035264706814485), (59970, 0), (59987, 0.38360787696567333), (60052, 0.2817180849095055), (60090, 0.17782168978975482), (60329, 0.5291502622129182), (60472, 0.41403933560541256), (60514, 0.23904572186687872), (60734, 0.7337406559132839), (60769, 0.5291502622129182), (60933, 0.7029019463944166), (60943, 0.9561828874675149), (61084, 0.9045340337332909), (61763, 0.9220108971042064), (61821, 0.09759000729485333), (61957, 0.09090909090909091), (61991, -0.31622776601683794), (62076, 0.9683296637314885), (62718, 0.5941604449831431), (63319, 0.30151134457776363), (63468, -0.6625413488689132), (63572, 0.19389168358237033), (63978, 0.09759000729485333), (64042, 0.8757549764126291), (64050, 0.47809144373375745), (64314, 0.09035079029052513), (64720, -0.17407765595569785), (65168, 0.9045340337332909), (65268, -0.17407765595569785), (66096, 0.09759000729485333), (66206, 0.9045340337332909), (66558, 0.8783100656536799), (67204, 0.7606953970487937), (67300, 0.9683296637314885), (67440, 0.29277002188455997), (67538, 0.6831300510639733), (67874, 1.0), (67945, 0.33510052044720356), (67951, -0.1690308509457033), (68216, -0.8703882797784892), (68389, 0.09759000729485333), (68765, -0.2548235957188128), (68820, 0.05855400437691199), (68822, 0.8703882797784892), (68891, 0.2548235957188128), (68930, 0.8528028654224417), (69157, 0.6197797868009122), (69221, 0.5222329678670935), (69320, 0.9462555234916723), (69563, 0.33510052044720356), (69705, 0.680336051416609), (69721, 0.6897007348075542), (69945, 0.9902674083052385), (70065, -0.2548235957188128), (70088, 0.45454545454545453), (70504, -0.2760262237369417), (70605, 0.038778336716474064), (70707, -0.5421047417431508), (71009, 0.5222329678670935), (71115, 0.7810787627463989), (71137, 0.41403933560541256), (71536, 0.7302967433402214), (71654, 0.5606119105813882), (71740, 0.4629100498862757), (72223, 0.23904572186687872), (72870, 0.0), (73244, -0.09759000729485331), (73585, 0.5606119105813882), (73697, 0.6363636363636364), (73758, 0.09090909090909091), (73908, 0.9683296637314885), (73925, 0.09759000729485333), (73999, 0.3289758474798845), (74293, 0.7644707871564383), (74546, 0.9561828874675149), (74653, 0.0), (74752, 0.7810787627463989), (75057, 0.5291502622129182), (75061, 0.29277002188455997), (75161, 0.2548235957188128), (75422, 0.6374552583116766), (75556, 0.8164965809277261), (75701, 0.7745966692414834), (76105, 0.6625413488689132), (76417, 0.29277002188455997), (76577, 0.5606119105813882), (76634, 0.8278373543847156), (76715, 0.33510052044720356), (76735, 0.8451542547285166), (76778, -0.29277002188455997), (76868, 0.674199862463242), (76973, 0.8664002254439634), (77159, 0.8392740627357385), (77447, -0.2760262237369417), (77504, 0.0), (77575, 0.38388594797495723), (77929, 0.8919017444789035), (78095, 0.8451542547285166), (78409, 0.8451542547285166), (78445, -0.09035079029052513), (78582, 0.8664002254439634), (78766, 0.6831300510639733), (78782, -0.47809144373375745), (78785, 0.9045340337332909), (78883, 0.3490050304482666), (79014, 0.8528028654224417), (79872, 0.6831300510639732), (80417, 0.6831300510639733), (80485, 0.5), (80652, -0.37796447300922725), (80771, 0.6831300510639732), (81006, 0.8866206949335731), (81016, 0.24370871833797697), (81095, 0.19813298130565876), (81638, 0.899228803025897), (81692, 0.8528028654224418), (81743, 0.6969320524371696), (82061, 0.8528028654224418), (82066, 0.9733285267845753), (82164, 0.8506397826736706), (82409, 0.47809144373375745), (82466, -0.1690308509457033), (82737, -0.24372916412910234), (82966, 0.3333333333333333), (83512, 0.9045340337332909), (83636, 1.0), (83668, 0.5606119105813882), (83738, 0.7171371656006361), (84077, 0.47809144373375745), (84398, -0.2684552668084303), (84626, -0.1690308509457033), (84914, 0.760885910252682), (85515, -0.47809144373375745), (85987, 0.9683296637314885), (86155, 0.23904572186687872), (86193, -0.2548235957188128), (86658, 0.5773502691896258), (86702, 0.6414269805898185), (86815, 0.7324670207647144), (86904, 0.4955194317297256), (87225, 0.41403933560541256), (87697, -0.28957897267750127), (87847, -0.5222329678670935), (88061, 0.5222329678670935), (88282, 0.014768294017212823), (88296, 0.795592252958155), (88406, 0.9683296637314885), (88612, 0.5606119105813882), (89379, -0.22677868380553634), (89506, 0.36140316116210053), (89822, 0.9945577827230724), (89918, -0.02577696311132335), (90039, 0.1690308509457033), (90197, 0.5606119105813882), (90496, -0.17407765595569785), (90613, 0.7171371656006361), (90834, 0.9534625892455924), (90904, 0.50709255283711), (91160, 0.22677868380553634), (91291, 0.6831300510639733), (91664, 0.8783100656536799), (91919, 0.057977103565244846), (91951, 0.8451542547285166), (92094, 0.8451542547285166), (92440, 0.8164965809277261), (92818, 0.6197797868009122), (92879, 0.47809144373375745), (92965, 0.8819171036881969), (93134, 0.5520524474738834), (93292, 0.41403933560541256), (93454, 0.23904572186687872), (93520, -0.1690308509457033), (93569, 0.5520524474738834), (93817, 0.3490050304482666), (94166, 0.5222329678670935), (94309, -0.31622776601683794), (94441, 0.47809144373375745), (95136, 0.07559289460184544), (95569, 0.5), (95719, 0.5606119105813882), (95817, 0.17407765595569785), (96218, 0.816496580927726), (96372, 0.5520524474738834), (96685, -0.8703882797784892), (96997, 0.2130214807490179), (97071, 0.5291502622129182), (97095, -0.50709255283711), (97350, 0.7385489458759964), (97478, 0.30151134457776363), (97709, 0.5764287198883955), (97775, 0.42640143271122083), (97893, 0.17407765595569785), (98146, 0.23544080467400555), (98638, 0.02857142857142857), (98870, 0.2886751345948129), (99574, -0.29277002188455997), (99756, 0.8451542547285166), (99836, 0.07559289460184544), (99992, 0.23904572186687872), (100075, 0.7644707871564383), (100316, 0.9561828874675149), (100372, 0.3490050304482666), (100550, 0.6625413488689132), (100558, -0.47809144373375745), (100596, 0.8857142857142857), (100827, 0.8528028654224417), (101272, 0.8528028654224417), (101892, -0.13801311186847084), (102404, 0.8552359741197579), (102426, -0.07733088933397006), (102448, 0.29277002188455997), (102554, -0.27144835701531844), (103233, 0.8783100656536799), (103734, 0.50709255283711), (103798, 0.17407765595569785), (104481, 0.7475319302283772), (104571, 0.30151134457776363), (104860, 0.09759000729485333), (105062, 0.6381723297967092), (105065, 0.47809144373375745), (105359, 0.40804713337332393), (105394, -0.47809144373375745), (105420, 0.4181129057288785), (105467, 0.1841149235796647), (105965, 0.29277002188455997), (106009, 0.9433700705169153), (106257, 0.09759000729485331), (106268, -0.07559289460184544), (106293, 0.6831300510639732), (106446, 0.9694584179118516), (106460, 0.5222329678670935), (106743, 0.5773502691896258), (106745, 0.47809144373375745), (106824, -0.07207499701564471), (106842, 0.2548235957188128), (106888, 0.9438798074485389), (107047, 0.2548235957188128), (107081, 0.7702079842374077), (107297, -0.13801311186847084), (107538, 0.8451542547285166), (107552, 0.581675050747111), (107714, 0.8021806287494233), (107891, 0.9733285267845753), (107998, 0.581675050747111), (108140, 0.7627700713964739), (108199, 0.6625413488689132), (108281, 0.8866206949335731), (108322, 0.5606119105813882), (108353, 0.6414269805898185), (108915, 0.8280786712108251), (108959, -0.2548235957188128), (108969, 0.9683296637314885), (109823, 0.6625413488689132), (109990, 0.7789240586062484), (110129, 0.3458572319330373), (110258, 0.23570226039551587), (110259, 0.5606119105813882), (110273, 0.6831300510639732), (111217, 0.9433700705169153), (111223, 0.8783100656536799), (111257, 0.09759000729485333), (111336, 0.8552359741197579), (111895, -0.50709255283711), (111959, 0.09759000729485331), (112202, 0.6390644422470536), (112747, 0.30151134457776363), (112777, 0.5606119105813882), (112778, 0.7969722925954422), (112805, 0.0), (112835, 0.09759000729485331), (113290, 0.9683296637314885), (113543, 0.33510052044720356), (113598, 0.8021806287494233), (113630, 0.8451542547285166), (113703, 0.581675050747111), (114054, 0.5606119105813882), (114229, 0.5883484054145521), (114430, 0.7171371656006361), (114478, 0.581675050747111), (114613, 0.23904572186687872), (114687, 0.5291502622129182), (114724, -0.24372916412910234), (114930, 0.6831300510639733), (115339, -0.29554023164452436), (115383, 0.27144835701531844), (115527, 0.47809144373375745), (115817, 0.6831300510639733), (115874, -0.1690308509457033), (115879, 0.6363636363636364), (116090, 0.09759000729485331), (116105, -0.5606119105813882), (116613, 0.9694584179118516), (116664, 0.29277002188455997), (116822, 0.8283812762533432), (116964, 0.6831300510639733), (117194, -0.6625413488689132), (117254, 0.8451542547285166), (117509, 0.8451542547285166), (117840, 1.0), (118381, 0.7483314773547882), (118766, 0.8703882797784892), (119667, 0.6831300510639733), (119877, 0.816496580927726), (120314, 0.5606119105813882), (121160, 0.50709255283711), (121432, 0.0), (121742, 0.6831300510639733), (121868, 0.7543365091413573), (121896, 0.42192650784464586), (122043, -0.6831300510639733), (122445, 0.2548235957188128), (122770, 0.9438798074485389), (122997, 0.3682298471593294), (123228, 0.2869720215917757), (123323, 0.14414999403128942), (123559, 0.15947323018612514), (123575, -0.2805975863270436), (123654, 0.39391929857916763), (123883, 0.0), (124035, 0.2927700218845599), (124068, 0), (124205, 0.680336051416609), (124227, 0.47809144373375745), (124274, 0.7735449421179451), (124336, 0.8451542547285166), (124391, 0.9438798074485389), (124421, 0.42640143271122083), (124762, 0.6831300510639733), (124870, -0.8043996665398437), (125182, 0.6831300510639732), (125232, 0.8703882797784892), (125244, 0.8664002254439634), (125446, 0.50709255283711), (125814, 0.09759000729485331), (126020, 0), (126278, -0.7171371656006361), (126724, -0.8164965809277261), (127038, 0.0), (127384, -0.7029019463944166), (127519, 0.0), (127872, 0.14064216928154863), (128068, -0.2130214807490179), (128616, 0.8745575889338378), (129007, 0.7278602642426106), (129023, 0.4265617038812147), (129104, 0.8451542547285166), (129203, 0.9561828874675149), (129413, 0.9173460685716212), (129693, 0.36920735043032055), (129853, -0.22360679774997896), (129893, 0.6897007348075542), (129894, 0.29277002188455997), (129928, 0.09759000729485333), (130090, 0.8181818181818182), (130320, 0.058025885318565944), (130413, 0.23904572186687872), (130643, 0.8285714285714286), (130675, 0.6428243465332251), (130719, 0.8451542547285166), (130779, 0.0), (130810, 0.8783100656536799), (130958, 0.5428571428571428), (131073, 0.8783100656536799), (131255, 0.680336051416609), (131372, 0.31622776601683794), (131635, 0.5773502691896258), (131758, 0.50709255283711), (132030, 0.2130214807490179), (132287, 0.41403933560541256), (132513, 0.9683296637314885), (132584, 0.9694584179118516), (132669, 0.6446583712203042), (132894, 0.0), (133038, -0.07559289460184544), (133099, 0.09759000729485333), (133221, 0.6831300510639733), (133383, 0.0), (133389, 0.41403933560541256), (133841, 0.6622661785325219), (134026, 0), (134030, -0.09759000729485331), (134185, 0.0631697948772702), (134275, 0.45175395145262565), (134416, 0.050964719143762556), (134816, 0.2548235957188128), (134855, 0.0), (134859, 0.8143450710459553), (135220, 0.10337805812048977), (135674, 0.4749593181995305), (135812, 0.502518907629606), (136216, 0.48420012470625223), (136325, 0.09759000729485333), (136579, 0.9428571428571428), (136697, 0.9683296637314885), (136809, 0.0), (137029, -0.2130214807490179), (137059, 0.9660917830792959), (137061, 0.5606119105813882), (137109, -0.18585364625199022), (137344, 0.5606119105813882), (137409, 0.5222329678670935), (137419, 1.0), (138946, 0.09759000729485333), (138980, -0.6625413488689132), (139250, 0.6488856845230502), (139252, -0.50709255283711), (139300, 0.47809144373375745), (139361, 0.9561828874675149), (139599, -0.09759000729485331), (140845, 0.29277002188455997), (140904, 0.09759000729485333), (140929, 0.6103679378930738), (140977, 0.09759000729485331), (140998, 0.02577696311132335), (141433, 0.27144835701531844), (142129, 0.8783100656536799), (142310, 0.17149858514250882), (142563, 0.6488856845230502), (142822, 0.2869720215917757), (142943, 0.19389168358237033), (143271, -0.5606119105813882), (143353, 0.27144835701531844), (144049, -0.2548235957188128), (144131, 0.8451542547285166), (144298, 0.7481900559272088), (144358, 0.3490050304482666), (144429, 0.3490050304482666), (144517, -0.7923659527365037), (144786, 0.1690308509457033), (144885, 0.9045340337332909), (145069, -0.29277002188455997), (145136, 0.516540885435685), (145213, 0.09759000729485331), (145318, 0.8451542547285166), (145467, 0.9683296637314885), (145655, 0.8866206949335731), (145983, 0.5532833351724882), (146331, 0.6831300510639733), (146474, -0.09759000729485331), (146509, -0.050964719143762556), (146818, 0.23904572186687872), (147641, 0.7481900559272088), (147654, 0.41403933560541256), (148158, -0.6831300510639733), (148701, 0.5606119105813882), (148712, 0.8703882797784892), (148766, -0.8783100656536799), (149052, 0.787295821622217), (149250, 0.29277002188455997), (149395, 0.6831300510639733), (149494, 0.8783100656536799), (149786, 0.8164965809277261), (150009, 0.7644707871564383), (150198, -0.31622776601683794), (150342, 0.6288082227054204), (150373, 0.50709255283711), (150374, 0.8164965809277261), (150422, 0.8919017444789035), (150713, 0.6381723297967092), (150892, 0.37796447300922725), (151018, 0.1690308509457033), (151040, 0.7627700713964739), (151330, 0.4749593181995305), (151615, -0.13483997249264842), (151708, 0.4897622991151437), (151881, 0.9683296637314885), (151991, 0.680336051416609), (152224, 0.41403933560541256), (152244, 0.5222329678670935), (152305, 0.48420012470625223), (152390, -0.17407765595569785), (152489, 0.39605901719066977), (152536, 0.2548235957188128), (152538, 0.8451542547285166), (152828, -0.1690308509457033), (153023, 0.5606119105813882), (153330, 0), (153628, 0.038778336716474064), (153725, 0.9561828874675149), (153853, -0.47809144373375745), (153978, 0), (153993, 0.6363636363636364), (154645, 0.8315218406202999), (154775, 0.5773502691896258), (155039, 0.8143450710459553), (155040, 0.2869720215917757), (155118, 0.09759000729485333), (155188, 0.9486832980505138), (155251, -0.816496580927726), (155336, 0.899228803025897), (155352, 0.674199862463242), (155530, 0.8528028654224417), (155852, -0.5606119105813882), (155951, 0.8664002254439634), (156114, -0.050964719143762556), (156121, 0.29277002188455997), (156656, -0.19802950859533489), (156716, 0.5222329678670935), (156726, 0.10690449676496974), (156815, 0.18070158058105026), (156877, 0.6831300510639733), (156966, 0.5118906968889915), (157190, 0.27144835701531844), (157303, 0.8388704928078611), (157441, 0.9621404708847278), (157553, 0.5183283675405558), (157631, 0.47809144373375745), (157768, -0.23904572186687872), (157906, 0.23904572186687872), (158088, 0.5222329678670935), (158167, 0.16116459280507606), (158530, 0.464420364012824), (158548, -0.47809144373375745), (158573, -0.2548235957188128), (158622, 0.17407765595569785), (158708, 0.48420012470625223), (159251, 1.0), (159690, 0.41403933560541256), (159823, -0.29277002188455997), (160093, 0.8783100656536799), (160307, 0.8451542547285166), (160402, 0.6831300510639733), (160640, -0.29277002188455997), (160855, 0.3799802978286742), (160857, 0.0), (160899, 0.7071067811865475), (161318, 0.1841149235796647), (161490, 0.5606119105813882), (161758, 0.8142198690509739), (161813, 0.8439373293244814), (161848, -0.07559289460184544), (161985, 0.33510052044720356), (162517, 0.9578414886923188), (162993, 0.9847319278346618), (163218, 0.8451542547285166), (163258, 0.8664002254439634), (163486, 0.09759000729485331), (163540, 0.28354659422455686), (164040, 0.6831300510639732), (164337, -0.1690308509457033), (164742, 0.9683296637314885), (164850, 1.0), (164890, 0.7644707871564383), (164908, 0.9864400504156211), (165042, 0.41403933560541256), (165357, 0.899228803025897), (165943, 0.5345224838248488), (166029, 0.8664002254439634), (166325, 0.36920735043032055), (166554, 0.47809144373375745), (166566, 0.7644707871564383), (166654, 0.8703882797784892), (166700, 0.3333333333333333), (166819, 0.23904572186687872), (166879, 0.23904572186687872), (167087, 0.24712082528608617), (167100, 0.8451542547285166), (167260, 0.959759918866168), (167342, 0.8528028654224417), (167389, 0.9578414886923188), (167479, -0.07559289460184544), (167530, 0.9683296637314885), (167538, 0.1690308509457033), (167543, 0.6625413488689132), (168240, 0.42640143271122083), (168261, -0.2277100170213244), (168369, 0.47809144373375745), (168431, 0.8703882797784892), (168907, 0.8451542547285166), (169491, 0.6831300510639733), (169555, 0.41403933560541256), (169570, 0.5222329678670935), (169892, 0.7627700713964739), (169945, 0.7302967433402214), (170036, 0.6225430174794672), (170309, -0.16452254913212452), (170376, -0.6225430174794672), (170558, 0.8703882797784892), (170860, 0.6363636363636364), (170960, 0.8783100656536799), (171098, 0.0), (171510, 0.9902674083052385), (172093, 0.5), (172292, -0.2548235957188128), (172321, 0.7810787627463989), (172697, 0.09759000729485333), (172701, -0.4077954358702776), (172869, 0), (173010, -0.15289415743128767), (173650, 0.9561828874675149), (173737, 0.5501485601695769), (173809, 0.9621404708847278), (174147, 0.8143450710459553), (174464, 0.6625413488689132), (174520, -0.42640143271122083), (174765, 0.0), (174942, 0.17407765595569785), (175114, 0.5606119105813882), (175179, 0.47809144373375745), (175192, 0.8451542547285166), (175572, 0.47809144373375745), (175681, 0.8703882797784892), (175748, 0.8783100656536799), (175775, 0.09759000729485333), (175934, 0.6831300510639732), (176020, 0.8664002254439634), (176044, -0.050964719143762556), (176214, 0.7292928985449755), (176285, 0.0), (176369, 0.7171371656006361), (176736, 0.5), (176991, 0.8664002254439634), (177048, 0.8451542547285166), (177378, 0.0), (177440, -0.050964719143762556), (177525, 0.3490050304482666), (177566, 0.8528028654224417), (177691, 0), (177723, 0.09759000729485331), (177781, 0.9710607611177229), (178103, -0.11002971203391539), (178408, 0.3244428422615251), (178626, -0.2548235957188128), (178838, 0.9045340337332909), (178879, 0.6831300510639732), (178939, 0.8280786712108251), (179384, -0.8783100656536799), (179625, 0.47809144373375745), (179814, 0.0), (179949, 0.7644707871564383), (180191, 0.5222329678670935), (180770, 0.9428571428571428), (180860, -0.1690308509457033), (180864, 0.5606119105813882), (181008, 0.5183283675405558), (181170, -0.5606119105813882), (181617, 0.9694584179118516), (181857, 0.6831300510639733), (181986, 0.6324555320336759), (182474, 0.8451542547285166), (182506, 0.2869720215917757), (182599, 0.5222329678670935), (182673, 0.581675050747111), (182934, -0.29277002188455997), (182944, 0.9683296637314885), (183773, 0.23904572186687872), (183860, 0.6625413488689132), (184224, 0.42640143271122083), (184555, 0.8451542547285166), (184814, 0.8451542547285166), (184826, 0.6363636363636364), (184893, 0.47809144373375745), (184962, 0.5222329678670935), (184965, 0.680336051416609), (185292, 0.3490050304482666), (185421, 0.41403933560541256), (185773, -0.07559289460184544), (186050, 0.8451542547285166), (186066, 0.5291502622129182), (186078, 0.8451542547285166), (186084, -0.09759000729485333), (186100, 0.8315218406202999), (186430, 0.8669214468630106), (186478, 0), (186585, -0.23904572186687872), (187413, 0.15289415743128767), (187502, 0.7171371656006361), (187923, 0.5057805388588731), (188188, 0.5554920598635309), (188305, 0.09759000729485333), (188440, 0.5940885257860046), (188588, -0.8703882797784892), (188659, 0.1690308509457033), (188772, 0.2548235957188128), (188895, 0.5), (188958, -0.038778336716474064), (189063, -0.5291502622129182), (189096, 0.6831300510639733), (189220, 0.45454545454545453), (189269, 0.7481900559272088), (189474, 0.29277002188455997), (189492, -0.050964719143762556), (189532, 0.23904572186687872), (189567, 0.47809144373375745), (189699, 0.5222329678670935), (189940, 0.6581451817144176), (190187, 0.20149814827784027), (190214, 0.7142857142857143), (190286, 0.6831300510639733), (190467, 0.50709255283711), (190738, 0.5520524474738834), (190926, -0.2548235957188128), (191687, 0.680336051416609), (191736, -0.2277100170213244), (191823, -0.29277002188455997), (192012, -0.8783100656536799), (192136, 0.050964719143762556), (192213, 0.9045340337332909), (192267, 0.9578414886923188), (192313, 0.5606119105813882), (192455, -0.8783100656536799), (192782, -0.2548235957188128), (192963, 0.6363636363636364), (193294, 0.8451542547285166), (193402, 0.15694120514358612), (193657, 0.11595420713048969), (193945, 0.47809144373375745), (194010, 0.7745966692414834), (194019, 0.3333333333333333), (194110, 0.8703882797784892), (194180, 0.0), (194201, 0.29277002188455997), (194602, -0.5606119105813882), (194760, -0.4923659639173309), (195084, 1.0), (195245, 0.0), (195637, 0.018553546269482774), (196203, -0.09759000729485331), (196471, 0.7639518861720568), (197003, 0.13245323570650439), (197328, 0.09759000729485333), (197534, -0.29277002188455997), (197612, 0.7142857142857143), (197720, 0.6831300510639733), (198094, 0.8664002254439634), (198183, 0.15289415743128767), (198887, 0.8664002254439634), (199005, 0.48989794855663565), (199134, 0.13801311186847084), (199425, 0.2548235957188128), (199526, 0.4780914437337575), (199766, -0.2028241438202175), (199845, 0.8451542547285166), (200245, 0.19389168358237033), (200452, 0.0), (200663, -0.2548235957188128), (200811, 0.9827076298239908), (200814, 0.23904572186687872), (200818, 0.1690308509457033), (200850, -0.23904572186687872), (200884, 0.7627700713964739), (200936, 0.8143450710459553), (200996, 0), (201159, -0.23904572186687872), (201218, 0.6831300510639733), (201265, 0.9428571428571428), (201323, 0.39605901719066977), (201371, 0.9045340337332909), (201499, 0.5291502622129182), (201826, 0.3532809023904868), (202491, 0), (202685, 0.0), (202884, 0.38962447165913827), (203098, -0.11002971203391539), (203112, -0.1690308509457033), (203329, 0), (203887, -0.1690308509457033), (203983, 0.8164965809277261), (204012, 0.09759000729485333), (204121, 0.09759000729485333), (204165, 0.4857142857142857), (204434, 0.09759000729485331), (204769, 0.9230930832457441), (204913, 0.8783100656536799), (204926, 0.6831300510639733), (205009, 0.3458572319330373), (205020, 0.6831300510639733), (205123, 0.9561828874675149), (205310, 0.8919017444789035), (205554, -0.6900655593423543), (205573, -0.17407765595569785), (205611, 0.3490050304482666), (205684, -0.6625413488689132), (205787, -0.9438798074485389), (206044, 0.8280786712108251), (206094, 0.6288082227054204), (206435, 0.50709255283711), (206695, 0), (206700, 0.8143450710459553), (206767, 0.0), (206840, 0.42640143271122083), (207139, 0.6831300510639733), (207274, 0.24618298195866545), (207678, 0.7035264706814485), (207729, 0.674199862463242), (208131, 0.8451542547285166), (208347, 0.6414269805898185), (208473, 0.8280786712108251), (208823, -0.29277002188455997), (208927, 0.760885910252682), (208938, 0.8528028654224417), (209287, 0.5520524474738834), (209620, 0.8451542547285166), (210289, -0.8703882797784892), (210461, 0.7171371656006361), (210502, 0.9433700705169153), (210704, -0.1690308509457033), (210795, -0.09090909090909091), (211093, 0.7475319302283772), (211191, -0.08652532008633532), (211298, 0.42640143271122083), (211510, 0.2927700218845599), (211706, 0.9045340337332909), (211875, 0.09759000729485333), (211957, -0.17407765595569785), (212372, 0.8181818181818182), (212874, 0.9035079029052513), (213008, 0.42192650784464586), (213328, 0.5606119105813882), (213375, 0.9683296637314885), (213407, -0.29277002188455997), (213617, 0.9827076298239908), (214295, 0.09759000729485333), (214307, -0.1418598731230381), (214596, 0.41403933560541256), (214729, 0.09759000729485333), (215714, 0.8021806287494233), (216099, 0.33510052044720356), (216272, 0.8315218406202999), (216276, -0.47809144373375745), (216620, 0.7978024895877593), (216818, 0.034815531191139566), (216969, 0.5606119105813882), (217231, 1.0), (217233, 0.3956282840374722), (217450, 0.4621247905424446), (217809, -0.29277002188455997), (217871, 0.30151134457776363), (218156, 0.5), (218554, 0.8181818181818182), (218971, 0.8427772341319071), (219124, 0.9230930832457441), (219168, 0), (219211, -0.09759000729485333), (219332, 0.6488856845230502), (219569, 0.9433700705169153), (219708, 0.9710607611177229), (219902, 0.5291502622129182), (219962, 0.8664002254439634), (220272, 0.9561828874675149), (220630, 0.581675050747111), (221109, 0.9561828874675149), (221113, 0.5222329678670935), (221817, 0.0), (221852, 0.8528028654224417), (222130, 0.6493311948292405), (222172, 0.41403933560541256), (222338, 0.9683296637314885), (222364, 0.9683296637314885), (222753, 0.8164965809277261), (223067, 0.6959780040057305), (223411, 0.680336051416609), (223546, 0.41403933560541256), (223731, 0.2548235957188128), (223778, 0.5606119105813882), (223836, 0.29277002188455997), (224092, 0.17407765595569785), (224122, 0.9028289727756885), (224270, -0.1690308509457033), (224579, 0.9683296637314885), (225666, 0.3490050304482666), (225726, -0.2548235957188128), (225984, 0.8664002254439634), (226199, 0.9655810287305759), (226842, -0.8783100656536799), (227277, 0.6197797868009122), (227330, 0.47809144373375745), (227498, 0.9091237672046559), (228019, 0.23904572186687872), (228179, 0.18070158058105026), (228237, 0.50709255283711), (228452, 0.47809144373375745), (228519, 0.9561828874675149), (228524, 0.6625413488689132), (228594, 0.9045340337332909), (228734, 0.7627700713964739), (229022, -0.2721655269759087), (229041, 0), (229161, 0.1690308509457033), (229318, 0), (229583, 0.9683296637314885), (229696, 0.8783100656536799), (229877, 0.9198662110077999), (230012, 0.8315218406202999), (230025, 0.3458572319330373), (230236, 0.5853694070049635), (230482, 0.45175395145262565), (230517, -0.674199862463242), (231094, 0.7237468644557459), (231391, -0.050964719143762556), (232213, 0.8664002254439634), (232372, 0.8451542547285166), (232816, 0.37084202772044256), (232991, 0.42640143271122083), (233475, 1.0), (233751, 0.5606119105813882), (233842, 0.7653716435003121), (234218, 0.7735449421179451), (234595, 0.6625413488689132), (234713, 0.29277002188455997), (234912, -0.22075539284417398), (235324, 0.42857142857142855), (235888, 0.8528028654224417), (236028, -0.1690308509457033), (236207, 0.3490050304482666), (236365, 0.8451542547285166), (236468, -0.37796447300922725), (236668, -0.09090909090909091), (236685, 0), (237105, 0.30151134457776363), (237215, 0.27144835701531844), (237375, -0.4923659639173309), (237489, 0.49424165057217234), (237573, -0.1690308509457033), (237860, -0.1690308509457033), (238366, 0.0), (238740, 0.6625413488689132), (239199, -0.050964719143762556), (239717, 0.9683296637314885), (239802, 0.6446583712203042), (239815, -0.50709255283711), (239984, 0.02857142857142857), (240334, 0.5222329678670935), (240533, 0.09759000729485331), (240655, 0.8315218406202999), (240694, 0.29277002188455997), (240759, 0), (241159, 0.8451542547285166), (241233, 0.07559289460184544), (241294, 0.19389168358237033), (241301, 0.5606119105813882), (241400, 0.8451542547285166), (241546, -0.2977116370667845), (241755, 0.9561828874675149), (241887, 0.6625413488689132), (241926, 0.23904572186687872), (242130, 0.6625413488689132), (242351, 0.23904572186687872), (242385, 0.9660917830792959), (242507, -0.50709255283711), (242792, 0.6625413488689132), (242916, 0.7385489458759964), (243755, -0.050964719143762556), (244606, 0.2), (244909, -0.1690308509457033), (245209, 0.5606119105813882), (245261, 0.5), (245405, 0.2), (245483, 0.2537340189666186), (246125, 0.5), (246233, 0.7611889011697195), (246246, 0.6831300510639733), (246415, -0.2548235957188128), (246481, 0.09759000729485333), (247008, 0.5606119105813882), (247307, 0.9035079029052513), (247399, 0.8392740627357385), (247409, 0.8783100656536799), (247509, 0.1841149235796647), (106, 0.2401922307076306), (178, 0.6546536707079778), (405, -0.9999999999999947), (447, 1.0), (551, 0.8461538461538451), (598, 0.9707253433941506), (784, 0), (967, 0.0), (1002, 0.0), (1046, 0), (1115, 0), (1130, -0.4193139346887681), (1160, 0.8660254037844387), (1388, 0.9707253433941615), (1502, 0.8660254037844387), (1525, 0), (1599, -0.49999999999999734), (1625, 0.5), (1757, 0.6933752452815364), (1785, 0.8660254037844402), (1916, 1.000000000000016), (2108, 0.3273268353539889), (2153, 0.8660254037844448), (2160, 0.9707253433941506), (2169, 0), (2270, 0.9819805060619666), (2340, 1.000000000000016), (2404, 0.0), (2427, 0.7559289460184551), (2463, 0.8660254037844355), (2479, 0.2401922307076306), (2629, -0.2773500981126125), (2791, 0.5), (2824, 0.2401922307076306), (2854, -0.2773500981126125), (3240, 0.0), (3358, 0.6933752452815394), (3456, 1.0), (3596, 0.8660254037844448), (3632, 1.0), (3699, -0.18898223650461468), (3745, 0.7205766921228919), (3768, 0.7205766921228919), (3845, 0.5000000000000013), (3962, -0.27735009811261446), (4036, 0), (4079, -0.2773500981126125), (4334, 0.8660254037844387), (4428, 1.0), (4563, 0.5), (4693, 0), (4847, -0.5), (4873, 0), (4938, 0.0), (5040, 0.8660254037844387), (5141, 0.5), (5159, 0.0), (5227, 0.8660254037844378), (5269, 0.9707253433941407), (5415, 0.9707253433941504), (5532, 0.6933752452815372), (5852, -0.8910421112136314), (5876, 0.5), (5898, 0.6546536707079783), (6035, -0.277350098112615), (6207, 0.9819805060619666), (6247, 0.5), (6308, 0), (6439, 0.17755520605710842), (6527, -0.2773500981126125), (6567, 0.3973597071195133), (6573, -0.9176629354822453), (6581, 0.8660254037844378), (6640, 0.3273268353539889), (6654, 0.9449111825230669), (6766, -0.27735009811261363), (6791, 0.8660254037844355), (6802, 0.9958705948858246), (6896, 0.8660254037844402), (7235, 0.7777137710478188), (7578, 0.6933752452815394), (7618, 0.3273268353539889), (7693, 0.2401922307076306), (7866, -0.41931393468876615), (8008, 0.2773500981126125), (8175, 0.8660254037844448), (8303, 0.8660254037844378), (8316, 0.6546536707079769), (8338, -0.05241424183609513), (8347, 0.0), (8494, 0.944911182523068), (8820, -0.8660254037844355), (8887, 0.9607689228305224), (8964, 0), (9003, 0.9958705948858217), (9012, 0), (9030, 0.6546536707079769), (9033, 0.8660254037844387), (9047, 0.6546536707079778), (9133, 0.3273268353539889), (9182, -0.05241424183609745), (9261, -0.6933752452815372), (9431, 0.6933752452815394), (9445, 0.8660254037844448), (9552, 0.9707253433941504), (9692, 0), (9723, 0.6933752452815394), (9733, 1.0), (9763, -0.277350098112615), (9778, 0.8660254037844387), (9795, 0.9607689228305224), (9880, -0.038461538461537895), (9929, 0.8660254037844402), (9982, 0.5), (9994, 0), (10133, 0.8660254037844448), (10211, 0.41931393468876776), (10217, 0.9607689228305224), (10263, 0.9819805060619666), (10296, 0.9819805060619675), (10315, -0.8660254037844355), (10327, 0.8660254037844402), (10484, 0), (10509, 0.9958705948858224), (10610, 0.8660254037844378), (10619, 1.0), (10743, -0.6546536707079768), (10804, 1.0), (10808, 0.8660254037844448), (10813, 0.8660254037844402), (10852, -0.8660254037844387), (10939, 0.8660254037844355), (10981, 0.9819805060619666), (11168, 0.9707253433941506), (11332, 0.5000000000000009), (11339, 0.0), (11398, 0.8660254037844387), (11459, 0.8660254037844448), (11558, 1.0), (11601, 0.4193139346887681), (11607, 1.0000000000000004), (11893, 0.2401922307076306), (12069, -0.8660254037844402), (12203, 0), (12286, 0.5), (12399, 0.8660254037844378), (12430, 0.8660254037844402), (12451, 0.9707253433941506), (12538, -0.5), (12617, 0.5), (12623, 0.1889822365046136), (12629, -0.6933752452815372), (12692, 0.05241424183609745), (12784, 0.7205766921228919), (12808, 0.9707253433941407), (12871, 0.3273268353539889), (12924, 0.9819805060619652), (12973, 0.9707253433941452), (12986, 0.8660254037844386), (13081, 0.5), (13105, -0.9707253433941615), (13142, 1.0), (13159, 0.2773500981126125), (13313, -0.6546536707079778), (13327, 0.0), (13399, 0.5), (13463, 0.8660254037844402), (13520, 0.0), (13614, -0.9819805060619652), (13765, 0), (13770, -0.8660254037844448), (13804, 1.0), (14042, 0.9707253433941506), (14079, 0.2773500981126125), (14372, 0.9999999999999947), (14470, -0.27735009811261696), (14506, 0.0), (14774, 0.8846153846153847), (14817, 0.9707253433941615), (14819, -0.6933752452815362), (15113, 0.9819805060619656), (15163, 0.8386278693775367), (15172, 0.8660254037844448), (15273, 0.3973597071195132), (15456, 0.2401922307076306), (15460, -0.8660254037844448), (15465, 0.9078412990032033), (15466, 0.8660254037844448), (15474, -0.3973597071195132), (15644, -0.09078412990032034), (15760, 0.981980506061966), (15834, 0.9707253433941407), (15906, 0.9607689228305224), (15980, 0.9607689228305225), (16104, 0.6546536707079769), (16326, 0.8660254037844448), (16388, 0.2401922307076306), (16421, -0.5), (16545, 0.7205766921228919), (16607, 0.9707253433941615), (16629, 0.576556660197054), (16670, 0), (16708, 0.6933752452815346), (16712, 0.052414241836095214), (16760, 0), (16947, 0), (16957, 0.8910421112136306), (16997, 0.8660254037844448), (17015, 0.6546536707079769), (17055, 0.2773500981126125), (17056, 0.8660254037844402), (17126, 0.9933992677987827), (17175, 0.9707253433941615), (17206, 0), (17268, 0.7205766921228919), (17383, 0.8660254037844387), (17393, 0), (17435, 0.866025403784439), (17438, 0), (17469, 0), (17502, 0.3273268353539889), (17755, 0.8029550685469682), (17817, 0.6933752452815372), (17877, -0.32732683535398843), (18204, -0.8660254037844355), (18207, 0.8660254037844448), (18301, 0.9819805060619652), (18452, 0.8660254037844448), (18464, 0.8660254037844387), (18509, 0.0), (18520, 0.9707253433941615), (18805, 0.7559289460184544), (18967, 0.05241424183609515), (19027, -0.8660254037844402), (19071, 0), (19131, 0.9819805060619652), (19142, 0.8660254037844378), (19486, -0.24019223070763082), (19503, 0.0), (19586, 0.8660254037844385), (19682, 0.8660254037844388), (19756, 0.6546536707079778), (19777, 0.6933752452815223), (19788, -0.27735009811261446), (19857, 0.15554275420956376), (19933, 0), (20027, 0.0), (20156, 0.9707253433941504), (20175, 0.5000000000000002), (20226, -0.6933752452815372), (20284, 0.9607689228305224), (20316, 0.9607689228305224), (20367, 0.8660254037844402), (20685, 0.1889822365046136), (20866, 0.5000000000000053), (20888, 1.0000000000000018), (20910, 0.6933752452815364), (20967, -0.24019223070763082), (20969, 0.6933752452815372), (21072, -0.42341515917870953), (21148, 1.0), (21228, 0.8660254037844448), (21251, 0.6933752452815357), (21271, 0.5), (21279, 0.8660254037844387), (21373, 0.7205766921228919), (21619, 0.0), (21799, 0.9449111825230734), (21823, 0), (21831, 0.8660254037844385), (22446, 0), (22599, 0.7777137710478188), (22649, -0.866025403784439), (22833, -0.32732683535398854), (22883, 0.9819805060619666), (22884, 0.5), (22982, 0.7205766921228919), (23141, 0.0), (23277, 0.49999999999999734), (23383, 0.7205766921228919), (23457, 0.9707253433941504), (23467, 0), (23627, 0.32732683535398843), (23772, 0.3499566196366769), (23948, -0.09078412990032034), (23981, 0.0), (24051, 0.6933752452815372), (24293, 0.2773500981126146), (24409, -0.5), (24419, 0.944911182523068), (24522, 0.9607689228305233), (24747, 0.5), (24827, 0.9449111825230679), (24939, 0.7924058156930613), (25111, 0.8660254037844448), (25213, 0.21160368475757946), (25314, 0.9449111825230686), (25326, -0.6449020216370231), (25524, 0.866025403784439), (25618, 0.3273268353539889), (25690, 0.8660254037844402), (25700, 0.8660254037844402), (25740, 0.8660254037844355), (25806, -0.27735009811261546), (25826, -0.5), (25842, 0.5852057359806531), (25930, 0.3273268353539889), (25968, 0.0), (25989, -0.27735009811261446), (26118, 1.0), (26218, 0), (26306, 0.32732683535398865), (26423, 0.03846153846153792), (26838, -0.5), (26965, 0.8660254037844355), (27051, 0.7559289460184487), (27221, 0.8660254037844448), (27431, 1.0), (27572, 0.9707253433941615), (27592, -0.8660254037844402), (27607, 0.0), (27727, 0.8660254037844402), (27845, 0.05241424183609513), (27858, -0.45392064950160166), (28000, -0.32732683535398843), (28361, 0.11470786693528087), (28461, 0), (28505, 0), (28566, 0.7953559537197232), (28591, 1.000000000000016), (28844, 0.6933752452815364), (28990, 0.0), (29085, -0.2773500981126125), (29100, 0.2401922307076306), (29369, 0.49999999999999734), (29394, 0.9607689228305233), (29438, -1.0), (29559, 0.8660254037844387), (29682, 0.2401922307076306), (29816, -0.4999999999999985), (29982, 0.0), (30119, -0.038461538461537895), (30365, 0.5), (30524, 0.9819805060619652), (30673, 0.8660254037844448), (30681, -0.2773500981126141), (30807, 0.32732683535398843), (30814, 0.944911182523068), (30895, -0.8660254037844448), (30943, 0.5), (30994, -0.6546536707079778), (31029, 0.9819805060619652), (31129, 0.6933752452815223), (31237, 0.9819805060619652), (31331, -0.8660254037844448), (31382, 0.8660254037844402), (31419, 0.18898223650461146), (31542, 0.8660254037844448), (31546, 0), (31602, 0.6933752452815372), (32254, 0.41931393468876615), (32298, 0), (32426, 0), (32448, 0.2401922307076306), (32558, 0.8660254037844387), (32592, 0.0), (32599, 0.5), (32615, 0.9819805060619652), (32740, 0.8660254037844448), (32866, 0.6546536707079778), (33069, 0.9933992677987827), (33113, 0.8660254037844448), (33188, 0.0), (33194, 0.32732683535398843), (33340, 1.0), (33418, -0.7205766921228919), (33480, 0), (33509, 0.69337524528154), (33653, -0.9707253433941615), (33785, 0.6286185570937126), (33897, 0.8660254037844448), (33902, 0.6546536707079769), (33930, 0.0), (34174, -0.3273268353539889), (34280, 0), (34334, -0.2773500981126184), (34363, -0.8660254037844448), (34381, 0.8660254037844388), (34444, 0), (34621, 0.5), (34627, -0.2773500981126145), (34675, 0.6546536707079778), (34970, 0.9707253433941407), (35025, 0.8660254037844387), (35085, -0.8660254037844355), (35259, 0.9607689228305224), (35265, -0.8660254037844378), (35328, -0.27735009811261696), (35411, -0.27735009811261696), (35423, -0.27735009811261324), (35442, 0.8660254037844448), (35614, -0.8660254037844355), (35729, 0.8660254037844448), (35874, -0.8660254037844378), (35967, 0.277350098112615), (36019, 0.0), (36037, 0.0), (36110, 0.917662935482247), (36718, 0), (36871, -0.27735009811261546), (36912, 0), (36933, 0.5), (36936, 0.7205766921228924), (36989, 0.21677749238103045), (37000, -0.18898223650461518), (37029, 0.8660254037844402), (37036, 0.8660254037844387), (37046, 0.8660254037844355), (37087, 0.9707253433941504), (37190, 0.8660254037844402), (37210, 0.8660254037844448), (37256, 0.9707253433941615), (37396, 0), (37489, 0.9607689228305233), (37521, 0.9449111825230633), (37784, 0.27735009811261696), (37802, 0.7205766921228919), (37868, -0.05241424183609745), (37887, 0.7559289460184544), (37934, 0.5), (37968, 0.8660254037844402), (38012, 0.8660254037844355), (38151, -0.720576692122892), (38184, 0.5000000000000009), (38363, 0.5000000000000009), (38549, 0.2401922307076306), (38735, 0.8660254037844402), (38760, 1.0000000000000018), (38939, 0.8461538461538475), (38949, 0.42712109808862453), (39593, 0.7205766921228919), (39595, 0.27735009811261546), (39638, 0.8660254037844402), (39721, 0.0), (39756, 0), (39794, 0), (39852, 0.5694947974514994), (39867, 1.000000000000016), (40011, 0.8660254037844402), (40034, -0.8660254037844448), (40091, 0.0), (40145, 0.9607689228305224), (40349, 0.0), (40390, -0.7205766921228919), (40409, 0.3973597071195131), (40412, 0.8660254037844386), (40574, -0.8660254037844448), (40604, 0.7205766921228924), (40750, 0.9819805060619652), (40822, 0.3273268353539889), (40901, 0.9707253433941452), (41073, -0.5), (41180, 0.8660254037844402), (41208, 0.2773500981126125), (41258, 0.6546536707079778), (41405, 0.9449111825230734), (41455, 0.49999999999999917), (41609, 0.7205766921228919), (41620, -0.8660254037844448), (41733, 0.8386278693775367), (41738, 0.6933752452815357), (41748, 1.0), (41783, 0.6933752452815372), (41795, 0.9707253433941452), (41945, -0.9707253433941407), (41979, 0.2773500981126125), (42045, 0.9819805060619622), (42107, 0.9607689228305224), (42171, 0.576556660197054), (42180, 0.9819805060619652), (42185, 0.8660254037844402), (42193, 0.944911182523068), (42338, 0.8660254037844402), (42342, 0.7559289460184551), (42432, 0.0), (42460, 0.8660254037844387), (42613, 0.8660254037844448), (42857, 0.8660254037844448), (42873, 0.9999999999999992), (42900, 0.24019223070763082), (42974, 1.0), (42980, 0.6933752452815223), (43058, 0.0), (43228, 0.9707253433941615), (43345, 0.7559289460184544), (43348, 0.7559289460184541), (43392, 0.2773500981126125), (43425, 1.0), (43597, 0.7205766921228921), (43612, 0.9707253433941615), (43920, 0.5), (44163, -0.5), (44187, 0.5), (44197, 0), (44343, 0.7205766921228933), (44484, 0.7924058156930616), (44485, 0.6933752452815372), (44522, 0.0), (44577, 0.5000000000000001), (44600, 0.8660254037844448), (44784, 0.3973597071195131), (44826, 0.0), (44831, 0.5), (44867, 0.8660254037844402), (44936, 0.8660254037844387), (44942, 1.0), (44954, 0.9707253433941615), (45017, 0.0), (45074, 0.8660254037844355), (45123, -0.8660254037844387), (45172, 0.0), (45330, 0.8660254037844402), (45459, 0.0), (45496, -0.8910421112136306), (45613, -0.2773500981126184), (45714, 0.8660254037844355), (45765, -0.5), (45772, 0.5), (46025, 0.8660254037844355), (46026, -0.9449111825230669), (46084, 0.6933752452815223), (46090, 0.0), (46121, 0.8660254037844448), (46322, 0.8660254037844355), (46550, 0.9707253433941556), (46597, 0.8660254037844387), (46619, -1.0), (46754, -0.6546536707079778), (46858, 0.8660254037844378), (46965, 0.8660254037844378), (47109, 0), (47204, 0.7205766921228919), (47307, -0.576556660197054), (47420, 0.6933752452815372), (47529, 0.42712109808862453), (47557, 0.0), (47792, 0.9707253433941504), (47854, 0.6933752452815223), (47898, 0.9607689228305224), (48044, 0.9607689228305224), (48126, 0), (48143, 0.7205766921228919), (48173, 0.8660254037844402), (48489, 0.3973597071195131), (48588, 0.5), (48716, 0.8660254037844448), (48859, 0.9819805060619652), (48872, 0.0), (49033, 0.7559289460184551), (49111, 0.5), (49124, 0.49999999999999933), (49159, 0.9819805060619656), (49393, 0), (49491, 0.8660254037844448), (49559, 0.9707253433941615), (49561, 0.5), (49592, 0.5), (49697, 0.7205766921228919), (49723, 0.9819805060619666), (49743, 0), (49772, 0.9707253433941556), (49786, 0.0), (49871, 0), (49901, 0.17755520605710842), (49925, 0), (50008, 0.8660254037844385), (50060, 0.9819805060619652), (50188, 0.8910421112136314), (50254, 0.8660254037844355), (50325, 0.49999999999999667), (50353, 0.5000000000000009), (50536, 0.8660254037844448), (50596, 0.2773500981126125), (50601, -0.7857142857142847), (50648, -0.32732683535398843), (50670, 0.05241424183609745), (50709, 0.27735009811261546), (50712, 0.0), (50880, 0.9607689228305224), (50911, -0.5), (50931, 0.9819805060619666), (51123, -0.7559289460184547), (51339, 0.8660254037844378), (51398, -0.6546536707079778), (51532, 0.9966158955401239), (51583, 0.3273268353539889), (51609, 0.9707253433941556), (51678, 0.0), (51682, 0.2773500981126125), (51708, 0.5), (51810, -0.6546536707079769), (52164, 0.7205766921228919), (52243, 0.8660254037844378), (52442, 0.8660254037844402), (52445, 0.7205766921228924), (52532, 0.0), (52546, 0.2773500981126125), (52554, 0), (52974, 0.0), (53020, 0.5765566601970554), (53030, 0.9819805060619666), (53034, 0.9607689228305224), (53135, 0.5000000000000027), (53282, 0.24019223070763082), (53338, 0.1889822365046136), (53342, 0.0), (53429, 1.0000000000000018), (53487, 0.9607689228305224), (53553, -0.2773500981126066), (53753, 0.8660254037844402), (53756, 0.9958705948858209), (53991, 0.8660254037844378), (54045, 0.2401922307076306), (54066, 0.928571428571431), (54220, 0.5000000000000053), (54399, 0.9607689228305224), (54403, -0.5), (54412, 0.9607689228305233), (54495, 0.9819805060619666), (54515, 0.6933752452815362), (54532, 0.49999999999999867), (54858, 0.49999999999999933), (54935, 0.5), (55049, 0.8660254037844387), (55101, 0.9819805060619666), (55216, 0.2401922307076306), (55235, 0.8660254037844448), (55259, -0.2401922307076306), (55295, 1.0), (55386, 0.27735009811261446), (55882, 0.6933752452815372), (55990, 0.8660254037844402), (56060, -0.3273268353539889), (56061, 0.2401922307076306), (56067, 0.8660254037844448), (56103, 0.5), (56164, 0.6933752452815372), (56234, 0.8461538461538475), (56314, 0), (56324, 0.8660254037844402), (56335, 0.9607689228305224), (56411, 0.8660254037844387), (56507, 0.41931393468876615), (56595, 0), (57406, 0.8660254037844387), (57426, 0.8660254037844402), (57525, 0.4999999999999996), (57573, -0.9999999999999947), (57603, 0.8386278693775333), (57605, 0.9819805060619666), (57711, 1.0000000000000007), (57731, 0.4999999999999994), (57814, 0.0), (58005, 1.0), (58304, 0.7205766921228919), (58447, 0.6546536707079778), (58490, 0), (58571, 0.9707253433941504), (58823, -0.9933992677987833), (58862, -0.27735009811261546), (58882, 0.6546536707079783), (58975, 0.49999999999999883), (59076, -0.49999999999999734), (59126, 0), (59163, 0.0), (59164, 0.2773500981126125), (59362, 1.0), (59465, 0.6933752452815364), (59578, -0.944911182523068), (59794, 0.9607689228305224), (59839, 0.576556660197054), (60155, 0.866025403784439), (60191, 0.0), (60311, 0), (60442, 1.0), (60456, 1.0), (60637, 0.6933752452815394), (60707, 0.6933752452815394), (61228, 0.9707253433941506), (61285, 0.9707253433941504), (61348, -0.7205766921228919), (61405, 0.6933752452815372), (61431, 0.0), (61476, -0.05241424183609745), (61550, 0.8660254037844402), (61589, 0.49999999999999867), (61621, -0.27735009811261446), (61639, -0.6933752452815394), (61677, 0.9819805060619666), (61754, 0.8660254037844448), (61917, 0.8660254037844355), (62073, -0.636284762975778), (62100, 0.9607689228305233), (62340, 0.9607689228305224), (62458, 0.0), (62460, -0.8660254037844355), (62686, 0.8386278693775367), (62802, 0.9958705948858246), (62949, 0.9707253433941504), (63062, 0.0), (63091, 0.0), (63132, 1.0), (63205, 0.0), (63218, 0.5), (63236, 1.0000000000000053), (63361, -0.5), (63384, 0.3711537444790451), (63482, 0.9707253433941452), (63559, 0.6546536707079778), (63566, 0.2401922307076307), (63644, 0.3973597071195131), (63878, 0.8660254037844402), (63979, -0.5), (63995, 0.0), (64142, 0.41931393468876615), (64169, 0.2773500981126125), (64186, 0.6933752452815223), (64215, 0.2773500981126125), (64401, 0), (64464, 0.8660254037844448), (64872, 0.8660254037844448), (65124, 0.0), (65806, 0.8660254037844387), (66144, -0.6546536707079769), (66150, 0.5), (66155, 0.866025403784439), (66171, 0.277350098112615), (66301, 0), (66306, 0.904194430179463), (66337, 0.4999999999999982), (66359, 0.8660254037844448), (66493, 0.9707253433941456), (66545, 0.27735009811261696), (66551, 0.8910421112136298), (66596, 0.8660254037844355), (66666, 0.8910421112136306), (66693, 0.6546536707079778), (66733, 0.933256525257383), (66772, 0.9607689228305233), (67064, -0.3973597071195131), (67066, -0.7559289460184487), (67073, 0.0), (67094, 0.6546536707079773), (67221, 0), (67255, 0.2401922307076306), (67377, -0.2401922307076306), (67470, 0.8660254037844355), (67545, -0.2401922307076306), (67701, 0.8660254037844448), (67725, 0.7205766921228924), (67848, -0.2773500981126125), (67866, 0.7205766921228919), (67990, 1.0), (68117, 0), (68222, 0.8386278693775346), (68590, 0.5960395606792697), (68617, 0.42712109808862453), (68652, 0), (68685, 0.9449111825230734), (68771, 0.7205766921228919), (68832, 0.6933752452815223), (69007, -0.27735009811261546), (69107, 0.2401922307076306), (69135, -0.7205766921228919), (69263, 0.8660254037844387), (69330, 0.05241424183609513), (69381, 0.5000000000000009), (69428, 0.5), (69450, 0.5), (69712, 0.49999999999999467), (69729, 0.59603956067927), (69855, 0.7205766921228919), (69865, 0.0), (69914, 1.0), (70164, 0.9707253433941504), (70212, -0.05241424183609745), (70237, 0.8660254037844402), (70277, 0.9819805060619652), (70368, 0.8386278693775333), (70370, 0), (70671, 0), (71098, 0), (71125, 0.9819805060619652), (71255, -0.5), (71861, 0), (71876, 0.7205766921228924), (71878, 0.5), (72107, 0.3273268353539889), (72200, -0.6933752452815394), (72224, 0.9707253433941508), (72232, -0.5), (72566, 0), (72606, 0.9607689228305224), (72611, 0.2401922307076306), (72674, 0.5), (72718, 0.0), (72725, 0.1889822365046136), (72744, 0.8660254037844448), (72863, 0.0), (73020, 0), (73023, 0.8660254037844385), (73031, -0.9707253433941504), (73184, 1.000000000000016), (73205, 0.5), (73214, -0.9707253433941452), (73217, 0.6546536707079778), (73352, 0.9707253433941615), (73431, 0.7205766921228924), (73435, 0.5), (73489, 1.0), (73642, 0.0), (73669, 0.6933752452815364), (73779, -1.000000000000016), (73829, 0.8660254037844448), (73911, 0), (74007, 0.0), (74075, 0.9707253433941615), (74078, 0.6933752452815362), (74125, 1.0), (74210, 0), (74234, 0.8660254037844402), (74428, 0.9707253433941615), (74474, 0.27735009811261446), (74528, 0.8660254037844387), (75027, 0.5), (75084, 0.8660254037844448), (75163, -0.2773500981126125), (75237, 0.9707253433941504), (75260, 0), (75325, 0.5), (75344, 0.5), (75459, -0.8660254037844264), (75529, -0.2773500981126066), (75769, 0.32732683535398843), (75824, 0.7205766921228919), (75952, -0.27735009811261446), (76020, 0), (76070, 0.9607689228305224), (76336, 1.0), (76351, 0), (76393, 0.2401922307076306), (76703, 0.0), (76819, -0.8660254037844402), (76888, 0.6546536707079778), (76895, 0.9707253433941506), (77182, 1.0), (77262, 0.5), (77463, 0), (77503, 0.8660254037844448), (77778, 0.944911182523068), (77841, 0.9819805060619666), (78008, -0.6185895741317419), (78153, 0.8660254037844448), (78171, 0.8660254037844448), (78213, 0.5), (78264, 0.6546536707079783), (78473, 0.8660254037844387), (78610, -0.5), (78629, 0.49999999999999867), (78740, 0.7559289460184544), (78749, 0.5), (78851, 0.27735009811261696), (78873, -0.27735009811261446), (79245, -0.6546536707079769), (79339, 0.6546536707079783), (79390, 0.3273268353539889), (79616, 0.27735009811261446), (79647, 0.59603956067927), (79829, 0.6933752452815394), (79861, 0.32732683535398843), (79915, 0.49999999999999867), (79919, 0.8660254037844355), (79981, 0.5), (80002, -0.8660254037844387), (80033, 0.9607689228305224), (80081, 0.5), (80134, 0.6933752452815329), (80197, 0), (80261, 0.9707253433941513), (80326, 0.0), (80335, 0.13206763594884358), (80409, 0.6933752452815364), (80853, 0.7559289460184527), (80873, 0.8660254037844388), (81174, 0.9707253433941556), (81213, 0.9607689228305224), (81361, 0.8660254037844448), (81383, 0.8660254037844402), (81442, 0.7559289460184648), (81451, -0.7559289460184544), (81540, 0.9707253433941407), (81675, 0.9966158955401241), (81707, 0.866025403784439), (81901, 0.3273268353539889), (81945, 0.6546536707079778), (82303, 0.9819805060619666), (82326, 1.0000000000000053), (82342, -0.32732683535398843), (82385, 0.9819805060619666), (82415, 0.8660254037844387), (82457, 0), (82597, 0.9707253433941504), (82700, 0.2773500981126125), (82740, 0.24019223070763082), (82787, 0.8660254037844448), (82937, 0.8660254037844402), (82967, 0.5765566601970554), (83052, 0.8660254037844387), (83186, -0.6933752452815372), (83241, -0.9707253433941511), (83534, 0), (83610, -0.5000000000000053), (83680, -0.6933752452815357), (83749, 0.2401922307076306), (83766, 1.0), (83778, 0.8660254037844402), (83814, 1.0), (83947, 0.05241424183609513), (83951, 0.6933752452815365), (84024, -0.5), (84029, 0), (84078, 0.8660254037844387), (84220, 0.0), (84280, 0.9607689228305224), (84389, 1.0), (84459, 0.3273268353539889), (84490, 0.7559289460184541), (84504, 0.05241424183609745), (84555, 0.0), (84581, 0.693375245281536), (84833, 0.2773500981126125), (84861, 0), (84932, 0.05241424183609745), (85414, 1.0000000000000053), (85455, 0.6099942813304191), (85593, 0.6933752452815355), (85597, 0.8660254037844402), (85612, 0), (85639, 0), (85786, 0.0), (85972, -0.8660254037844402), (85975, 0.27735009811261446), (86010, -1.0), (86013, -0.27735009811261546), (86112, 0.6933752452815362), (86173, 0.8660254037844402), (86198, 0.9707253433941504), (86269, 0.576556660197054), (86318, 0.9819805060619666), (86319, -1.000000000000016), (86498, 0.8660254037844378), (86891, 0.12725695259515513), (86895, 0.8660254037844355), (86950, 0.7559289460184531), (86990, -0.5), (87018, 0.9707253433941615), (87036, 0.41931393468876615), (87053, 0.3711537444790451), (87081, 0.7205766921228919), (87122, 0.0), (87313, -0.6933752452815372), (87350, 0.0), (87352, 0.9449111825230734), (87353, 0.0), (87499, 0.5), (87513, 0.27735009811261546), (87539, 1.0), (87623, 0.0), (87842, 0.0), (87961, 0.8660254037844402), (87962, 0), (87998, 0.0), (88011, -0.27735009811261696), (88123, 0.9966158955401239), (88158, 0), (88178, -0.8660254037844448), (88219, 0.18898223650461518), (88298, 0.9607689228305228), (88318, 0.24019223070763082), (88458, 0.9707253433941615), (88531, 0.6933752452815372), (88535, 0.0), (88618, 0), (88704, 0.9707253433941506), (88738, 0.8660254037844355), (88747, 0.8660254037844355), (88760, 0.2401922307076306), (88892, -0.2401922307076306), (88900, 0.8660254037844448), (88914, 0.8910421112136306), (88927, 0.8660254037844402), (89068, 0.27735009811261696), (89328, 0), (89354, 0.9999999999999992), (89468, 0.27735009811261396), (89562, 0), (89632, -0.8660254037844378), (90187, 0.9707253433941504), (90261, 0.41931393468876615), (90278, 0.8660254037844387), (90308, 1.0), (90354, 0.6933752452815364), (90359, 0.5), (90436, 0.5960395606792697), (90447, 0.9449111825230675), (90635, 1.0000000000000016), (90684, 0.9607689228305224), (90693, 0.0), (90815, 0.7205766921228919), (90844, 0.8660254037844387), (90902, 0.8660254037844448), (90937, 0.981980506061966), (91288, -0.9707253433941615), (91372, 0.7205766921228919), (91386, 0.1889822365046136), (91432, 0.2773500981126146), (91469, 0.8660254037844355), (91504, 0.7205766921228919), (91512, -0.8660254037844448), (91612, 0.8660254037844264), (91698, -0.6546536707079772), (92474, 0.8660254037844378), (92485, 0.0), (92700, 0.3273268353539889), (92725, -0.8660254037844402), (92827, 0.2401922307076306), (92891, 0.0), (92894, -0.2773500981126125), (92966, 0.5), (92985, 0.6933752452815372), (93032, 0.8660254037844385), (93041, 0.6933752452815372), (93088, 0.27735009811261396), (93131, 0.9607689228305224), (93259, 0.8660254037844448), (93632, 0.9607689228305224), (93730, -0.9707253433941615), (93797, 0.9707253433941521), (93806, 0.8660254037844448), (93909, 0), (94082, 0.9819805060619666), (94091, 0.7205766921228919), (94194, 0.9449111825230669), (94260, 0.27735009811261396), (94312, 0.0), (94559, 0.32732683535398915), (94799, -0.27735009811261546), (94840, -0.49999999999999917), (95170, 0.0), (95240, 0.7205766921228919), (95371, 0.8660254037844402), (95428, 0.5), (95500, 0.0), (95625, 0.0), (95787, 0.8660254037844387), (95905, 0.6546536707079778), (95906, -0.5), (95908, 0), (95976, 0.8660254037844387), (95978, 0.49999999999999734), (96000, 0), (96156, -0.5), (96196, 0.8660254037844387), (96387, 0.5), (96526, 0.866025403784439), (96731, 0.3273268353539889), (97018, 0.6933752452815372), (97091, 0.4999999999999992), (97118, -0.32732683535398843), (97229, -0.9819805060619666), (97244, 0.9707253433941615), (97388, 0.8846153846153838), (97480, -0.12453387034667983), (97515, 0.5960395606792697), (97593, -0.866025403784439), (97714, 0.9707253433941615), (97729, 0.7205766921228924), (97741, -0.1889822365046136), (97790, -0.2773500981126184), (97841, 0.2773500981126125), (97917, -0.27735009811261446), (98059, 0.9607689228305224), (98174, 0.18898223650461518), (98209, 0.7559289460184567), (98326, -0.49999999999999734), (98330, -0.8660254037844355), (98346, -0.866025403784439), (98409, 0.866025403784439), (98418, 0.9707253433941452), (98443, 0.9707253433941615), (98446, -0.2773500981126145), (98617, 0.8660254037844402), (98639, 0), (98764, 0.8660254037844387), (98767, 0.0), (98836, 0.6546536707079771), (98983, 0.5000000000000012), (98989, 0.8660254037844402), (99022, 0), (99069, 0.8846153846153838), (99075, 0.3973597071195133), (99077, 0), (99107, 0.8660254037844448), (99176, 1.000000000000016), (99393, 0.8660254037844402), (99401, -0.2773500981126125), (99420, 0.0), (99707, 0.866025403784439), (99719, 0), (99833, 0.9819805060619666), (99952, 0.6546536707079769), (99963, 0.4999999999999982), (99966, 0.7559289460184538), (100158, 0.8660254037844378), (100396, -0.49999999999999917), (100510, 1.0), (100577, 0.9607689228305224), (100696, 0), (100723, 0.9607689228305224), (100838, 0), (100901, 0.8386278693775345), (101005, 0.27735009811261696), (101075, 0.9999999999999956), (101082, 0.9819805060619666), (101102, -0.5), (101197, 0.9819805060619675), (101211, 0.3273268353539889), (101239, 0.6933752452815372), (101271, -0.2773500981126125), (101361, 0.2401922307076306), (101367, 0.8122395730440854), (101392, 0.0), (101513, 0), (101568, -1.000000000000016), (101609, 0.9707253433941615), (101651, 0.0), (101891, 0.5), (101949, 0.3273268353539889), (101994, 0.24019223070763082), (102057, 0.7205766921228924), (102099, 0.8660254037844402), (102106, 0.8660254037844402), (102112, -0.15554275420956376), (102159, -0.8660254037844448), (102231, 1.0), (102309, -0.3273268353539889), (102558, 0.8660254037844355), (102625, 1.0000000000000053), (102674, 0.8660254037844387), (102709, -0.5), (102729, 0.9707253433941615), (102771, 0.7559289460184567), (102796, 0.9607689228305233), (102809, 0.8660254037844402), (102850, 0), (102890, 0.9244734516419049), (102909, 0.9819805060619666), (102977, 0), (103154, 0.8660254037844402), (103288, 0.9819805060619675), (103457, 0.8660254037844385), (103481, 0.9607689228305233), (103503, 0.0), (103678, 0.8660254037844402), (103732, 0.933256525257383), (103902, 0.34995661963667807), (103945, -0.3273268353539889), (104016, 0.7205766921228919), (104228, 0.989743318610787), (104249, 0.0), (104305, 0.5), (104463, 0.0), (104493, 0), (104706, -0.03846153846153873), (104718, 0.13206763594884355), (104738, 0.1889822365046136), (104829, 0.6933752452815372), (104864, 0), (104867, 0.6546536707079769), (105070, 0.0), (105082, 0.0), (105097, 0.5), (105109, 0.9819805060619666), (105141, 0.6933752452815223), (105272, 0.0), (105376, -0.8660254037844355), (105423, 0.2773500981126125), (105437, 1.0), (105447, 0.9933992677987827), (105614, -0.8660254037844378), (105713, 0), (105784, -0.8660254037844378), (105996, 0.6933752452815372), (105997, 0.8660254037844448), (106102, 0.9707253433941508), (106138, 0.8660254037844387), (106165, -0.6546536707079778), (106542, 0.7205766921228919), (106582, 0.0), (106732, 1.0), (106797, 0.9707253433941615), (106843, 0.9707253433941506), (107038, 0.9607689228305224), (107062, 0.0), (107371, 0.0), (107391, 0.8386278693775367), (107652, 0.9607689228305224), (107681, 1.0), (107720, -0.2773500981126066), (107729, -0.2773500981126149), (107834, 0.8660254037844387), (107854, -0.2773500981126141), (107856, 0.917662935482247), (107900, -0.6546536707079769), (107930, 0.2773500981126125), (107992, 0.8660254037844386), (108096, -0.27735009811261446), (108291, 0.41931393468876615), (108363, 0.9819805060619622), (108394, 0.32732683535398843), (108404, 0.0), (108457, 0.9958705948858209), (108532, 0.8910421112136298), (108710, 0.6933752452815365), (108788, 0.9449111825230669), (108961, 0.7205766921228924), (109210, -0.2773500981126066), (109213, 0.8660254037844402), (109373, 0.5960395606792698), (109631, 0.9607689228305224), (109661, 0.9933992677987827), (109664, -0.27735009811261363), (109671, 1.0), (109922, 1.0), (110019, 0), (110288, 0.5000000000000053), (110423, 0.0), (110588, -0.6933752452815365), (110599, 0.9707253433941615), (110656, 0.5), (110741, 1.0), (110848, 0.8660254037844402), (110852, 0.5), (110931, -0.7205766921228919), (111079, 0.7777137710478188), (111138, 0.32732683535398843), (111158, 0.8660254037844386), (111380, 0.8660254037844448), (111455, 0.8660254037844387), (111597, 0.9707253433941504), (111652, 0.0), (111763, -0.3973597071195131), (111791, 0.05241424183609513), (111970, 0), (111986, -0.944911182523068), (112106, 0.5), (112156, 0.9707253433941407), (112220, 0.8029550685469616), (112804, 0.9607689228305224), (112872, 0.6933752452815223), (112880, 0.9707253433941556), (113225, 0.8660254037844402), (113326, 0.9607689228305233), (113399, 0.8660254037844402), (113401, 1.0), (113470, -0.6933752452815357), (113514, 0.9607689228305233), (113549, 0.6933752452815372), (113733, -0.8660254037844387), (113810, 0.8660254037844448), (113985, 0.5), (113995, 0.0), (114109, 0.6933752452815372), (114118, 0.6933752452815372), (114123, -0.8660254037844355), (114137, 0.5), (114183, -0.3273268353539889), (114230, 0.9226129063148778), (114292, 0.7559289460184567), (114382, 0.27735009811261396), (114570, 0.9449111825230679), (114590, 0.8660254037844402), (114639, 0.6546536707079778), (114758, 0.5), (114983, -0.3273268353539889), (115109, 0), (115156, 0.9449111825230669), (115160, -0.5000000000000027), (115212, 0.8660254037844448), (115215, 0.9819805060619652), (115298, 0), (115371, 0.8660254037844448), (115398, 0.8660254037844387), (115426, 0.05241424183609745), (115481, 0), (115644, 0), (115646, 0.6546536707079778), (115679, 0.8660254037844448), (115786, 0.7751332793988398), (115787, 0.8660254037844448), (115824, 1.0000000000000018), (115876, 1.0), (115988, 0), (116106, 0.5), (116352, 0.8660254037844387), (116382, 0.9607689228305224), (116455, 0.42712109808862453), (116539, 0), (116735, 0.0), (116777, 0.7205766921228919), (116828, 0.6933752452815355), (116873, 0.05241424183609745), (116996, 0.2401922307076306), (117065, 0.8660254037844402), (117146, 0.6933752452815372), (117250, 0.6933752452815223), (117255, 0.9607689228305224), (117441, 0.7205766921228919), (117498, 0.9707253433941504), (117499, 0.3973597071195133), (117692, 0.9707253433941521), (117710, -0.2773500981126125), (117853, 0.8660254037844355), (117878, 0.9449111825230686), (117888, 0.7205766921228924), (117962, 0.6933752452815372), (118090, 0.2401922307076306), (118285, 0.2401922307076306), (118297, 0.9933992677987833), (118389, -0.8660254037844387), (118423, 0.052414241836095214), (118470, 0.8386278693775367), (118489, 0.8660254037844448), (118575, 0.5), (118662, 0.8660254037844402), (118666, 0.8660254037844355), (118847, 1.0), (118877, 0.49999999999999867), (119064, 0.8660254037844264), (119108, 0.9707253433941615), (119222, 1.0000000000000027), (119280, -0.27735009811261446), (119436, 0.5000000000000009), (119484, -0.3273268353539889), (119597, 0.0), (119741, 0.8660254037844448), (119804, 0.576556660197054), (119816, 0.8846153846153847), (119929, 0.7205766921228919), (119957, 0.3711537444790451), (120103, -0.2773500981126145), (120201, -0.8660254037844386), (120299, -0.9607689228305224), (120501, 0.5), (120570, 0.8660254037844448), (120755, 0.18898223650461468), (120997, 0.2401922307076306), (121137, -0.5), (121308, 0.9707253433941506), (121414, -0.8660254037844448), (121472, -0.8660254037844355), (121578, 1.0), (121653, -0.6546536707079778), (121802, 0.8660254037844402), (121841, 0.0), (121845, -0.2401922307076306), (121858, 0.7205766921228919), (121867, 0.9819805060619666), (121888, 0.5), (121987, 0.3499566196366769), (122052, 0.9707253433941506), (122160, 1.0), (122264, 0.8910421112136298), (122399, 0.5), (122537, 0.0), (122822, 0.9707253433941556), (122930, 0.8660254037844378), (122946, 0), (122953, 0.8660254037844402), (122963, 0.6933752452815372), (123058, 0.5000000000000009), (123075, 0.41931393468876615), (123141, -0.32732683535398843), (123197, 0.5), (123372, 0.0), (123598, 1.0), (123661, 0.5), (123692, 0.8660254037844448), (123812, 0.9607689228305224), (123934, 0.41931393468876776), (123990, 0.8660254037844448), (124117, 0.5), (124226, 0.3273268353539889), (124238, 0.7205766921228919), (124356, 0.5), (124622, 0.7205766921228919), (124714, 0.0), (124763, 0.5), (124830, 0.8910421112136298), (125036, 0.944911182523068), (125141, 0), (125160, 0.5000000000000017), (125249, 0.5), (125450, -0.8660254037844264), (125491, -1.0000000000000027), (125657, 0.2401922307076306), (125879, 0.9819805060619656), (125890, 0.0), (125943, -0.9999999999999947), (126122, 0.2773500981126125), (126173, 0.8910421112136306), (126221, 1.0), (126242, -0.2773500981126151), (126385, 0.5000000000000053), (126413, 0.5000000000000002), (126514, 0.8660254037844402), (126820, 0.7205766921228919), (126901, 0.7953559537197217), (127137, -0.2773500981126125), (127167, 0.5), (127233, -0.5000000000000009), (127348, -0.999999999999992), (127383, 0), (127457, 0.8660254037844448), (127715, -0.27735009811261363), (127733, 0.8660254037844448), (127881, -0.5000000000000013), (127895, 0.8660254037844448), (127910, 0.7205766921228924), (128109, 0.6546536707079769), (128453, 0.9607689228305224), (128568, 0.8660254037844448), (128622, -0.9607689228305224), (129040, 1.000000000000016), (129138, 0.27735009811261696), (129242, 1.0), (129454, -0.5000000000000027), (129479, -0.038461538461537895), (129483, 0.933256525257383), (129608, -0.5000000000000004), (129622, 0.7205766921228919), (129842, 0.3273268353539889), (129883, 0.0), (130038, 0.9707253433941615), (130079, -0.27735009811261446), (130368, 0.9819805060619675), (130546, -0.8660254037844387), (130630, 0.9707253433941534), (130798, 0.9707253433941407), (130863, 0.05241424183609626), (130962, -0.2401922307076306), (131042, 0.0), (131110, 0.6546536707079769), (131137, 0.32732683535398843), (131187, 0.5), (131360, 1.0), (131474, 0.8660254037844448), (131505, 0.9707253433941504), (131550, 0.0), (131684, -0.2773500981126066), (131799, 0.9958705948858246), (131820, 0.2401922307076306), (131882, 0.5), (131989, -0.6933752452815362), (131993, 0.34995661963667807), (132052, 0.6546536707079778), (132094, 0.5000000000000053), (132200, 0.6546536707079769), (132276, -0.3273268353539889), (132522, -0.8660254037844387), (132528, 0.8660254037844402), (132596, 0.6546536707079773), (132807, -0.4999999999999992), (132971, 0.0), (132996, 0.8660254037844402), (133012, -0.32732683535398854), (133160, -0.3973597071195133), (133418, 0.0), (133530, 0.9819805060619675), (133610, 0.999999999999992), (133970, 0.6933752452815372), (134015, 0.41931393468876615), (134025, 0.2401922307076306), (134263, 0.9819805060619666), (134389, -0.27735009811261446), (134405, 1.0), (134627, 0.8660254037844378), (134775, 0.9819805060619666), (134862, 0.5000000000000009), (134920, 0.8660254037844402), (134941, 0.0), (134965, -0.27735009811261696), (135047, 0.8660254037844448), (135099, 0.8660254037844448), (135114, -0.9607689228305224), (135292, 0.7924058156930613), (135320, 0.5), (135331, 0.8660254037844402), (135360, 0.5000000000000053), (135394, 0.8660254037844402), (135564, 0.9176629354822476), (135953, -0.8660254037844448), (136050, 0), (136085, 0.9986254289035237), (136214, 0.49999999999999933), (136398, -0.27735009811261546), (136467, 0.3273268353539889), (136495, -0.14803422705323438), (136559, -0.7205766921228919), (136568, -0.9819805060619666), (136604, 0.5), (136673, 0.9707253433941504), (136695, 0.7559289460184544), (136776, 0.7205766921228924), (137179, -0.8660254037844402), (137183, 0.7559289460184544), (137274, 0.8660254037844387), (137329, 1.0), (137530, 1.0), (137713, 0.6933752452815362), (137765, 0.6546536707079783), (137956, 0.8660254037844402), (138425, 0.8660254037844448), (138457, 0.9449111825230679), (138482, 0.8660254037844402), (138533, 0.0), (138598, 0.41931393468876776), (138757, 0.8660254037844378), (138765, 0), (138814, 0.5), (138856, 0.9449111825230734), (138987, 0.8660254037844448), (139080, 0.9819805060619652), (139382, 0.7970167702187488), (139505, 0.1889822365046136), (139520, 0.2773500981126125), (139691, -0.6933752452815223), (139776, 0.8660254037844402), (139796, 0.7205766921228919), (139850, 0.41931393468876776), (139940, 0), (140023, 0.9707253433941615), (140073, -0.9999999999999964), (140223, -0.27735009811261446), (140279, 0.24019223070763082), (140653, 0.981980506061966), (140678, 0.1889822365046136), (140687, 0.0), (140741, 0.27735009811261446), (140813, -0.5), (140853, 0.18898223650461146), (140967, 0.9285714285714306), (141040, 0.5), (141145, 0.9607689228305224), (141172, 0.7205766921228919), (141269, -0.27735009811261546), (141301, 0.5), (141349, 0.8660254037844355), (141462, 0.8660254037844387), (141629, -0.32732683535398843), (141750, 0.8660254037844448), (142000, 0.9449111825230734), (142049, -0.2773500981126125), (142120, 1.000000000000016), (142480, 0.8660254037844448), (142725, 0.49999999999999734), (142794, 0), (143181, -0.8660254037844385), (143206, 0.8660254037844402), (143264, -0.6546536707079769), (143357, 0.7559289460184544), (143416, 0), (143577, 0.7205766921228919), (143684, 0), (143703, 0.9707253433941506), (143954, 0.32732683535398843), (144000, -0.636284762975778), (144025, 0.8660254037844448), (144088, 0.9999999999999947), (144322, 0.8660254037844402), (144371, 0.8660254037844387), (144595, 0.5), (144616, 0.8660254037844402), (144643, -0.5), (144913, 0.8660254037844385), (145088, 0.7205766921228919), (145123, -0.49999999999999734), (145448, -0.8660254037844448), (145456, 0.6933752452815223), (145474, 1.0000000000000053), (145551, 0.8660254037844355), (145792, -0.5000000000000053), (145853, -1.0000000000000018), (145944, 0.8660254037844388), (145948, 0.8660254037844387), (146057, 0.944911182523068), (146157, 0.0), (146185, 0.4999999999999982), (146438, 0.8660254037844402), (146457, 0.8660254037844402), (146500, 0.6933752452815372), (146566, 0.9707253433941508), (146607, -0.8660254037844355), (146633, 0.9607689228305233), (146772, 0.18898223650461146), (146891, 0.5), (146930, 0.866025403784439), (147021, -0.2773500981126125), (147049, 0.8660254037844387), (147247, 0), (147269, 0.0), (147374, 0.6286185570937122), (147618, 0.5), (147807, 0.05241424183609745), (147824, 0.9078412990032033), (147871, 0.0), (147903, -0.9819805060619666), (148009, -0.6546536707079769), (148693, 0.15554275420956382), (148783, 0.0), (148784, 0.866025403784439), (148810, 0.8660254037844386), (148948, 0.7559289460184538), (149035, 0.6933752452815368), (149238, 0.2773500981126125), (149266, -0.8660254037844402), (149466, 0.8660254037844402), (149583, -1.000000000000016), (149722, 1.000000000000016), (149877, 0.7559289460184567), (149890, 0.0), (149983, 0.9707253433941504), (150194, 0.9607689228305224), (150501, 0.8660254037844264), (150574, -0.5765566601970562), (150916, 0), (151035, 1.0), (151057, 0), (151183, 0.6933752452815372), (151280, 0), (151305, -0.6546536707079778), (151361, 0.8660254037844448), (151410, -0.42712109808862453), (151446, 0.7559289460184538), (151465, 0.7205766921228919), (151476, 0.6099942813304191), (151753, -0.09078412990032034), (151879, 0), (151948, -0.8660254037844448), (152049, 0.9607689228305224), (152058, 0.5), (152127, 0.2401922307076306), (152378, 0.2773500981126125), (152455, 0.0), (152633, 0.0), (152726, -0.27735009811261446), (152862, 0.6546536707079769), (152939, -0.981980506061966), (153205, 0.32732683535398843), (153329, -0.8660254037844448), (153362, 0.0), (153468, 0), (153558, -1.0000000000000018), (153636, -0.2773500981126125), (153794, 0.8910421112136298), (153877, 0.0), (153879, 0.7205766921228924), (153895, 0.9449111825230679), (153936, 0.7953559537197218), (154043, 0.8660254037844378), (154152, 0.8660254037844386), (154210, 0.3973597071195133), (154245, 0.5), (154284, -0.5000000000000053), (154294, 0), (154297, 0.2401922307076306), (154324, 0.6546536707079778), (154448, 0.27735009811261696), (154452, 0.9819805060619652), (154537, -0.5), (154564, 0.5), (154650, 0.5), (154660, 1.0), (154769, 0), (154829, 0.8660254037844402), (154897, 0.9449111825230686), (154951, 0.0), (154994, -0.6546536707079778), (155302, -0.5960395606792698), (155548, -0.2773500981126151), (155609, 0.8660254037844448), (155720, 0.8660254037844448), (155806, 1.0), (155825, 0), (155978, 0.9607689228305233), (155986, 1.0), (156477, 0.6933752452815359), (156636, 0.0), (156700, 0.9707253433941504), (157043, -0.8660254037844355), (157347, 0.9819805060619652), (157445, 0.6546536707079773), (157781, 0.8660254037844355), (157786, 0.0), (157804, 0), (157864, -0.5), (157927, 0.9819805060619666), (158060, 0.9819805060619652), (158073, 0.9176629354822506), (158079, 0.5), (158291, 0.8910421112136298), (158349, 0.9449111825230734), (158387, 0.9285714285714288), (158404, 0.0), (158419, 0.9707253433941508), (158611, 0.8660254037844448), (158755, 0.5), (158914, 0.8660254037844402), (158958, 0.9819805060619666), (159085, 1.0), (159375, 0.3273268353539886), (159417, 0.9707253433941504), (159565, 0), (159569, 0.6933752452815372), (159646, 0.6933752452815372), (159652, -0.27735009811261446), (159684, -0.9607689228305224), (159818, 0.0), (159959, 0.0), (160047, 0.8386278693775349), (160184, 0.7205766921228919), (160194, 0.0), (160327, 0.6546536707079778), (160329, 0.5), (160338, 1.000000000000016), (160522, -0.5), (160599, 0.6933752452815364), (160632, 0.8660254037844387), (160753, 0.8660254037844448), (160870, 0.0), (160873, 0), (160941, 0.0), (161133, 0.8660254037844385), (161215, 0.6933752452815372), (161270, -0.8660254037844448), (161357, 0.5), (161379, 0.9707253433941615), (161569, 0.8660254037844448), (161620, 0.8660254037844402), (162112, 0.8660254037844402), (162127, 0.8660254037844448), (162280, 0.8660254037844448), (162411, 0.6933752452815372), (162475, 0.9607689228305224), (162511, -0.5765566601970562), (162516, -0.5), (162546, 0), (162885, -0.2773500981126125), (163000, 0.9999999999999992), (163032, 0.8029550685469663), (163065, 0.3273268353539889), (163234, -0.27735009811261535), (163241, -0.4999999999999982), (163305, 1.0), (163373, 0.9707253433941504), (163528, -0.27735009811261696), (163626, 0.6546536707079773), (163721, 0.9707253433941452), (163760, 0.9449111825230679), (163793, 0.24019223070763082), (163805, 0.5), (163910, 0.8660254037844402), (164256, -0.6546536707079769), (164311, -0.27735009811261535), (164317, -0.2401922307076306), (164551, 0.05241424183609745), (164631, 0.41931393468876615), (164746, 0.7205766921228919), (164783, 0.981980506061966), (164923, 0.6546536707079778), (165024, 0.0), (165128, 0.9707253433941407), (165226, 0), (165228, 0.8660254037844448), (165259, 0.9707253433941615), (165297, -0.8660254037844402), (165328, -0.2773500981126125), (165433, 0.2401922307076306), (165491, -0.09078412990032034), (165718, 0.2401922307076306), (165960, -0.8660254037844448), (165990, 0.6933752452815372), (166028, 0.5), (166067, 1.0), (166124, 0.8660254037844402), (166392, 0.9819805060619666), (166428, 0.0), (166488, 1.0), (166533, 0.9958705948858209), (166767, 0.2401922307076306), (166981, 0.8660254037844387), (167154, 0.8660254037844355), (167156, 0.0), (167321, 0.9449111825230679), (167603, 0.8660254037844355), (167648, 0.9819805060619666), (167713, 0.9607689228305224), (167880, 0.7559289460184487), (167922, -0.5), (167987, -0.9707253433941521), (167989, 0), (168243, 0.2401922307076306), (168292, -0.9449111825230669), (168328, 0.9607689228305224), (168337, 1.0), (168435, -0.5), (168524, 0.2401922307076306), (168611, 1.0), (168651, 0.7559289460184544), (168843, 0.9707253433941615), (168886, -0.03846153846153957), (168929, 0), (169040, 0.6546536707079771), (169062, 0.7559289460184538), (169192, 0.0), (169262, 0), (169417, -0.24019223070763082), (169556, 0.0), (169579, 0.0), (169613, 0.9607689228305224), (169666, 0.970725343394151), (169701, 0.8660254037844402), (169713, 0.9707253433941615), (169755, 0.0), (169768, 0.0), (169937, -0.8660254037844448), (170021, 0.7559289460184544), (170378, 0.6933752452815394), (170504, 0.9707253433941615), (170551, 0.9819805060619652), (170633, 0.981980506061966), (170657, 0.7205766921228919), (170762, 0.0), (170801, 0.0), (171035, -0.8660254037844402), (171096, 0), (171143, 0.7205766921228919), (171242, 0.9607689228305233), (171297, 0.34995661963667807), (171326, -0.6933752452815372), (171519, 0.9819805060619652), (171575, 0.9607689228305224), (171589, -0.8660254037844448), (171614, 0.3273268353539889), (171643, 0.18898223650461146), (171683, -1.0000000000000027), (171911, 0.9707253433941615), (172172, -0.1889822365046136), (172253, -0.5), (172316, 1.0), (172444, -0.5), (172453, 0.8660254037844448), (172464, 0), (172561, 0.6546536707079778), (172575, 0.981980506061966), (172586, -0.2773500981126125), (172617, 0.6546536707079778), (172825, 0.32732683535398843), (172929, 0), (172966, 0.6546536707079773), (172989, 0.7205766921228919), (173076, 0.8660254037844385), (173775, 0.8660254037844264), (173909, 0.3273268353539889), (173941, 0.2401922307076306), (173985, 0.3273268353539889), (173988, 0.9607689228305224), (174135, 0.5), (174154, 1.0), (174381, -0.27735009811261363), (174383, 0), (174439, -0.8660254037844355), (174475, 0), (174558, 0.8660254037844387), (174577, 0.7205766921228919), (174615, 0.9707253433941521), (174619, 0), (174632, 0), (174643, 0.2401922307076306), (175039, 0.8660254037844388), (175118, -0.8660254037844448), (175154, 0.3973597071195133), (175167, 0), (175209, 0.59603956067927), (175210, 0.0), (175223, 0.8660254037844378), (175278, -0.8660254037844448), (175296, 0.8660254037844378), (175406, 0.8660254037844387), (175603, -0.8660254037844448), (175706, 1.000000000000016), (175750, 0.9707253433941615), (175838, -0.9449111825230669), (175878, 0.9607689228305233), (175887, -0.5), (176062, 0.15554275420956382), (176335, 0.5000000000000004), (176502, 0.9999999999999947), (176734, 0.8660254037844448), (176770, 0.9986254289035237), (176800, 0.7205766921228919), (176958, 0.0), (176965, 0), (176981, 0), (177067, 0.8660254037844402), (177124, 0.8660254037844355), (177330, 1.0), (177332, 0.8660254037844448), (177363, 0.5), (177391, 0), (177446, 0.6933752452815223), (177719, -0.27735009811261546), (177784, 0.49999999999999867), (177815, 0.7205766921228924), (178183, -0.9966158955401239), (178269, 0.8660254037844448), (178272, 0.576556660197054), (178393, -0.24019223070763082), (178413, 0.4999999999999996), (178459, 0.9707253433941504), (178507, -0.8660254037844402), (178686, 0), (178795, 0.9707253433941615), (178841, 0.0), (178881, -0.2773500981126066), (179106, 0.8660254037844402), (179132, 0.7777137710478188), (179133, -0.9707253433941615), (179191, 0.9707253433941615), (179259, -0.09078412990032034), (179450, 0.5000000000000009), (179481, 0.9607689228305233), (179657, 0.9819805060619652), (179718, 0.2773500981126125), (179731, 0.0), (179834, 0.0), (179843, 0.7205766921228919), (179873, 0.7205766921228919), (179991, 0.7205766921228919), (180280, 0.8660254037844448), (180428, 0), (180618, 0.9707253433941504), (180823, 0.6933752452815394), (180928, 0.5), (180951, 1.0), (181089, -0.5765566601970562), (181253, 0.9819805060619652), (181419, 0.0), (181531, 0.7205766921228919), (181780, 0.8660254037844355), (181840, 0.7205766921228919), (182040, 0.0), (182048, 0.8660254037844386), (182192, 0.2401922307076306), (182223, 0.3973597071195133), (182229, 0.9707253433941452), (182353, -0.5765566601970559), (182368, 0.9449111825230679), (182458, 0.8660254037844448), (182726, -0.45392064950160166), (182737, 0.9707253433941556), (182783, 0.5), (182957, 0.1889822365046136), (183132, -0.8660254037844448), (183234, 0.576556660197054), (183307, -0.5), (183572, -0.27735009811261546), (183732, 1.0), (183899, 0.8660254037844402), (183906, 0.8660254037844448), (183995, 0.6546536707079778), (184242, -0.5), (184260, 0.0), (184477, 0.944911182523068), (184541, 0.9449111825230679), (184603, 0.0), (184689, -0.9819805060619666), (185089, -0.24019223070763066), (185166, 0.9449111825230734), (185261, -0.49999999999999734), (185267, 0.9819805060619666), (185285, 0.41931393468876615), (185412, 0), (185464, -0.2773500981126184), (185557, 0.821994936526787), (185709, 0.09078412990032032), (185724, 0.8660254037844448), (185818, 0.0), (186054, 0.9707253433941452), (186135, 0.6546536707079769), (186147, 0.0), (186329, 0.866025403784439), (186850, 1.0), (186869, 0.6546536707079778), (186885, 0), (186930, 0.6933752452815372), (187110, -0.277350098112615), (187264, 0.944911182523068), (187383, 0), (187552, -0.8660254037844448), (187784, 0.9607689228305224), (187792, 0.8660254037844355), (187863, 0.6546536707079778), (187918, 0), (187932, 0), (188025, 0.5), (188046, 0.0), (188064, 0.9707253433941521), (188200, 0.6933752452815364), (188209, 0.9707253433941534), (188330, -0.5), (188397, 0.8660254037844448), (188477, 0.8660254037844448), (188564, 0.9449111825230686), (188824, 0), (189049, 0.3973597071195131), (189061, 0.0), (189162, -0.27735009811261696), (189276, 0), (189401, 0.8660254037844402), (189521, 0.9819805060619666), (189536, 0.6546536707079778), (189581, 0.0), (189829, 0), (190048, 0.6933752452815372), (190140, 0.8660254037844355), (190367, -0.8660254037844448), (190394, -0.6933752452815223), (190579, 0.6546536707079771), (190762, 0.8660254037844448), (190839, 0.0), (190871, 1.0000000000000018), (190968, 0.3273268353539889), (190971, 1.0), (191006, 1.0), (191127, -0.5), (191134, 0.41931393468876615), (191404, 0.4999999999999996), (191480, 0.8660254037844378), (191512, 0.6933752452815364), (191518, -0.2773500981126125), (191674, 0.8660254037844448), (191683, 0), (191840, 0.0), (191919, 0), (192073, 0.8660254037844387), (192115, 0.7205766921228919), (192165, 0.9707253433941508), (192238, 0.8660254037844448), (192323, 0.8660254037844402), (192341, -0.7205766921228919), (192401, 0.0), (192544, 0.0), (192551, 0.7205766921228919), (192575, 0.9819805060619666), (192654, 0.8660254037844448), (192707, -0.2773500981126066), (192717, -0.5000000000000013), (192893, 0.9707253433941615), (193043, 0), (193057, 0), (193225, 0.0), (193358, 0.32732683535398865), (193360, 0), (193384, 1.0), (193461, -0.8660254037844355), (193484, 0.27735009811261546), (193638, 0.9078412990032033), (193647, 0.8846153846153838), (193938, 0.9215506405654278), (194204, 0.8660254037844378), (194225, -0.2773500981126125), (194380, 0.3973597071195133), (194442, 0), (194537, -0.9933992677987827), (194572, 0.8660254037844402), (194574, 0), (194794, 0.0), (194802, 0.0), (194899, 0.8660254037844378), (194903, 0.8660254037844402), (194941, -0.6933752452815223), (194993, 0.0), (195041, 0.9819805060619666), (195048, 0.8660254037844402), (195066, 0.944911182523068), (195081, 0.8660254037844448), (195301, 0.9707253433941521), (195302, 0.8660254037844448), (195408, 0.9819805060619666), (195656, 0.7205766921228919), (195779, 0.8910421112136298), (195943, 0), (195944, 0.49999999999998934), (195945, 0.0), (195949, 0), (196005, 1.0), (196011, 0.2773500981126125), (196049, 0.32732683535398843), (196055, -0.2773500981126149), (196087, 0.9707253433941506), (196103, -0.8660254037844448), (196177, 0.8660254037844387), (196224, 0.817057169102883), (196279, 0.6933752452815394), (196290, 0.49999999999999734), (196484, 0.0), (196501, 0.6933752452815394), (196556, 1.0), (196586, 0.9707253433941504), (196615, 0.6933752452815394), (196621, 0), (196780, 0), (197062, 0.8660254037844378), (197127, 0.8660254037844387), (197173, -0.5), (197201, 0.052414241836095214), (197310, 0.8660254037844402), (197358, 0.8660254037844448), (197803, 0.9707253433941506), (197848, 0.8660254037844355), (197922, 0.9607689228305228), (198088, 0.8660254037844402), (198111, 1.0), (198289, -0.6933752452815394), (198380, 0.7559289460184567), (198453, 0), (198506, 0.8660254037844264), (198560, 0.8660254037844378), (198573, 0.32732683535398843), (198606, 0.8660254037844355), (198623, 0.7559289460184551), (198738, 0.5), (198802, 0.0), (198819, -0.9958705948858209), (198822, 0.6933752452815372), (199147, -1.000000000000016), (199246, 0.576556660197054), (199389, 0.5), (199454, -0.9176629354822458), (199665, 0), (199688, 1.0), (200057, 0.8660254037844448), (200201, -0.6546536707079769), (200249, 0), (200266, 0.2401922307076306), (200272, 0.7205766921228919), (200316, 0.9607689228305224), (200903, 0.8386278693775367), (200958, 0.13206763594884355), (201030, 0.8660254037844448), (201087, 0.9707253433941506), (201093, 0.8660254037844402), (201187, 0.3499566196366769), (201372, 0.6546536707079778), (201400, 0.0), (201449, 0), (201493, 0.5), (201580, 0.8660254037844448), (201652, 0.8660254037844448), (201912, 0.8386278693775367), (202112, 0.9707253433941504), (202139, 0.500000000000004), (202152, 0.0), (202259, 0.0), (202268, 0), (202275, 1.000000000000004), (202315, 0.9707253433941615), (202586, 0.9449111825230669), (202637, -0.8660254037844448), (202719, 0.8910421112136298), (202772, 0.8386278693775345), (202796, 0.8660254037844355), (202839, 0.944911182523069), (203161, -0.27735009811261446), (203175, 0.8660254037844402), (203324, 0.9707253433941503), (203338, 0.0), (203438, 0.9707253433941615), (203538, 0.2401922307076306), (203567, 0.8029550685469663), (203581, 0.8660254037844402), (203631, -0.24019223070763082), (203913, 0.9707253433941407), (203986, 0.8660254037844448), (203998, 0.9607689228305224), (204058, 0.8386278693775333), (204067, 0.8660254037844448), (204090, -0.5), (204173, 0.9607689228305233), (204226, 0.3973597071195131), (204438, 0.5), (204511, 0.5960395606792698), (204583, 0.0), (204641, 0.0), (204830, 0.944911182523068), (204854, 0.8660254037844355), (204959, 1.0), (204973, 1.0), (205011, -0.5), (205117, -0.1889822365046136), (205184, -0.2773500981126125), (205378, 0.9819805060619652), (205444, 0.6546536707079769), (205459, 0.8660254037844448), (205559, 0.27735009811261396), (205643, 0.7924058156930613), (205691, 0.0), (205967, 0.9819805060619666), (206129, 0.6933752452815394), (206452, 0), (206909, 0.2401922307076306), (207023, 0.6546536707079778), (207109, -0.27735009811261696), (207150, 0.8660254037844387), (207291, 0.9607689228305224), (207352, -0.9707253433941534), (207420, 0.7205766921228919), (207452, 0.8660254037844448), (207469, 0.7857142857142871), (207631, 0.6933752452815372), (207635, 0.7205766921228919), (207702, 0.9819805060619666), (207723, 0.0), (207812, 0.6933752452815394), (207831, 0.3273268353539889), (207906, 0), (208029, -0.8660254037844355), (208053, 0.5), (208107, 0.9958705948858246), (208125, 0.6933752452815372), (208299, 0), (208504, 0.8660254037844387), (208581, 0), (208673, 0.8660254037844355), (208870, 0.2401922307076306), (208878, 0.5), (209052, -0.32732683535398843), (209185, 0.0), (209261, -0.6933752452815432), (209341, 0.0), (209390, 0.32732683535398915), (209424, 0.8029550685469663), (209448, 0.5), (209550, 0.9226129063148778), (209685, 0.9607689228305224), (209716, -0.8660254037844355), (209722, 0.32732683535398843), (210007, 0.3273268353539889), (210070, 0.8660254037844264), (210080, 0.7559289460184538), (210137, 0.8660254037844402), (210152, 0.0), (210252, 0.9607689228305224), (210262, 0), (210473, 0.8660254037844402), (210668, 0.0), (210792, 0.7205766921228924), (210835, 0.8660254037844448), (210872, -0.2773500981126125), (210959, -0.866025403784439), (211120, 0.9707253433941615), (211163, -0.2401922307076306), (211294, 0.8029550685469682), (211346, -0.1147078669352795), (211458, 0), (211468, 0.15554275420956382), (211506, 0.6933752452815372), (211519, 0.5), (211579, 0.7205766921228924), (211700, 0.8660254037844448), (211758, 0.9933992677987833), (211791, 0.6933752452815304), (211808, 0.2401922307076306), (211824, 0.904194430179466), (211840, 0.8910421112136298), (211886, 0.8660254037844402), (211988, 0.2401922307076306), (212558, 0.0), (212743, 0.9819805060619666), (212777, -0.03846153846153957), (213006, 0.11470786693528187), (213043, 0.7205766921228919), (213099, -0.2773500981126148), (213159, -0.9449111825230676), (213203, 0.5), (213559, 0.2773500981126149), (213742, 0.6546536707079769), (213743, 0.8660254037844448), (214046, 0.8660254037844386), (214072, 0.5), (214091, 0.9707253433941506), (214094, 0.7924058156930613), (214120, 0.8660254037844448), (214151, -0.14803422705323438), (214422, 0.8660254037844402), (214473, 0.9707253433941452), (214708, 0.9707253433941556), (214819, 0.6933752452815372), (214943, -0.27735009811261363), (215238, 0.8660254037844402), (215271, 0.5), (215445, 0.0), (215468, 0.2401922307076306), (215705, -0.576556660197054), (215749, -0.057639041770423866), (215846, 0.5765566601970554), (215869, 0.9449111825230654), (216065, 0.0), (216142, 0.8660254037844402), (216241, 0.2401922307076306), (216388, 0.9819805060619666), (216527, -0.866025403784439), (217030, 0.6933752452815364), (217388, 0), (217651, -0.5), (217661, 0.8660254037844402), (217788, 0.6933752452815372), (218008, 0.9607689228305224), (218169, 0.8386278693775367), (218424, 0.8660254037844387), (218899, 0.9933992677987833), (219122, 1.0), (219574, 0.9522165814091076), (219748, 0.0), (219770, -0.8660254037844402), (219869, 0.4999999999999996), (219981, -0.2773500981126125), (220063, 0.9607689228305224), (220283, -0.7559289460184538), (220295, -0.2773500981126184), (220481, 0), (220492, 0.2773500981126125), (220552, 0.6933752452815223), (220594, 0.8660254037844402), (220650, 0.9707253433941504), (220816, 0.9607689228305233), (221050, 0.41931393468876776), (221058, 0.32732683535398843), (221099, -0.18898223650462023), (221204, 0.9933992677987827), (221233, 0.8660254037844402), (221255, 0.3973597071195133), (221475, 0.0), (221529, 0.8660254037844402), (221610, 0.3273268353539889), (221623, 0.9449111825230734), (221639, 0.8660254037844402), (221640, -0.27735009811261446), (221780, 0.6933752452815346), (221830, 0.9707253433941502), (221943, 0.6185895741317419), (222113, 0.7559289460184544), (222132, 0.3273268353539889), (222218, -0.24019223070763082), (222248, 1.0), (222322, 1.0), (222327, -0.27735009811261696), (222465, -0.8660254037844448), (222491, 0.0), (222501, 0.6546536707079769), (222570, 0.6546536707079778), (222603, 0.8660254037844402), (222607, 0.5), (222634, 0), (222673, 0.9707253433941513), (222902, 0.12725695259515646), (223001, 0.8660254037844387), (223030, 0.9607689228305224), (223059, 0.8660254037844388), (223066, 0.5), (223114, 0.6546536707079769), (223429, 0.0), (223476, 0.9707253433941556), (223677, -0.6933752452815432), (223722, 0.636284762975777), (223776, 0.0), (223926, 0.5), (223976, 0.576556660197054), (224052, -0.18898223650461493), (224145, 0.8660254037844448), (224245, 0.9962709627734351), (224325, 0.9707253433941556), (224369, 0.2401922307076306), (224585, 0), (224867, -0.9707253433941452), (224961, 0.9449111825230633), (225039, 0.2401922307076307), (225593, 0.6546536707079778), (225628, 0.0), (225676, 0), (225720, 0.2401922307076306), (225721, 0.8660254037844448), (225753, 0.27735009811261696), (225807, 0.8660254037844387), (225821, 0), (225940, -0.09078412990032034), (226024, 0.8660254037844448), (226302, 0.6933752452815372), (226390, -0.3273268353539889), (226405, 0.052414241836095214), (226537, 0.6933752452815372), (226707, 0.05241424183609517), (226866, 0.8660254037844402), (226877, 0.981980506061966), (227089, 0.0), (227236, 0), (227290, 0.2773500981126125), (227291, 0.3273268353539889), (227317, 0.9707253433941615), (227377, -0.2773500981126066), (227386, 0.2773500981126125), (227452, 1.0000000000000018), (227479, 0.9607689228305224), (227622, 0.6933752452815372), (227809, -0.944911182523068), (227977, 0.9707253433941452), (227984, 0), (228231, 0), (228538, 0.8660254037844402), (228578, 0.8660254037844448), (228801, 0), (228862, 0.4999999999999985), (228899, 0.8660254037844387), (228905, 0.9607689228305233), (229131, -0.27735009811261546), (229293, 1.0), (229545, 0.8660254037844402), (229814, -0.2773500981126141), (229945, 0), (230014, 0.9948497511671072), (230023, 0.6546536707079778), (230026, 0.32732683535398843), (230240, -0.2773500981126149), (230244, 0.866025403784439), (230259, 0.866025403784439), (230321, 0.0), (230359, 0.9607689228305224), (230465, -0.8660254037844387), (230539, 0), (230718, 0.5), (230829, 0.0), (231073, -0.3273268353539889), (231199, 0.0), (231206, 0.0), (231604, 0.8910421112136298), (231632, 1.0), (231649, 0.9607689228305224), (231669, -0.9707253433941534), (231767, 0.0), (231806, 0.0), (231853, 0.0), (231868, 0.6933752452815368), (231897, 1.0), (231999, 0), (232104, 0.0), (232427, 0.7205766921228919), (232531, 1.0), (232541, 0.917662935482247), (232653, -0.8660254037844448), (232730, -0.8660254037844402), (232747, -0.7205766921228919), (232939, 0.9244734516419049), (233092, 1.0000000000000018), (233099, 0.0), (233105, 0.5), (233192, 0.2401922307076306), (233316, 0.6933752452815372), (233382, 0.9707253433941615), (233480, 0.8660254037844387), (233736, 0.7924058156930616), (233852, 0.2401922307076306), (233954, 0.5), (234090, 0.8660254037844387), (234256, 0.8660254037844386), (234312, 0.1889822365046136), (234522, 0.8660254037844402), (234782, 0.7205766921228919), (234993, 0), (235040, -0.9707253433941615), (235181, 0.9819805060619652), (235323, 0.8660254037844402), (235333, 0.8660254037844386), (235375, 0.9332565252573828), (235636, 0.9933992677987846), (235638, 0.2401922307076306), (235640, 0.866025403784439), (235649, 0.8660254037844402), (235901, 0.9707253433941506), (235910, 0.5960395606792698), (236039, 0.9707253433941615), (236053, -0.05241424183609513), (236192, 0.15958626340564327), (236421, 0.9707253433941615), (236434, 0.866025403784439), (236632, 0.2401922307076306), (236645, 0.6933752452815372), (236779, -0.8660254037844378), (236949, 0.8660254037844402), (237037, 0.49999999999999867), (237118, 0.9819805060619666), (237212, -0.2773500981126125), (237249, -0.27735009811261546), (237255, 0.2401922307076306), (237700, 0.944911182523068), (237753, 0.5), (237841, -1.0), (237946, 0.5960395606792697), (238131, 0.0), (238350, 0.0), (238513, 0.5), (238673, 0.5), (238713, 0.5), (238755, 0.34995661963667807), (238768, 0.7205766921228919), (238772, 0.5000000000000012), (238792, 0.9607689228305224), (238873, 0.0), (238918, 0.6099942813304191), (239185, 0.9819805060619666), (239256, 0.9707253433941556), (239537, 0.9819805060619666), (239874, 0.5000000000000001), (239983, 0.27735009811261696), (240115, 0.38124642583151175), (240175, -0.2773500981126184), (240190, 0.8660254037844385), (240247, -0.6933752452815372), (240323, 0.9819805060619652), (240385, 0), (240411, 0.42712109808862453), (240443, 0.6933752452815362), (240492, 0.8660254037844448), (240700, 0.9707253433941615), (240757, 0.8660254037844355), (240802, 0.9707253433941407), (240817, -0.7205766921228924), (240852, 0.9607689228305233), (240917, 0.8386278693775367), (241047, -0.3273268353539889), (241309, 0.5), (241577, -0.8660254037844448), (241731, 0.6546536707079772), (241868, 0.8660254037844448), (241931, -0.2773500981126125), (241942, 0.5), (241984, 0.6546536707079778), (241999, 1.0), (242022, -0.8660254037844448), (242224, 0.8660254037844387), (242297, 0.0), (242333, 0.6933752452815364), (242340, 0.8660254037844448), (242355, 0), (242383, 0.41931393468876615), (242426, 0.27735009811261696), (242537, 0.0), (242682, 0.8910421112136306), (242704, 0.9707253433941513), (242788, 0.0), (242872, -0.8660254037844385), (243271, 0.8660254037844387), (243303, 0), (243503, 0), (243585, 0.866025403784439), (243616, 0.2773500981126125), (243621, 0.981980506061966), (243627, 0.8660254037844387), (243684, 0.8660254037844355), (243989, 0.7924058156930615), (244116, 0.2773500981126125), (244261, 0.6546536707079778), (244361, 0.7205766921228919), (244830, 0.038461538461537895), (244856, 0.9819805060619666), (244908, 0.9707253433941615), (245021, 0.9966158955401239), (245041, 0.8660254037844387), (245113, -0.6546536707079769), (245293, 1.0), (245326, 0.5), (245568, 1.0000000000000018), (245623, 0.5), (245705, 0.1889822365046136), (245719, 0.6546536707079771), (245959, 0.69337524528154), (246095, 0.41931393468876615), (246222, 1.0), (246312, 0.9819805060619666), (246340, -1.0), (246402, 0.9819805060619666), (246416, 1.0), (246667, 0.8660254037844387), (246686, 0.7205766921228919), (246735, -0.5), (246786, 0.8660254037844388), (246816, 1.0), (246892, 0.6933752452815372), (247230, 0.9966158955401241), (247285, 0.5), (247481, 0.7559289460184544), (247538, 0.7205766921228919), (247662, 0.8660254037844448), (23, 1.0), (37, 1.0), (38, 1.0), (59, -1.0), (164, 1.0), (176, 1.0), (198, 1.0), (226, 1.0), (359, 1.0), (445, 0), (479, 0), (493, 1.0), (540, 0), (635, 1.0), (716, 0), (793, 1.0), (802, 1.0), (807, 0), (846, 1.0), (874, 1.0), (919, 0), (986, 0), (1017, 1.0), (1035, 1.0), (1204, 0), (1209, 1.0), (1217, 0), (1255, 0), (1276, 1.0), (1313, 1.0), (1324, 1.0), (1337, -1.0), (1348, 0), (1414, 1.0), (1456, -1.0), (1564, -1.0), (1572, -1.0), (1629, 1.0), (1698, 1.0), (1707, -1.0), (1711, -1.0), (1907, 0), (1966, 0), (2003, 1.0), (2164, 1.0), (2184, -1.0), (2190, 0), (2232, 1.0), (2244, 1.0), (2278, 1.0), (2372, 0), (2478, -1.0), (2484, 1.0), (2596, 1.0), (2655, 1.0), (2672, 1.0), (2688, 0), (2726, 0), (2794, 0), (2827, -1.0), (2828, 0), (2863, 1.0), (2864, -1.0), (2883, 0), (2978, 0), (3024, -1.0), (3039, -1.0), (3056, 1.0), (3062, 0), (3074, 1.0), (3098, 0), (3108, 0), (3116, 0), (3206, 1.0), (3275, 1.0), (3288, -1.0), (3305, 0), (3356, -1.0), (3403, -1.0), (3421, 1.0), (3527, 0), (3539, 0), (3644, 1.0), (3651, 1.0), (3658, 0), (3719, -1.0), (3779, 1.0), (3825, 1.0), (3837, -1.0), (3903, 0), (3911, 1.0), (3923, 0), (3933, -1.0), (3934, 0), (3977, 1.0), (3995, 0), (4011, 1.0), (4021, 1.0), (4068, 1.0), (4093, -1.0), (4105, 1.0), (4138, 1.0), (4172, 1.0), (4226, 0), (4292, -1.0), (4296, 0), (4298, -1.0), (4303, 1.0), (4434, 1.0), (4448, 1.0), (4451, -1.0), (4498, 1.0), (4579, 1.0), (4631, 1.0), (4650, 1.0), (4811, -1.0), (4818, 0), (4859, 1.0), (4885, -1.0), (4904, 0), (4955, 1.0), (4959, 1.0), (5045, 0), (5058, 1.0), (5120, 0), (5147, -1.0), (5233, 0), (5344, 0), (5392, 1.0), (5445, -1.0), (5470, 1.0), (5602, 1.0), (5617, 1.0), (5659, 1.0), (5680, 1.0), (5717, 1.0), (5758, -1.0), (5836, 1.0), (5846, 0), (5895, 1.0), (5971, 1.0), (6062, 1.0), (6065, -1.0), (6071, -1.0), (6132, -1.0), (6155, 1.0), (6182, -1.0), (6190, 1.0), (6237, -1.0), (6249, 1.0), (6262, 1.0), (6281, 1.0), (6303, 0), (6344, 0), (6366, 1.0), (6368, 1.0), (6438, -1.0), (6487, 0), (6496, 0), (6647, 1.0), (6687, -1.0), (6704, -1.0), (6722, 1.0), (6798, 0), (6888, -1.0), (6952, -1.0), (6978, -1.0), (7103, 1.0), (7132, 1.0), (7141, 0), (7154, -1.0), (7156, 1.0), (7182, 0), (7243, 1.0), (7293, 0), (7315, 1.0), (7345, 0), (7407, 0), (7420, 0), (7522, -1.0), (7556, 0), (7563, 1.0), (7598, 1.0), (7659, 0), (7673, 0), (7736, 1.0), (7755, 0), (7819, 1.0), (7882, 1.0), (7909, 1.0), (7944, 1.0), (7975, 0), (8004, 1.0), (8039, 0), (8043, 1.0), (8081, 1.0), (8086, 0), (8130, -1.0), (8154, 0), (8190, 1.0), (8291, 1.0), (8292, 0), (8327, -1.0), (8376, 0), (8379, -1.0), (8386, 1.0), (8389, 0), (8394, 1.0), (8414, -1.0), (8428, 0), (8445, 1.0), (8459, 0), (8469, 0), (8526, -1.0), (8613, 0), (8626, 1.0), (8679, 1.0), (8694, 1.0), (8716, 0), (8891, 1.0), (8910, 1.0), (8915, -1.0), (8928, 1.0), (8960, 1.0), (8994, 1.0), (9016, 1.0), (9222, 1.0), (9311, 0), (9338, 1.0), (9372, -1.0), (9497, 1.0), (9503, 0), (9548, 1.0), (9663, 0), (9679, 0), (9843, 1.0), (9862, 1.0), (9877, 0), (9913, 0), (9941, -1.0), (9970, 1.0), (10014, -1.0), (10038, -1.0), (10054, 0), (10124, -1.0), (10136, 1.0), (10209, 0), (10248, 0), (10264, 1.0), (10300, -1.0), (10370, -1.0), (10526, 1.0), (10541, 0), (10546, -1.0), (10558, 1.0), (10608, 0), (10614, 1.0), (10620, -1.0), (10707, 1.0), (10759, 1.0), (10780, -1.0), (10790, 0), (10829, -1.0), (10838, 1.0), (10863, 1.0), (10996, 1.0), (11008, -1.0), (11088, 0), (11181, 0), (11205, 0), (11219, -1.0), (11361, 1.0), (11380, 1.0), (11419, 0), (11423, -1.0), (11436, 1.0), (11494, 0), (11497, 0), (11503, 1.0), (11523, 0), (11579, 1.0), (11715, 1.0), (11732, 1.0), (11764, 1.0), (11769, 1.0), (11778, 0), (11879, 1.0), (11895, 1.0), (11907, -1.0), (11914, -1.0), (11930, -1.0), (12033, 1.0), (12038, 1.0), (12051, -1.0), (12130, 0), (12183, 1.0), (12335, 1.0), (12354, 1.0), (12360, -1.0), (12384, 1.0), (12421, 1.0), (12422, 1.0), (12504, 1.0), (12554, 0), (12582, 1.0), (12599, -1.0), (12640, -1.0), (12679, -1.0), (12707, 1.0), (12733, 0), (12748, 0), (12779, 0), (12866, 1.0), (12895, 1.0), (12921, -1.0), (12950, -1.0), (12991, 0), (13007, 0), (13053, 1.0), (13077, 0), (13106, 0), (13158, 0), (13199, 1.0), (13288, 0), (13295, 0), (13297, -1.0), (13321, -1.0), (13388, 0), (13465, 0), (13492, -1.0), (13521, 1.0), (13523, 0), (13526, 1.0), (13654, 1.0), (13702, 1.0), (13720, 0), (13730, -1.0), (13833, 1.0), (13888, 1.0), (13901, 1.0), (13908, -1.0), (13931, 1.0), (13935, 1.0), (13956, -1.0), (14037, 1.0), (14048, 0), (14091, 0), (14106, -1.0), (14252, 1.0), (14292, -1.0), (14296, -1.0), (14299, 0), (14306, 1.0), (14311, 1.0), (14320, 1.0), (14356, -1.0), (14369, 1.0), (14399, 1.0), (14415, -1.0), (14572, 1.0), (14659, 0), (14727, -1.0), (14815, 1.0), (14860, 1.0), (14972, 0), (15036, 1.0), (15083, 0), (15162, 1.0), (15238, 1.0), (15284, 0), (15286, 1.0), (15295, -1.0), (15342, 0), (15410, 1.0), (15416, 1.0), (15434, 0), (15488, 1.0), (15505, 0), (15559, 1.0), (15590, 1.0), (15702, 1.0), (15711, 1.0), (15766, -1.0), (15921, 0), (15938, 1.0), (15939, -1.0), (15947, 1.0), (16109, 0), (16191, 0), (16267, 1.0), (16272, 1.0), (16292, 0), (16323, 0), (16381, 1.0), (16472, -1.0), (16497, 0), (16507, 1.0), (16575, 0), (16591, -1.0), (16717, 1.0), (16743, 1.0), (16751, 0), (16906, -1.0), (16918, -1.0), (16995, 1.0), (17059, 1.0), (17224, 0), (17301, 1.0), (17302, 1.0), (17307, 0), (17390, 1.0), (17456, 0), (17492, -1.0), (17501, -1.0), (17514, 1.0), (17532, 0), (17563, 1.0), (17574, 1.0), (17641, 1.0), (17697, 1.0), (17707, 1.0), (17731, 1.0), (17803, -1.0), (18016, 1.0), (18096, 1.0), (18154, 1.0), (18166, 1.0), (18220, -1.0), (18242, 1.0), (18315, 0), (18316, 0), (18385, -1.0), (18433, 0), (18443, 1.0), (18467, 0), (18496, 1.0), (18557, 1.0), (18564, 1.0), (18575, 0), (18594, 1.0), (18647, 1.0), (18838, -1.0), (18848, 1.0), (18861, -1.0), (18938, 1.0), (18986, -1.0), (19021, 1.0), (19156, 0), (19241, 1.0), (19243, -1.0), (19312, -1.0), (19313, 0), (19336, -1.0), (19353, 1.0), (19497, 0), (19550, 0), (19559, 1.0), (19600, -1.0), (19626, 1.0), (19645, 1.0), (19700, -1.0), (19780, -1.0), (19790, 0), (19795, 0), (19824, 1.0), (19872, 0), (19873, 0), (19986, 1.0), (19989, 1.0), (19998, 1.0), (20092, 0), (20158, 1.0), (20253, 1.0), (20275, 1.0), (20281, 1.0), (20323, 1.0), (20326, 1.0), (20338, 0), (20352, 1.0), (20353, -1.0), (20608, 1.0), (20666, -1.0), (20740, -1.0), (20839, 1.0), (20938, 1.0), (20945, 0), (20961, 1.0), (21023, 1.0), (21028, 0), (21093, 1.0), (21187, -1.0), (21203, 1.0), (21221, 1.0), (21226, -1.0), (21242, -1.0), (21250, 0), (21252, 0), (21285, 0), (21343, 0), (21377, 0), (21383, -1.0), (21409, 1.0), (21430, -1.0), (21509, 1.0), (21522, -1.0), (21541, -1.0), (21546, 1.0), (21559, -1.0), (21572, 1.0), (21635, -1.0), (21643, -1.0), (21828, 0), (21941, 0), (21981, 1.0), (22021, 1.0), (22054, 1.0), (22056, -1.0), (22114, 1.0), (22141, -1.0), (22154, 0), (22188, 0), (22225, 1.0), (22254, 1.0), (22255, 0), (22306, 1.0), (22310, 0), (22320, 1.0), (22388, 1.0), (22460, -1.0), (22464, 1.0), (22538, 0), (22561, 0), (22614, -1.0), (22695, -1.0), (22768, 0), (22788, -1.0), (22849, -1.0), (22863, 0), (22866, 0), (22887, 0), (22895, 0), (22950, 0), (22989, 1.0), (22993, 1.0), (23025, 0), (23060, 0), (23062, -1.0), (23109, 1.0), (23114, -1.0), (23137, -1.0), (23199, 1.0), (23294, 0), (23344, 0), (23349, 1.0), (23368, 1.0), (23375, 0), (23380, 1.0), (23406, 1.0), (23435, -1.0), (23448, -1.0), (23482, -1.0), (23562, 1.0), (23688, -1.0), (23717, 1.0), (23759, 1.0), (23789, 1.0), (23815, 1.0), (23913, -1.0), (23947, 1.0), (23999, 0), (24002, -1.0), (24063, -1.0), (24136, 1.0), (24138, 0), (24173, -1.0), (24221, 0), (24227, 0), (24347, 0), (24412, 1.0), (24545, 0), (24572, 0), (24585, -1.0), (24657, 1.0), (24681, -1.0), (24682, 0), (24703, 0), (24862, -1.0), (24870, -1.0), (24923, -1.0), (24957, 1.0), (24985, 1.0), (24991, -1.0), (25044, -1.0), (25108, -1.0), (25185, 1.0), (25249, -1.0), (25256, -1.0), (25268, 1.0), (25284, 1.0), (25305, 1.0), (25311, -1.0), (25313, 1.0), (25337, -1.0), (25353, 1.0), (25363, -1.0), (25395, -1.0), (25410, -1.0), (25444, 1.0), (25456, 0), (25493, 0), (25502, 0), (25514, 1.0), (25596, 1.0), (25654, -1.0), (25667, 1.0), (25694, 0), (25701, 1.0), (25735, 1.0), (25749, 0), (25784, 1.0), (25799, 0), (25803, -1.0), (25817, -1.0), (25881, 0), (25911, 0), (25934, 0), (26156, 0), (26174, 1.0), (26187, -1.0), (26217, -1.0), (26226, -1.0), (26281, 1.0), (26331, -1.0), (26368, -1.0), (26383, 1.0), (26391, 1.0), (26431, -1.0), (26468, -1.0), (26523, 0), (26556, 1.0), (26595, 1.0), (26602, -1.0), (26703, 1.0), (26710, 1.0), (26741, 1.0), (26857, 0), (26886, 0), (26923, 0), (26947, -1.0), (27004, 1.0), (27023, 0), (27033, -1.0), (27170, -1.0), (27177, 1.0), (27215, 1.0), (27222, 0), (27248, 1.0), (27255, 1.0), (27281, 1.0), (27309, 1.0), (27383, 1.0), (27409, 1.0), (27419, 1.0), (27441, 0), (27451, 1.0), (27484, 1.0), (27507, 1.0), (27536, 0), (27583, -1.0), (27602, 1.0), (27606, 1.0), (27669, 0), (27719, 1.0), (27741, -1.0), (27759, 0), (27839, 1.0), (27885, 1.0), (28012, -1.0), (28018, -1.0), (28036, 1.0), (28077, -1.0), (28126, 0), (28150, -1.0), (28184, 1.0), (28216, 1.0), (28292, 0), (28307, 0), (28309, 0), (28334, 0), (28383, -1.0), (28443, 0), (28454, 1.0), (28476, 0), (28489, -1.0), (28498, 0), (28507, -1.0), (28584, -1.0), (28596, 0), (28638, 1.0), (28655, 1.0), (28666, 0), (28674, 0), (28677, -1.0), (28724, 1.0), (28830, 0), (28835, -1.0), (28847, 1.0), (28957, 1.0), (28976, -1.0), (29080, 1.0), (29166, 1.0), (29178, 0), (29203, 0), (29213, 1.0), (29218, 0), (29239, -1.0), (29292, 1.0), (29310, 0), (29396, 0), (29459, 1.0), (29484, 0), (29490, 1.0), (29555, 1.0), (29562, -1.0), (29579, 1.0), (29585, 0), (29593, 1.0), (29622, 1.0), (29623, -1.0), (29627, 1.0), (29718, 1.0), (29831, 0), (29860, 0), (29865, 1.0), (29900, 1.0), (29908, -1.0), (29930, 1.0), (29956, 1.0), (30140, 1.0), (30144, 1.0), (30216, 1.0), (30252, 1.0), (30255, 1.0), (30259, -1.0), (30345, 0), (30419, 0), (30420, -1.0), (30448, 0), (30455, -1.0), (30456, 1.0), (30463, -1.0), (30506, -1.0), (30567, 1.0), (30574, -1.0), (30576, 0), (30577, -1.0), (30587, 1.0), (30635, 0), (30648, 1.0), (30651, 0), (30656, 0), (30733, 1.0), (30735, 0), (30763, 1.0), (30796, 1.0), (30828, 1.0), (30833, 1.0), (30853, 0), (30886, -1.0), (30925, 1.0), (31166, 0), (31174, 1.0), (31226, 1.0), (31229, 1.0), (31266, 1.0), (31311, 0), (31327, -1.0), (31330, -1.0), (31389, 1.0), (31422, 0), (31480, -1.0), (31599, -1.0), (31604, 1.0), (31618, 1.0), (31669, 1.0), (31712, 1.0), (31858, -1.0), (31875, 1.0), (31889, -1.0), (31917, 1.0), (32107, 1.0), (32203, 0), (32365, 1.0), (32404, 0), (32419, -1.0), (32451, 1.0), (32459, 1.0), (32466, 0), (32474, -1.0), (32495, 0), (32518, 1.0), (32541, 1.0), (32546, 0), (32738, 0), (32908, 0), (32962, 0), (33078, 0), (33084, 1.0), (33105, 1.0), (33154, 1.0), (33207, 0), (33277, -1.0), (33280, -1.0), (33286, 0), (33311, 0), (33318, 1.0), (33321, 1.0), (33472, 0), (33523, 1.0), (33548, 1.0), (33553, 1.0), (33705, 1.0), (33790, 1.0), (33831, 0), (33839, 0), (33886, 0), (33922, 0), (33926, 0), (33928, -1.0), (33981, 1.0), (33998, 1.0), (34051, 1.0), (34062, 0), (34076, -1.0), (34148, -1.0), (34208, -1.0), (34256, 0), (34309, -1.0), (34462, 0), (34494, 0), (34655, 0), (34701, 1.0), (34726, 0), (34756, 0), (34795, -1.0), (34963, 1.0), (35057, 1.0), (35060, -1.0), (35091, -1.0), (35098, -1.0), (35139, 1.0), (35214, 1.0), (35306, 0), (35318, 1.0), (35373, 1.0), (35392, 0), (35397, 1.0), (35430, 1.0), (35500, 1.0), (35555, 1.0), (35573, 0), (35585, 0), (35613, 1.0), (35621, 0), (35644, -1.0), (35672, 1.0), (35699, 1.0), (35833, 1.0), (35918, -1.0), (35940, 0), (35949, 1.0), (35974, 0), (36112, 1.0), (36123, 0), (36148, 0), (36171, 1.0), (36196, 0), (36197, 0), (36263, 1.0), (36395, -1.0), (36409, -1.0), (36481, 1.0), (36508, 0), (36544, 1.0), (36724, -1.0), (36792, 1.0), (36804, 0), (36818, 1.0), (36820, 1.0), (36839, 1.0), (36848, 0), (36868, -1.0), (36958, 1.0), (36965, -1.0), (37028, 0), (37032, -1.0), (37069, 0), (37095, -1.0), (37102, 1.0), (37118, -1.0), (37126, 1.0), (37131, 1.0), (37199, 1.0), (37246, 1.0), (37350, 1.0), (37390, -1.0), (37408, 1.0), (37441, -1.0), (37463, 1.0), (37526, -1.0), (37538, 1.0), (37546, 0), (37550, 1.0), (37557, -1.0), (37570, 1.0), (37732, 1.0), (37735, -1.0), (37763, 1.0), (37849, 0), (37880, 1.0), (37884, 0), (37929, 0), (37956, -1.0), (37990, 1.0), (37999, -1.0), (38001, -1.0), (38081, 1.0), (38086, 1.0), (38125, 1.0), (38346, 1.0), (38387, 1.0), (38430, 1.0), (38445, 1.0), (38525, 1.0), (38554, 0), (38571, 1.0), (38672, 1.0), (38699, 0), (38736, 1.0), (38826, 0), (38867, 0), (38903, 1.0), (39014, 1.0), (39060, 1.0), (39080, 0), (39108, -1.0), (39204, -1.0), (39233, 0), (39241, 1.0), (39251, 1.0), (39281, -1.0), (39336, -1.0), (39339, -1.0), (39478, -1.0), (39498, 1.0), (39510, 1.0), (39535, 1.0), (39559, 0), (39577, -1.0), (39647, -1.0), (39687, 1.0), (39688, 0), (39710, 0), (39772, -1.0), (39786, -1.0), (39798, 1.0), (39824, 1.0), (39913, -1.0), (39941, 1.0), (39953, 1.0), (39966, 0), (39981, 0), (40007, 1.0), (40009, 0), (40051, 1.0), (40068, 1.0), (40071, -1.0), (40102, -1.0), (40125, 0), (40218, 0), (40233, 1.0), (40281, 1.0), (40334, 0), (40429, -1.0), (40453, 1.0), (40457, 1.0), (40529, 1.0), (40530, 0), (40540, 1.0), (40550, 0), (40611, 0), (40654, 1.0), (40762, 0), (40817, -1.0), (40837, 1.0), (40851, -1.0), (40897, -1.0), (40978, 0), (40999, 1.0), (41178, -1.0), (41325, 1.0), (41440, 1.0), (41453, 1.0), (41475, 1.0), (41583, 1.0), (41599, -1.0), (41714, 0), (41786, -1.0), (41867, 1.0), (41908, 1.0), (41915, 1.0), (42056, 0), (42073, -1.0), (42092, 1.0), (42127, 1.0), (42163, -1.0), (42272, 1.0), (42297, 1.0), (42396, -1.0), (42413, 0), (42422, 1.0), (42424, 0), (42518, -1.0), (42534, 0), (42567, 1.0), (42585, 1.0), (42587, 1.0), (42607, 1.0), (42658, 1.0), (42697, -1.0), (42744, -1.0), (42826, 0), (42969, 1.0), (43025, 1.0), (43056, 1.0), (43064, 0), (43099, -1.0), (43137, 0), (43142, -1.0), (43158, 1.0), (43178, 0), (43259, 1.0), (43310, -1.0), (43380, 1.0), (43395, 1.0), (43428, 1.0), (43476, 1.0), (43505, 1.0), (43507, 0), (43554, 1.0), (43585, 1.0), (43601, 1.0), (43690, -1.0), (43711, 0), (43716, 0), (43726, 0), (43791, 1.0), (43820, 1.0), (43824, 1.0), (43832, -1.0), (43868, 1.0), (43871, 1.0), (43896, 0), (43913, 1.0), (43961, 1.0), (43964, -1.0), (43973, -1.0), (43982, 1.0), (44061, 1.0), (44066, 1.0), (44105, 0), (44107, 1.0), (44132, 0), (44185, 0), (44191, 1.0), (44214, 1.0), (44258, 1.0), (44266, 1.0), (44295, 1.0), (44313, 0), (44383, 0), (44384, -1.0), (44423, 0), (44430, 0), (44469, 1.0), (44488, -1.0), (44497, -1.0), (44499, -1.0), (44550, 0), (44594, 0), (44644, 1.0), (44747, 1.0), (44776, 1.0), (44800, 1.0), (44802, 1.0), (44842, 1.0), (44861, 1.0), (44884, 1.0), (44938, 0), (44967, 0), (44980, 0), (45045, 1.0), (45050, 1.0), (45062, -1.0), (45119, 1.0), (45161, 1.0), (45168, 1.0), (45191, 1.0), (45198, 1.0), (45210, 1.0), (45268, 1.0), (45282, 1.0), (45300, 1.0), (45316, 1.0), (45406, 1.0), (45454, 0), (45513, 0), (45523, 0), (45561, -1.0), (45602, 1.0), (45677, 1.0), (45727, 0), (45768, 0), (45790, 1.0), (46011, 1.0), (46088, 0), (46208, -1.0), (46288, 1.0), (46299, 1.0), (46357, 1.0), (46401, -1.0), (46458, 0), (46466, 1.0), (46507, 1.0), (46535, 0), (46558, 1.0), (46592, 1.0), (46601, 1.0), (46608, -1.0), (46631, -1.0), (46684, 0), (46696, 1.0), (46773, 1.0), (46865, 0), (46881, 1.0), (46946, -1.0), (46968, -1.0), (47016, -1.0), (47035, 1.0), (47040, 1.0), (47051, 1.0), (47061, 0), (47097, 0), (47102, -1.0), (47186, -1.0), (47343, 1.0), (47362, -1.0), (47386, 1.0), (47463, 0), (47465, 1.0), (47482, -1.0), (47491, 0), (47588, -1.0), (47641, 0), (47687, 0), (47725, 1.0), (47746, -1.0), (47780, 0), (47848, -1.0), (47866, -1.0), (47880, 0), (47889, 0), (47997, 0), (48067, 1.0), (48157, 0), (48184, 1.0), (48190, 1.0), (48205, -1.0), (48215, 1.0), (48219, 1.0), (48246, 1.0), (48285, -1.0), (48374, -1.0), (48394, 0), (48405, 1.0), (48411, -1.0), (48444, 1.0), (48492, 1.0), (48553, -1.0), (48555, 1.0), (48575, 1.0), (48605, -1.0), (48621, 0), (48638, 0), (48713, 1.0), (48731, 0), (48754, -1.0), (48777, 0), (48788, 1.0), (48820, 0), (48899, 0), (48955, -1.0), (49089, 0), (49094, 1.0), (49098, 0), (49117, 1.0), (49127, 1.0), (49137, -1.0), (49167, 0), (49237, 0), (49251, 1.0), (49271, 0), (49326, 1.0), (49333, 0), (49339, -1.0), (49422, 1.0), (49428, 0), (49505, 1.0), (49558, -1.0), (49602, 1.0), (49631, 1.0), (49735, -1.0), (49810, -1.0), (49845, 0), (49870, 0), (49897, 0), (49912, 0), (49936, 1.0), (50137, 1.0), (50150, 1.0), (50203, 0), (50246, 1.0), (50333, 1.0), (50373, 1.0), (50400, -1.0), (50439, 1.0), (50465, 1.0), (50544, 0), (50582, -1.0), (50616, 0), (50617, -1.0), (50649, -1.0), (50779, 1.0), (50782, 0), (50789, 1.0), (50808, 0), (50867, 0), (50919, 1.0), (50930, 0), (50938, -1.0), (50939, 1.0), (50954, 0), (50962, 1.0), (50973, 1.0), (51065, 1.0), (51155, 1.0), (51171, -1.0), (51249, 0), (51254, 1.0), (51279, -1.0), (51375, 1.0), (51397, 1.0), (51441, -1.0), (51465, -1.0), (51488, -1.0), (51500, 0), (51547, -1.0), (51653, 0), (51681, 0), (51697, 0), (51710, 0), (51788, -1.0), (51830, -1.0), (51919, 1.0), (52006, 1.0), (52012, -1.0), (52021, 1.0), (52033, 0), (52052, -1.0), (52121, 1.0), (52163, -1.0), (52197, 1.0), (52252, 1.0), (52256, 1.0), (52290, 1.0), (52302, 0), (52312, 1.0), (52332, 1.0), (52433, -1.0), (52435, 0), (52446, 1.0), (52609, 1.0), (52623, 1.0), (52643, 0), (52682, 1.0), (52705, -1.0), (52731, 0), (52734, 0), (52757, -1.0), (52763, 1.0), (52799, 0), (52854, 1.0), (52861, 1.0), (52911, 1.0), (52934, 1.0), (52945, -1.0), (53006, 0), (53016, -1.0), (53072, 1.0), (53075, 1.0), (53183, -1.0), (53215, 0), (53264, 0), (53303, 1.0), (53352, -1.0), (53405, 0), (53519, 0), (53598, 1.0), (53649, 0), (53704, -1.0), (53762, 1.0), (53797, 0), (53835, 1.0), (53850, -1.0), (53951, -1.0), (54053, 0), (54055, 1.0), (54071, 1.0), (54109, 1.0), (54158, 1.0), (54161, -1.0), (54166, 1.0), (54168, -1.0), (54176, -1.0), (54246, 0), (54267, 0), (54308, 0), (54316, 0), (54324, 1.0), (54458, 0), (54478, 1.0), (54483, 0), (54504, 1.0), (54539, 0), (54623, 0), (54700, 1.0), (54736, 1.0), (54746, 1.0), (54755, 1.0), (54865, -1.0), (54997, 1.0), (55041, -1.0), (55074, 0), (55208, -1.0), (55209, 0), (55223, 1.0), (55262, 0), (55282, 0), (55325, 0), (55327, -1.0), (55407, -1.0), (55414, 1.0), (55417, 0), (55598, 0), (55630, 1.0), (55655, 0), (55691, 1.0), (55714, 0), (55724, 1.0), (55771, -1.0), (55818, -1.0), (55821, 1.0), (55832, 0), (55835, 1.0), (55891, 0), (55940, 0), (55950, 1.0), (55979, -1.0), (56012, 1.0), (56042, -1.0), (56161, 0), (56204, 1.0), (56291, 0), (56367, 1.0), (56377, -1.0), (56396, 1.0), (56422, 0), (56470, 1.0), (56486, 0), (56525, 1.0), (56563, 0), (56681, 0), (56725, 1.0), (56800, 1.0), (56808, 1.0), (56853, 0), (56867, 0), (56877, 1.0), (56929, -1.0), (56938, -1.0), (56958, 0), (57015, -1.0), (57068, 1.0), (57097, 1.0), (57120, 1.0), (57168, -1.0), (57221, -1.0), (57254, -1.0), (57281, 0), (57313, 0), (57340, 1.0), (57353, 1.0), (57439, -1.0), (57478, 0), (57492, -1.0), (57530, -1.0), (57578, 0), (57616, -1.0), (57629, 1.0), (57631, -1.0), (57678, 0), (57703, -1.0), (57773, 0), (57798, 1.0), (57822, 1.0), (57841, 1.0), (57923, 1.0), (57945, 1.0), (57964, 1.0), (57966, 1.0), (57973, 0), (58171, 1.0), (58184, 1.0), (58211, 0), (58378, 1.0), (58412, 1.0), (58457, 1.0), (58557, -1.0), (58609, -1.0), (58622, 1.0), (58631, 1.0), (58679, 0), (58820, 1.0), (58835, -1.0), (58935, 1.0), (58946, 0), (58960, 0), (58966, 1.0), (59013, 1.0), (59014, -1.0), (59034, 1.0), (59087, 1.0), (59113, -1.0), (59140, -1.0), (59155, -1.0), (59214, 1.0), (59297, 1.0), (59329, 1.0), (59335, 1.0), (59338, 0), (59363, -1.0), (59364, -1.0), (59385, -1.0), (59414, 0), (59430, -1.0), (59445, 1.0), (59446, -1.0), (59463, 1.0), (59647, -1.0), (59662, 1.0), (59674, 1.0), (59720, 0), (59762, 1.0), (59793, 1.0), (59844, 0), (59946, 1.0), (60000, -1.0), (60061, 1.0), (60077, 1.0), (60181, -1.0), (60194, -1.0), (60219, 0), (60280, 1.0), (60284, 1.0), (60307, -1.0), (60332, 1.0), (60341, -1.0), (60469, -1.0), (60490, 0), (60571, 0), (60572, 1.0), (60595, 1.0), (60600, 1.0), (60643, -1.0), (60758, 0), (60794, 0), (60795, 1.0), (60937, 1.0), (60981, 1.0), (61007, 0), (61159, 1.0), (61241, 1.0), (61250, 1.0), (61253, 0), (61268, 1.0), (61292, 1.0), (61302, 0), (61310, -1.0), (61332, 1.0), (61364, 0), (61412, 1.0), (61430, 1.0), (61441, -1.0), (61444, 1.0), (61447, 1.0), (61499, -1.0), (61544, 1.0), (61557, 1.0), (61615, 1.0), (61664, 0), (61795, 1.0), (61830, 1.0), (61862, 0), (61868, -1.0), (61907, 1.0), (61909, 1.0), (61920, 1.0), (61972, -1.0), (61981, 1.0), (62013, 1.0), (62014, 0), (62065, 1.0), (62119, 0), (62193, 0), (62207, -1.0), (62211, 0), (62220, 1.0), (62310, 1.0), (62364, 1.0), (62377, -1.0), (62496, 1.0), (62544, 0), (62590, 1.0), (62592, -1.0), (62613, 0), (62633, 1.0), (62647, 1.0), (62716, -1.0), (62732, -1.0), (62774, -1.0), (62789, 1.0), (62804, 1.0), (62810, 1.0), (62866, 1.0), (62946, 1.0), (62972, 0), (63026, 1.0), (63042, 1.0), (63043, 1.0), (63082, 1.0), (63154, 1.0), (63251, 1.0), (63301, 0), (63419, 1.0), (63462, -1.0), (63494, 1.0), (63638, -1.0), (63694, -1.0), (63719, 1.0), (63738, 1.0), (63765, -1.0), (63857, 1.0), (63860, 0), (63873, 1.0), (64053, -1.0), (64114, 1.0), (64265, 1.0), (64369, 0), (64417, 1.0), (64455, 1.0), (64507, 0), (64546, 0), (64548, 0), (64588, 0), (64620, 1.0), (64656, 1.0), (64664, 1.0), (64676, 0), (64731, 0), (64869, 0), (64916, 1.0), (64953, 0), (64979, -1.0), (65021, 0), (65039, 1.0), (65096, 0), (65145, 1.0), (65165, -1.0), (65222, 0), (65252, 1.0), (65273, 1.0), (65276, 1.0), (65407, 0), (65574, 0), (65591, 0), (65603, 1.0), (65636, 0), (65724, 1.0), (65767, 0), (65787, 0), (65849, 0), (65911, -1.0), (65917, 0), (65931, -1.0), (65948, 1.0), (66025, -1.0), (66163, 1.0), (66203, 1.0), (66263, -1.0), (66311, 0), (66422, -1.0), (66452, -1.0), (66474, -1.0), (66477, 1.0), (66484, 1.0), (66504, 0), (66619, -1.0), (66623, -1.0), (66688, 1.0), (66707, 1.0), (66708, -1.0), (66764, -1.0), (66787, 0), (66818, 1.0), (66887, 1.0), (66923, 0), (67076, 0), (67095, 1.0), (67145, 0), (67163, 0), (67171, 1.0), (67180, 1.0), (67187, -1.0), (67227, 1.0), (67242, -1.0), (67362, 0), (67405, -1.0), (67415, 1.0), (67463, -1.0), (67490, 1.0), (67531, 1.0), (67559, 0), (67578, -1.0), (67611, 0), (67616, 1.0), (67668, 1.0), (67673, -1.0), (67737, 0), (67755, 1.0), (67795, 1.0), (67811, 0), (67833, 1.0), (67835, 0), (67865, 1.0), (67891, 1.0), (67902, 1.0), (67959, 1.0), (68038, 1.0), (68079, 1.0), (68112, -1.0), (68161, 0), (68188, 1.0), (68191, -1.0), (68201, 1.0), (68205, 1.0), (68215, 1.0), (68233, 0), (68261, 1.0), (68308, 1.0), (68321, 1.0), (68439, 0), (68621, 1.0), (68698, 1.0), (68704, 1.0), (68717, 0), (68741, 0), (68792, -1.0), (68815, -1.0), (68890, 1.0), (68960, 1.0), (68982, -1.0), (69008, 0), (69072, 1.0), (69115, 0), (69125, 1.0), (69126, 1.0), (69130, 0), (69189, 0), (69303, 1.0), (69372, -1.0), (69378, 0), (69407, 0), (69413, 0), (69430, 1.0), (69431, 0), (69443, 1.0), (69452, -1.0), (69458, 0), (69547, 1.0), (69551, 1.0), (69566, 1.0), (69573, 0), (69614, 1.0), (69633, 1.0), (69637, 1.0), (69672, -1.0), (69684, 1.0), (69699, 0), (69722, 0), (69761, 1.0), (70034, 1.0), (70093, 0), (70095, 0), (70187, 1.0), (70233, -1.0), (70243, 0), (70255, 0), (70264, 0), (70357, -1.0), (70461, 0), (70525, -1.0), (70556, 1.0), (70659, -1.0), (70696, -1.0), (70708, -1.0), (70709, -1.0), (70714, 1.0), (70831, 0), (70849, 1.0), (70879, -1.0), (70974, -1.0), (70985, 0), (70996, -1.0), (71041, -1.0), (71079, 0), (71082, 0), (71124, 0), (71223, -1.0), (71247, -1.0), (71299, 1.0), (71345, 1.0), (71354, 1.0), (71423, -1.0), (71479, 1.0), (71498, 0), (71559, 1.0), (71560, 0), (71586, 0), (71657, 0), (71664, 1.0), (71674, 0), (71706, 1.0), (71761, 1.0), (71814, 0), (71840, 1.0), (71914, 0), (71965, 1.0), (72059, 0), (72068, 1.0), (72146, 0), (72179, 1.0), (72195, 0), (72265, -1.0), (72302, -1.0), (72339, -1.0), (72346, 0), (72347, 0), (72493, -1.0), (72509, 0), (72523, -1.0), (72584, 0), (72719, 0), (72726, 1.0), (72732, 0), (72754, 0), (72806, -1.0), (72965, 1.0), (72985, 0), (72988, 1.0), (72997, 1.0), (73033, -1.0), (73070, 1.0), (73095, -1.0), (73143, 1.0), (73168, 0), (73302, 0), (73342, 1.0), (73408, 1.0), (73434, 1.0), (73437, 1.0), (73445, 0), (73498, 0), (73535, 1.0), (73563, 0), (73600, 1.0), (73759, -1.0), (73773, 1.0), (73790, -1.0), (73800, -1.0), (73947, 0), (74031, -1.0), (74047, 1.0), (74056, -1.0), (74157, 0), (74165, -1.0), (74193, 1.0), (74224, -1.0), (74276, -1.0), (74292, 0), (74418, 1.0), (74483, 0), (74496, -1.0), (74600, 0), (74604, -1.0), (74779, 1.0), (74806, 0), (74958, 1.0), (74981, 0), (75066, 1.0), (75145, 0), (75159, 1.0), (75188, 1.0), (75198, -1.0), (75218, 0), (75267, 0), (75286, -1.0), (75289, -1.0), (75368, 0), (75394, 0), (75463, 0), (75513, 0), (75555, 1.0), (75577, 1.0), (75618, -1.0), (75681, 0), (75726, 1.0), (75772, 1.0), (75904, 1.0), (75922, -1.0), (75961, -1.0), (75978, 0), (76013, 1.0), (76021, -1.0), (76076, -1.0), (76104, 1.0), (76203, 1.0), (76259, 1.0), (76264, 0), (76278, 0), (76309, 1.0), (76363, 1.0), (76367, 1.0), (76423, 1.0), (76457, 0), (76491, 1.0), (76538, -1.0), (76617, 0), (76669, 0), (76688, -1.0), (76708, 0), (76817, 1.0), (76838, -1.0), (76842, 1.0), (76848, 1.0), (76916, -1.0), (76942, 1.0), (76970, 1.0), (77029, 1.0), (77030, 1.0), (77077, -1.0), (77194, 0), (77230, -1.0), (77236, 1.0), (77247, 0), (77271, 0), (77298, 0), (77336, 0), (77338, -1.0), (77339, 0), (77341, -1.0), (77354, 0), (77375, -1.0), (77414, 1.0), (77481, 0), (77484, 1.0), (77490, 1.0), (77505, 0), (77540, 1.0), (77566, -1.0), (77569, 1.0), (77713, 1.0), (77728, 1.0), (77863, 1.0), (77938, 1.0), (77949, -1.0), (77950, 1.0), (77965, 0), (78034, -1.0), (78046, 0), (78066, -1.0), (78100, 1.0), (78129, 0), (78135, -1.0), (78152, 0), (78242, -1.0), (78308, 1.0), (78407, 0), (78424, 0), (78442, 1.0), (78488, -1.0), (78495, -1.0), (78510, -1.0), (78515, -1.0), (78615, 1.0), (78651, 1.0), (78725, -1.0), (78754, 1.0), (78776, 0), (78877, 1.0), (79010, 1.0), (79024, 1.0), (79100, 1.0), (79109, -1.0), (79121, -1.0), (79132, -1.0), (79169, 1.0), (79200, 1.0), (79201, 1.0), (79209, -1.0), (79331, 1.0), (79335, -1.0), (79372, -1.0), (79407, 1.0), (79435, 1.0), (79459, 1.0), (79463, 1.0), (79504, 1.0), (79605, 1.0), (79648, 0), (79654, 1.0), (79783, 1.0), (79795, 0), (79836, 0), (79837, 1.0), (79889, 1.0), (79891, 1.0), (80064, 1.0), (80106, 1.0), (80113, -1.0), (80278, 0), (80291, 1.0), (80305, 1.0), (80327, -1.0), (80329, 0), (80338, 0), (80448, 1.0), (80490, 1.0), (80513, 0), (80599, 0), (80626, 1.0), (80664, 1.0), (80675, 0), (80830, 0), (80840, 1.0), (80841, -1.0), (80846, 0), (80882, 1.0), (80909, 1.0), (80936, -1.0), (80947, 1.0), (81030, 0), (81041, 1.0), (81104, -1.0), (81109, 0), (81120, -1.0), (81151, 0), (81184, -1.0), (81202, 0), (81244, 0), (81252, 1.0), (81308, 0), (81313, 1.0), (81320, -1.0), (81382, 0), (81405, -1.0), (81424, 0), (81449, -1.0), (81455, -1.0), (81476, 1.0), (81513, 1.0), (81535, -1.0), (81597, -1.0), (81659, 0), (81666, 1.0), (81705, 1.0), (81716, 0), (81898, 0), (81962, 0), (81976, 0), (81985, 0), (81988, 0), (81993, 1.0), (82028, -1.0), (82078, 0), (82087, 0), (82188, 1.0), (82263, 0), (82309, 1.0), (82319, 1.0), (82352, 1.0), (82382, 1.0), (82449, 0), (82481, 1.0), (82499, -1.0), (82519, 1.0), (82521, 0), (82569, 1.0), (82668, 0), (82696, 0), (82777, 1.0), (82780, 0), (82831, 1.0), (82890, 0), (82988, -1.0), (83010, 0), (83063, -1.0), (83078, 0), (83097, 1.0), (83099, 0), (83218, 1.0), (83249, -1.0), (83282, 0), (83299, -1.0), (83306, 1.0), (83375, 1.0), (83378, -1.0), (83454, 1.0), (83470, 0), (83600, -1.0), (83644, -1.0), (83660, -1.0), (83667, 1.0), (83700, 1.0), (83703, 0), (83770, -1.0), (83780, 1.0), (83783, 1.0), (83802, 0), (83860, 0), (83903, -1.0), (84005, 0), (84023, 1.0), (84188, 1.0), (84191, 0), (84278, 1.0), (84308, 0), (84340, 1.0), (84354, -1.0), (84385, 0), (84412, 1.0), (84480, -1.0), (84508, -1.0), (84513, 1.0), (84598, 1.0), (84605, 1.0), (84624, 0), (84669, 1.0), (84705, -1.0), (84718, 0), (84792, 1.0), (84818, 0), (84859, -1.0), (84949, 0), (85047, 0), (85055, 1.0), (85110, 1.0), (85206, 1.0), (85224, -1.0), (85251, 1.0), (85267, 1.0), (85317, 0), (85381, 0), (85433, -1.0), (85454, -1.0), (85531, 0), (85587, 0), (85605, 0), (85624, 0), (85652, -1.0), (85659, 0), (85687, 1.0), (85719, 1.0), (85784, 0), (85853, 0), (85882, 0), (85886, 1.0), (85955, 1.0), (85998, 0), (86070, 0), (86161, -1.0), (86191, 0), (86206, 1.0), (86214, 1.0), (86308, -1.0), (86367, 0), (86404, 0), (86413, -1.0), (86428, -1.0), (86444, 1.0), (86508, 1.0), (86548, 0), (86552, 1.0), (86562, -1.0), (86580, 1.0), (86599, -1.0), (86620, -1.0), (86674, -1.0), (86728, 1.0), (86731, 1.0), (86760, 0), (86798, 1.0), (86811, 1.0), (86862, -1.0), (86898, 1.0), (86937, -1.0), (86941, -1.0), (86958, 0), (86981, 0), (87093, 1.0), (87129, 0), (87164, 1.0), (87262, 0), (87343, 1.0), (87404, 1.0), (87453, 1.0), (87459, 0), (87493, 1.0), (87512, 1.0), (87521, 1.0), (87569, 0), (87582, 1.0), (87610, 1.0), (87752, -1.0), (87756, 0), (87764, 0), (87827, 0), (87850, 0), (87863, 1.0), (87896, 1.0), (87928, 1.0), (87929, -1.0), (87981, 1.0), (87984, -1.0), (88074, 1.0), (88117, 0), (88155, 1.0), (88165, 1.0), (88191, 0), (88209, -1.0), (88228, 1.0), (88354, 1.0), (88365, 0), (88450, -1.0), (88484, -1.0), (88497, 1.0), (88498, -1.0), (88501, 0), (88544, 0), (88664, 1.0), (88776, 0), (88798, 0), (88832, 1.0), (88835, 1.0), (88947, 1.0), (88964, -1.0), (88972, 1.0), (88991, 0), (89026, -1.0), (89111, 1.0), (89148, 0), (89169, 0), (89200, 1.0), (89273, 0), (89319, 1.0), (89338, 0), (89367, 1.0), (89377, 0), (89392, -1.0), (89397, -1.0), (89487, 0), (89538, 0), (89557, 0), (89574, 1.0), (89733, -1.0), (89750, 1.0), (89807, 0), (89922, -1.0), (90019, 1.0), (90069, -1.0), (90181, 1.0), (90275, 0), (90320, 1.0), (90393, 0), (90525, 1.0), (90561, 0), (90591, 1.0), (90600, 0), (90627, 1.0), (90630, 0), (90678, 1.0), (90685, -1.0), (90789, 1.0), (90796, 1.0), (90863, 0), (90969, -1.0), (91072, -1.0), (91080, 1.0), (91097, 1.0), (91132, 1.0), (91151, -1.0), (91210, 0), (91280, -1.0), (91287, 1.0), (91300, 0), (91397, 1.0), (91398, 1.0), (91489, 1.0), (91519, 0), (91569, -1.0), (91589, -1.0), (91636, 0), (91645, 0), (91657, -1.0), (91699, 1.0), (91740, -1.0), (91750, 0), (91752, 1.0), (91791, 0), (91871, 1.0), (91905, 0), (91980, -1.0), (92153, 0), (92326, -1.0), (92432, 0), (92443, -1.0), (92446, -1.0), (92512, 1.0), (92540, 1.0), (92568, -1.0), (92621, 0), (92628, 1.0), (92650, 1.0), (92682, 1.0), (92726, 1.0), (92817, 1.0), (92863, 1.0), (92895, 0), (92974, -1.0), (93047, -1.0), (93082, 1.0), (93159, 1.0), (93220, 1.0), (93252, 1.0), (93271, 0), (93310, -1.0), (93314, 0), (93370, 0), (93393, 0), (93405, 1.0), (93435, 0), (93489, 1.0), (93492, -1.0), (93540, 0), (93549, 1.0), (93609, -1.0), (93620, 0), (93633, 0), (93642, 1.0), (93662, 1.0), (93770, 1.0), (93805, 1.0), (93820, 1.0), (93830, 1.0), (93881, 0), (93941, -1.0), (93970, 0), (94008, -1.0), (94009, 0), (94044, -1.0), (94201, 1.0), (94246, 1.0), (94311, -1.0), (94382, 1.0), (94463, 1.0), (94468, 1.0), (94475, 1.0), (94592, -1.0), (94620, -1.0), (94721, -1.0), (94743, 1.0), (94751, 0), (94774, -1.0), (94853, -1.0), (94882, -1.0), (94886, 0), (94927, 1.0), (94959, 1.0), (94974, 0), (94983, 1.0), (95100, 1.0), (95138, -1.0), (95171, -1.0), (95202, 0), (95266, 0), (95330, -1.0), (95345, 1.0), (95425, 0), (95450, 1.0), (95508, 1.0), (95523, -1.0), (95560, 1.0), (95562, 0), (95563, 1.0), (95610, 0), (95629, -1.0), (95641, 1.0), (95669, 0), (95762, -1.0), (95765, -1.0), (95791, 0), (95809, -1.0), (95848, -1.0), (95856, -1.0), (95872, 1.0), (95879, 1.0), (95917, -1.0), (95997, 1.0), (96044, -1.0), (96071, 1.0), (96080, 1.0), (96105, 1.0), (96160, 0), (96212, 0), (96269, 1.0), (96314, 0), (96321, -1.0), (96371, 1.0), (96374, 1.0), (96407, 1.0), (96436, 1.0), (96443, 0), (96491, 1.0), (96518, 1.0), (96596, 0), (96610, 0), (96624, 1.0), (96732, 0), (96744, 1.0), (96757, 0), (96763, 1.0), (96895, 1.0), (96918, -1.0), (96932, -1.0), (96944, -1.0), (96951, 0), (96959, -1.0), (96965, -1.0), (96999, 1.0), (97011, 1.0), (97088, 0), (97122, 0), (97165, 0), (97177, 1.0), (97188, 0), (97232, 1.0), (97256, 1.0), (97309, 1.0), (97315, -1.0), (97322, 1.0), (97343, -1.0), (97382, 0), (97419, -1.0), (97421, -1.0), (97446, 1.0), (97475, 0), (97501, 0), (97510, 1.0), (97579, 1.0), (97599, 1.0), (97680, 1.0), (97696, 1.0), (97698, 0), (97716, 0), (97735, 1.0), (97740, 1.0), (97750, 1.0), (97763, 1.0), (97782, 1.0), (97783, -1.0), (97914, 1.0), (97919, 0), (97979, 1.0), (97983, 1.0), (97998, 1.0), (98111, 0), (98143, -1.0), (98175, 0), (98201, 1.0), (98324, 0), (98328, -1.0), (98341, -1.0), (98404, 1.0), (98444, -1.0), (98482, 0), (98504, -1.0), (98586, -1.0), (98588, 0), (98645, 0), (98660, 1.0), (98689, 1.0), (98722, 1.0), (98732, 1.0), (98783, 0), (98825, 1.0), (98840, 1.0), (99125, 1.0), (99167, -1.0), (99236, 1.0), (99243, 1.0), (99245, 0), (99276, 1.0), (99304, -1.0), (99347, 1.0), (99399, 0), (99515, 0), (99527, 0), (99539, 0), (99548, 0), (99583, 0), (99629, -1.0), (99658, 0), (99678, 1.0), (99761, 0), (99804, -1.0), (99857, 1.0), (99916, 1.0), (99960, 0), (100034, 0), (100051, 0), (100168, 1.0), (100171, 1.0), (100172, 1.0), (100242, 0), (100288, 1.0), (100346, 0), (100363, 0), (100390, 0), (100419, 0), (100423, -1.0), (100504, 1.0), (100557, 1.0), (100612, 0), (100627, -1.0), (100714, 1.0), (100753, 1.0), (100769, 0), (100784, 1.0), (100866, -1.0), (101023, -1.0), (101054, 1.0), (101073, 1.0), (101105, 1.0), (101167, -1.0), (101194, 1.0), (101207, 0), (101208, 0), (101244, 0), (101281, 1.0), (101342, 1.0), (101384, -1.0), (101408, 0), (101410, 0), (101430, 0), (101743, -1.0), (101765, 1.0), (101782, 1.0), (101797, -1.0), (101849, -1.0), (101873, 0), (101889, 1.0), (101910, -1.0), (101922, 1.0), (101924, 0), (101976, 1.0), (102003, 1.0), (102108, 0), (102123, 0), (102160, 0), (102193, 1.0), (102214, 0), (102267, -1.0), (102439, 0), (102447, 1.0), (102490, 1.0), (102514, 0), (102659, -1.0), (102672, 1.0), (102681, 0), (102720, 1.0), (102721, 1.0), (102737, -1.0), (102759, 1.0), (102762, 1.0), (102820, 0), (102831, 1.0), (102861, 1.0), (102950, 0), (102960, 0), (103022, 1.0), (103122, 0), (103140, 0), (103175, -1.0), (103186, -1.0), (103205, 1.0), (103209, 0), (103245, -1.0), (103334, 1.0), (103404, -1.0), (103434, 1.0), (103463, 0), (103511, 0), (103549, 1.0), (103579, -1.0), (103595, -1.0), (103657, 1.0), (103709, -1.0), (103728, 0), (103733, -1.0), (103808, 0), (103845, -1.0), (103848, -1.0), (103998, 1.0), (104137, 0), (104186, -1.0), (104231, 0), (104250, 0), (104259, 1.0), (104281, -1.0), (104287, -1.0), (104316, -1.0), (104335, -1.0), (104413, 1.0), (104473, 1.0), (104587, -1.0), (104605, 1.0), (104625, 1.0), (104646, 0), (104659, -1.0), (104667, 1.0), (104701, 0), (104716, 1.0), (104721, 1.0), (104822, 1.0), (104927, 0), (104966, 0), (105162, 0), (105179, 1.0), (105271, 1.0), (105290, 1.0), (105432, 1.0), (105462, 1.0), (105512, 1.0), (105513, 0), (105574, 0), (105618, 1.0), (105657, 1.0), (105687, -1.0), (105695, 1.0), (105729, 0), (105753, 1.0), (105807, 0), (105959, 1.0), (105993, 1.0), (106008, 0), (106098, -1.0), (106143, -1.0), (106278, 1.0), (106366, 0), (106369, 0), (106457, 1.0), (106469, -1.0), (106546, 0), (106599, 1.0), (106606, 0), (106668, 1.0), (106700, 1.0), (106826, 0), (106853, 1.0), (106898, 1.0), (106947, 0), (106974, 1.0), (107008, 0), (107106, 0), (107148, 1.0), (107174, 0), (107179, 1.0), (107218, 0), (107259, 1.0), (107300, 1.0), (107352, 0), (107382, 0), (107395, 1.0), (107463, 1.0), (107470, 1.0), (107490, 0), (107532, 1.0), (107566, 0), (107572, 0), (107579, -1.0), (107610, -1.0), (107703, 1.0), (107715, 1.0), (107726, 1.0), (107752, 0), (107755, 1.0), (107800, 1.0), (107827, 1.0), (107836, -1.0), (107873, 1.0), (107940, -1.0), (107943, 0), (107947, 1.0), (107991, 0), (108010, 1.0), (108148, 1.0), (108173, 1.0), (108181, 1.0), (108239, 1.0), (108299, 1.0), (108309, 1.0), (108354, 1.0), (108418, 1.0), (108437, -1.0), (108456, -1.0), (108527, 1.0), (108555, 1.0), (108597, 1.0), (108655, 1.0), (108681, 0), (108682, 1.0), (108692, 0), (108703, 0), (108704, -1.0), (108723, 0), (108727, 1.0), (108836, 1.0), (108881, 1.0), (108940, -1.0), (108943, 0), (108967, 1.0), (108980, 1.0), (108992, -1.0), (108995, 0), (109133, 1.0), (109139, 0), (109156, 0), (109211, 1.0), (109234, 0), (109267, 1.0), (109310, -1.0), (109379, 1.0), (109407, 1.0), (109432, 0), (109438, 1.0), (109505, -1.0), (109518, -1.0), (109533, 1.0), (109550, 0), (109554, 0), (109637, 1.0), (109655, 1.0), (109718, -1.0), (109747, -1.0), (109826, 1.0), (109849, 0), (109893, 1.0), (109926, -1.0), (109955, 0), (110018, 0), (110047, 1.0), (110051, -1.0), (110093, -1.0), (110103, 1.0), (110143, -1.0), (110153, 0), (110232, 1.0), (110292, 1.0), (110308, 1.0), (110325, 0), (110327, -1.0), (110378, 0), (110415, 1.0), (110429, 0), (110454, 0), (110475, 1.0), (110482, 0), (110620, 1.0), (110636, 0), (110723, 1.0), (110755, 1.0), (110764, -1.0), (110774, -1.0), (110777, 1.0), (110817, 1.0), (110868, 1.0), (110907, 0), (110911, 1.0), (111022, 1.0), (111047, 0), (111081, 1.0), (111142, -1.0), (111150, 0), (111171, 0), (111174, -1.0), (111236, 0), (111269, 1.0), (111282, -1.0), (111397, 1.0), (111431, 1.0), (111461, 1.0), (111482, 1.0), (111498, 1.0), (111575, -1.0), (111659, -1.0), (111700, 1.0), (111716, 1.0), (111738, -1.0), (111741, 1.0), (111761, 0), (111787, 1.0), (111885, 0), (111904, 1.0), (112058, 1.0), (112150, 0), (112152, 0), (112203, -1.0), (112241, 1.0), (112295, 1.0), (112306, 0), (112320, 1.0), (112361, 0), (112410, 0), (112460, 1.0), (112655, 1.0), (112716, -1.0), (112727, 1.0), (112803, -1.0), (112828, 1.0), (112842, 0), (112881, 0), (112973, 1.0), (112994, 1.0), (112995, 1.0), (113028, 1.0), (113124, 0), (113125, -1.0), (113166, 1.0), (113172, 1.0), (113176, 1.0), (113251, 1.0), (113358, 0), (113361, -1.0), (113444, 1.0), (113480, 1.0), (113544, 1.0), (113561, 1.0), (113586, -1.0), (113587, 1.0), (113635, -1.0), (113674, 1.0), (113702, 1.0), (113719, 0), (113780, 1.0), (113861, 1.0), (113905, 1.0), (113909, -1.0), (113927, 0), (113937, 1.0), (114078, 0), (114255, -1.0), (114268, 1.0), (114342, 0), (114350, 1.0), (114428, 1.0), (114482, -1.0), (114495, 1.0), (114569, -1.0), (114595, 1.0), (114641, 1.0), (114674, 1.0), (114675, 0), (114694, 1.0), (114723, 0), (114764, 1.0), (114768, 0), (114962, -1.0), (114967, 0), (114979, 1.0), (115103, 0), (115126, 1.0), (115157, 1.0), (115213, 1.0), (115219, 1.0), (115258, -1.0), (115266, 0), (115275, -1.0), (115293, 0), (115308, 1.0), (115318, 0), (115344, 1.0), (115442, -1.0), (115450, 1.0), (115509, -1.0), (115598, 1.0), (115640, 1.0), (115767, 1.0), (115857, 0), (115999, 1.0), (116084, 1.0), (116115, -1.0), (116160, -1.0), (116178, -1.0), (116185, -1.0), (116251, 1.0), (116308, 1.0), (116317, 0), (116331, 1.0), (116395, 1.0), (116430, -1.0), (116494, 1.0), (116650, 1.0), (116653, 0), (116705, -1.0), (116754, -1.0), (116783, 0), (116854, -1.0), (116859, -1.0), (116904, 0), (116934, 1.0), (117070, 1.0), (117100, 0), (117139, 1.0), (117198, 0), (117224, 1.0), (117267, 1.0), (117421, 0), (117468, 1.0), (117524, -1.0), (117574, 0), (117604, -1.0), (117615, -1.0), (117631, 1.0), (117718, 0), (117737, 1.0), (117764, 1.0), (117925, 1.0), (117933, 1.0), (117940, -1.0), (117942, 0), (117992, 0), (118028, 1.0), (118079, 0), (118141, 1.0), (118143, 1.0), (118147, 0), (118173, 1.0), (118373, -1.0), (118424, -1.0), (118457, 1.0), (118535, 0), (118549, 0), (118551, 0), (118553, 0), (118585, 1.0), (118719, 1.0), (118754, 1.0), (118790, 1.0), (118825, 0), (118826, 1.0), (118830, 1.0), (118901, 1.0), (119003, 1.0), (119004, 1.0), (119010, 0), (119144, 1.0), (119196, 0), (119226, 1.0), (119296, 1.0), (119309, 1.0), (119338, 1.0), (119381, 0), (119408, 1.0), (119483, -1.0), (119492, 1.0), (119499, 1.0), (119511, 0), (119524, 1.0), (119553, 1.0), (119622, 1.0), (119651, -1.0), (119682, -1.0), (119718, -1.0), (119733, 1.0), (119774, -1.0), (119813, 0), (119912, 1.0), (119935, -1.0), (120025, 1.0), (120034, 1.0), (120063, 1.0), (120084, -1.0), (120134, 1.0), (120152, 0), (120175, 0), (120199, 0), (120207, 1.0), (120291, 1.0), (120304, -1.0), (120339, 1.0), (120348, -1.0), (120383, 1.0), (120457, 1.0), (120470, 1.0), (120489, -1.0), (120597, 0), (120599, 1.0), (120662, 0), (120751, 1.0), (120798, 0), (120823, -1.0), (120849, 1.0), (120863, -1.0), (120864, 1.0), (120929, 1.0), (121005, 0), (121026, 1.0), (121193, -1.0), (121195, 1.0), (121270, 1.0), (121287, 1.0), (121357, 1.0), (121389, 1.0), (121418, 1.0), (121446, 1.0), (121447, 1.0), (121487, 1.0), (121623, 1.0), (121666, 0), (121788, 1.0), (121818, 0), (121892, 1.0), (121923, 1.0), (121928, 0), (122133, 1.0), (122137, -1.0), (122216, 1.0), (122260, 1.0), (122271, 1.0), (122282, 1.0), (122315, 0), (122359, 0), (122449, 1.0), (122461, 0), (122490, 1.0), (122556, -1.0), (122578, 1.0), (122612, 1.0), (122710, 0), (122724, -1.0), (122751, 1.0), (122931, -1.0), (122945, -1.0), (122951, 1.0), (122998, 1.0), (123071, 1.0), (123085, -1.0), (123100, 0), (123111, 1.0), (123131, 1.0), (123156, 1.0), (123262, 1.0), (123266, 1.0), (123278, 1.0), (123282, 1.0), (123308, 1.0), (123312, -1.0), (123342, 1.0), (123380, 0), (123466, 1.0), (123519, 0), (123522, -1.0), (123566, 0), (123573, 1.0), (123635, 1.0), (123731, 0), (123758, -1.0), (123833, 0), (123847, 1.0), (123857, 1.0), (123877, 0), (123891, 1.0), (123907, 1.0), (123927, 1.0), (124012, 1.0), (124015, 1.0), (124037, 0), (124098, -1.0), (124124, 0), (124169, 0), (124177, 1.0), (124208, -1.0), (124223, -1.0), (124246, 1.0), (124308, 0), (124321, -1.0), (124328, 0), (124378, 0), (124382, -1.0), (124419, 1.0), (124430, -1.0), (124443, 1.0), (124496, -1.0), (124520, 1.0), (124529, -1.0), (124559, -1.0), (124584, 0), (124670, 1.0), (124688, 1.0), (124733, 1.0), (124772, 1.0), (124878, 1.0), (124930, -1.0), (124941, 0), (124952, 0), (125021, -1.0), (125076, 0), (125078, 0), (125101, -1.0), (125102, 1.0), (125109, 1.0), (125167, 1.0), (125241, -1.0), (125250, 1.0), (125381, 1.0), (125648, 1.0), (125673, 0), (125674, 1.0), (125701, 1.0), (125730, 1.0), (125794, 1.0), (125822, 1.0), (125882, -1.0), (125889, 1.0), (125896, 1.0), (125939, 1.0), (126015, 1.0), (126022, 0), (126090, -1.0), (126092, 1.0), (126112, 1.0), (126116, -1.0), (126119, -1.0), (126314, 1.0), (126473, 1.0), (126518, 1.0), (126525, 1.0), (126550, 0), (126573, 0), (126738, 1.0), (126803, 1.0), (126945, 1.0), (127088, 0), (127124, 1.0), (127224, 1.0), (127386, 1.0), (127433, 0), (127435, 1.0), (127470, 1.0), (127520, -1.0), (127558, 0), (127628, -1.0), (127650, 1.0), (127719, -1.0), (127730, 1.0), (127746, -1.0), (127779, -1.0), (127796, 1.0), (127797, 0), (127830, -1.0), (127862, -1.0), (128012, 0), (128081, 1.0), (128152, 0), (128167, -1.0), (128176, 1.0), (128185, -1.0), (128203, 1.0), (128234, 0), (128248, 0), (128299, 0), (128324, -1.0), (128347, 0), (128371, 1.0), (128489, -1.0), (128497, 1.0), (128534, 1.0), (128539, 0), (128595, 0), (128601, 0), (128620, -1.0), (128673, -1.0), (128703, 1.0), (128711, 1.0), (128775, 0), (128921, -1.0), (128980, 0), (129009, 1.0), (129070, 0), (129074, -1.0), (129093, 1.0), (129130, -1.0), (129179, 0), (129211, 0), (129280, -1.0), (129295, 1.0), (129307, -1.0), (129329, 1.0), (129378, 1.0), (129390, 1.0), (129442, -1.0), (129452, 1.0), (129528, 1.0), (129548, 1.0), (129561, 0), (129569, 1.0), (129586, 1.0), (129604, -1.0), (129705, 0), (129850, 0), (129869, 1.0), (129910, 1.0), (129945, 0), (129967, 1.0), (129997, 1.0), (130109, -1.0), (130125, -1.0), (130267, -1.0), (130283, 1.0), (130328, 0), (130488, 0), (130632, 0), (130690, 1.0), (130794, 1.0), (130800, -1.0), (130843, 1.0), (130864, -1.0), (130869, 1.0), (130908, 1.0), (130921, 1.0), (130935, 1.0), (131063, 0), (131064, 1.0), (131144, 0), (131159, 1.0), (131166, 1.0), (131177, 0), (131249, 1.0), (131291, 0), (131302, 0), (131370, 0), (131381, 1.0), (131482, -1.0), (131538, 0), (131569, 0), (131603, 1.0), (131661, -1.0), (131686, 1.0), (131757, -1.0), (131873, -1.0), (131897, -1.0), (131939, 1.0), (132063, -1.0), (132142, 0), (132202, 1.0), (132208, 0), (132233, 0), (132380, -1.0), (132396, 0), (132403, -1.0), (132489, -1.0), (132564, 1.0), (132580, -1.0), (132667, 1.0), (132685, -1.0), (132699, 1.0), (132717, 0), (132727, 0), (132752, 1.0), (132783, 1.0), (132787, 0), (132808, 0), (132822, 1.0), (132856, 0), (132875, -1.0), (132891, 1.0), (132895, 1.0), (132935, 0), (132995, 1.0), (132997, 1.0), (133064, -1.0), (133073, 1.0), (133137, 0), (133307, 1.0), (133331, 0), (133332, 1.0), (133337, 1.0), (133339, 1.0), (133359, 1.0), (133380, 1.0), (133381, 1.0), (133396, 1.0), (133408, -1.0), (133436, 0), (133512, -1.0), (133553, 0), (133556, -1.0), (133593, 1.0), (133595, 1.0), (133624, 0), (133684, 0), (133709, 1.0), (133712, 1.0), (133754, 0), (133779, 1.0), (133792, 0), (134046, 1.0), (134060, -1.0), (134093, 0), (134106, 1.0), (134107, -1.0), (134112, 0), (134198, 1.0), (134241, -1.0), (134271, -1.0), (134301, 1.0), (134360, -1.0), (134460, -1.0), (134474, 1.0), (134538, 1.0), (134711, 1.0), (134759, 1.0), (134792, 1.0), (134856, 1.0), (134895, 1.0), (134898, 1.0), (134949, -1.0), (134953, 1.0), (134988, 0), (135015, 1.0), (135032, 1.0), (135043, 1.0), (135062, 1.0), (135155, 0), (135195, -1.0), (135226, 1.0), (135228, 1.0), (135262, -1.0), (135269, 1.0), (135271, 0), (135285, -1.0), (135359, -1.0), (135374, 1.0), (135379, 1.0), (135386, 1.0), (135405, 1.0), (135420, 0), (135478, -1.0), (135484, 1.0), (135505, 0), (135506, 0), (135589, 1.0), (135636, 0), (135711, 1.0), (135806, -1.0), (135899, 0), (135916, -1.0), (135929, 1.0), (135935, 0), (135938, 1.0), (135945, 1.0), (135961, -1.0), (135973, 1.0), (136023, -1.0), (136025, 1.0), (136069, 0), (136087, -1.0), (136121, 0), (136133, 1.0), (136152, 1.0), (136221, 0), (136251, 0), (136339, 1.0), (136340, -1.0), (136363, 1.0), (136385, 1.0), (136414, 0), (136520, -1.0), (136529, -1.0), (136630, 0), (136668, 1.0), (136712, -1.0), (136788, 1.0), (136806, 1.0), (136854, 1.0), (136881, -1.0), (137069, 1.0), (137099, 1.0), (137128, 0), (137174, 0), (137276, -1.0), (137290, 0), (137310, -1.0), (137351, 0), (137400, -1.0), (137609, 0), (137615, 1.0), (137620, -1.0), (137638, -1.0), (137641, 1.0), (137657, -1.0), (137693, 1.0), (137701, 1.0), (137812, 1.0), (137823, 1.0), (137930, -1.0), (137938, 1.0), (137989, 1.0), (137991, 1.0), (138013, 1.0), (138058, -1.0), (138063, 1.0), (138089, -1.0), (138221, 1.0), (138298, -1.0), (138350, 0), (138370, 1.0), (138383, 1.0), (138416, 1.0), (138527, 1.0), (138534, -1.0), (138554, 0), (138641, 0), (138714, 0), (138715, 1.0), (138725, 1.0), (138763, 1.0), (138778, 1.0), (138805, -1.0), (138822, 0), (138835, 1.0), (138857, 1.0), (138968, -1.0), (138976, 0), (139012, 0), (139051, 1.0), (139215, -1.0), (139229, -1.0), (139291, 1.0), (139309, 1.0), (139317, 1.0), (139341, 0), (139349, 0), (139418, 0), (139419, 1.0), (139427, 1.0), (139484, 1.0), (139507, 1.0), (139576, 1.0), (139579, 1.0), (139631, 1.0), (139670, 1.0), (139751, 1.0), (139770, 0), (139778, 1.0), (139873, 1.0), (139890, 0), (139922, 1.0), (139927, 1.0), (139969, 1.0), (140019, 0), (140049, 1.0), (140080, -1.0), (140117, 1.0), (140178, 0), (140343, 0), (140365, 0), (140388, 0), (140393, -1.0), (140437, 1.0), (140612, 1.0), (140644, 1.0), (140732, 1.0), (140737, -1.0), (140761, 1.0), (140779, 1.0), (140780, 1.0), (140854, 0), (140856, 0), (140902, 1.0), (140915, 0), (140928, 1.0), (140943, 1.0), (140945, 1.0), (140949, 0), (140953, 1.0), (141004, 0), (141096, -1.0), (141176, 1.0), (141246, 1.0), (141359, -1.0), (141387, 1.0), (141453, 1.0), (141486, 1.0), (141513, -1.0), (141626, 1.0), (141631, 1.0), (141644, 0), (141689, -1.0), (141777, 1.0), (141874, -1.0), (141878, 1.0), (141920, -1.0), (141957, 1.0), (142031, 1.0), (142058, 1.0), (142103, 0), (142185, 1.0), (142342, 1.0), (142387, 0), (142390, -1.0), (142401, -1.0), (142409, 0), (142412, 0), (142466, -1.0), (142498, -1.0), (142514, 1.0), (142603, 1.0), (142626, 0), (142649, -1.0), (142667, 0), (142692, -1.0), (142694, 1.0), (142767, -1.0), (142774, 1.0), (142801, 1.0), (142851, -1.0), (142968, 1.0), (142970, 1.0), (142982, 1.0), (143043, 1.0), (143056, 0), (143078, 1.0), (143111, 1.0), (143125, 1.0), (143176, 1.0), (143232, 0), (143246, 1.0), (143299, 1.0), (143458, -1.0), (143469, -1.0), (143539, 1.0), (143557, -1.0), (143560, 1.0), (143569, 0), (143579, 1.0), (143583, -1.0), (143656, 1.0), (143737, -1.0), (143797, -1.0), (143833, 0), (143845, -1.0), (143855, 0), (143894, -1.0), (143918, 0), (143928, -1.0), (144053, 1.0), (144271, -1.0), (144303, -1.0), (144392, 1.0), (144410, -1.0), (144451, 1.0), (144491, 0), (144512, 1.0), (144578, 1.0), (144606, 1.0), (144651, 1.0), (144740, 1.0), (144758, 0), (144762, 0), (144771, 0), (144772, 0), (144789, 1.0), (144923, 1.0), (144924, -1.0), (144972, 1.0), (145003, 1.0), (145007, 1.0), (145013, 1.0), (145022, 0), (145048, 1.0), (145049, -1.0), (145076, 0), (145085, 0), (145111, 0), (145137, -1.0), (145174, 0), (145254, 1.0), (145261, 1.0), (145266, 0), (145338, 1.0), (145354, -1.0), (145431, 0), (145449, 0), (145464, 1.0), (145481, -1.0), (145558, -1.0), (145676, -1.0), (145682, -1.0), (145683, 1.0), (145687, 1.0), (145736, -1.0), (145888, -1.0), (145890, 0), (145896, -1.0), (145924, 0), (145975, -1.0), (145994, 1.0), (146024, 0), (146064, 0), (146074, 1.0), (146077, 1.0), (146095, 0), (146096, -1.0), (146097, 1.0), (146194, 1.0), (146251, -1.0), (146410, 0), (146422, 0), (146472, -1.0), (146490, 1.0), (146493, 0), (146556, 1.0), (146569, 1.0), (146581, 1.0), (146625, -1.0), (146659, -1.0), (146702, 1.0), (146812, 1.0), (146815, 1.0), (146820, 0), (146836, 0), (146892, 0), (146905, 0), (146906, 0), (146954, -1.0), (147017, 0), (147020, -1.0), (147038, 0), (147085, 0), (147115, 0), (147144, 0), (147218, 0), (147226, 1.0), (147264, -1.0), (147272, 0), (147378, 1.0), (147397, 0), (147414, 1.0), (147422, 1.0), (147445, 0), (147468, -1.0), (147483, -1.0), (147532, 1.0), (147669, 0), (147672, 1.0), (147687, -1.0), (147695, 1.0), (147696, 1.0), (147805, 0), (147831, 1.0), (147881, -1.0), (147894, 0), (148106, 1.0), (148133, 0), (148193, -1.0), (148291, 0), (148318, 0), (148325, 0), (148352, 0), (148478, 1.0), (148485, -1.0), (148568, -1.0), (148576, 1.0), (148606, 1.0), (148752, -1.0), (148788, 1.0), (148858, -1.0), (148885, 0), (149012, 1.0), (149076, -1.0), (149101, 1.0), (149110, -1.0), (149217, 1.0), (149218, 0), (149242, 0), (149269, 0), (149274, -1.0), (149288, 0), (149428, -1.0), (149441, 1.0), (149464, 1.0), (149507, 0), (149551, 0), (149571, 1.0), (149581, 0), (149647, 0), (149666, -1.0), (149685, 0), (149689, -1.0), (149696, -1.0), (149754, 1.0), (149852, -1.0), (149855, 1.0), (149907, -1.0), (149972, 1.0), (149979, -1.0), (150019, 0), (150021, 1.0), (150097, -1.0), (150098, 1.0), (150186, 0), (150191, -1.0), (150197, 1.0), (150264, -1.0), (150492, 1.0), (150502, 1.0), (150628, 1.0), (150655, 1.0), (150699, 0), (150712, 0), (150783, 1.0), (150811, 1.0), (150993, 1.0), (151067, 1.0), (151078, 1.0), (151080, 0), (151126, 1.0), (151182, -1.0), (151208, 1.0), (151217, 0), (151241, 0), (151295, 1.0), (151368, -1.0), (151439, 0), (151485, -1.0), (151503, 0), (151566, 1.0), (151575, 1.0), (151584, 1.0), (151653, 0), (151664, 1.0), (151693, 1.0), (151720, -1.0), (151750, 0), (151780, 1.0), (151802, 1.0), (151836, 1.0), (151889, 1.0), (151893, 0), (151943, -1.0), (152009, -1.0), (152067, -1.0), (152217, 0), (152250, 1.0), (152264, 0), (152304, 0), (152385, 1.0), (152625, 0), (152640, 0), (152646, 0), (152674, 1.0), (152689, 0), (152695, 0), (152728, 0), (152792, -1.0), (152796, 1.0), (152799, 0), (152806, 1.0), (152830, 0), (152837, 1.0), (152851, 1.0), (152871, 1.0), (152968, 1.0), (153039, 1.0), (153077, 0), (153101, 1.0), (153132, 0), (153133, 1.0), (153240, 1.0), (153261, 1.0), (153360, -1.0), (153417, 1.0), (153531, 0), (153584, -1.0), (153697, -1.0), (153709, 1.0), (153733, 1.0), (153773, 0), (153811, -1.0), (153910, 1.0), (153913, -1.0), (153987, 1.0), (153990, -1.0), (154000, 0), (154014, 1.0), (154032, 1.0), (154038, -1.0), (154040, -1.0), (154049, 0), (154056, 1.0), (154098, 0), (154104, -1.0), (154117, -1.0), (154183, 1.0), (154221, 1.0), (154280, 0), (154335, 1.0), (154430, 1.0), (154533, 1.0), (154559, 1.0), (154593, 0), (154608, 0), (154611, 1.0), (154634, 0), (154642, 1.0), (154670, -1.0), (154683, 0), (154844, 1.0), (154922, 0), (154923, -1.0), (154937, 1.0), (154955, 0), (155013, 0), (155089, 1.0), (155199, 0), (155242, 1.0), (155351, 1.0), (155460, 0), (155464, 1.0), (155570, 1.0), (155578, 0), (155584, 1.0), (155615, 0), (155621, 0), (155668, 0), (155692, 1.0), (155694, 1.0), (155726, 1.0), (155855, -1.0), (155857, -1.0), (155860, -1.0), (155861, 1.0), (155930, 1.0), (155933, 0), (155942, 0), (155969, -1.0), (155995, 1.0), (156033, 1.0), (156040, -1.0), (156054, 1.0), (156128, 1.0), (156140, 1.0), (156189, 1.0), (156214, 1.0), (156235, -1.0), (156259, 1.0), (156270, 1.0), (156302, -1.0), (156343, -1.0), (156349, 1.0), (156369, 0), (156389, 0), (156459, 0), (156531, 1.0), (156603, -1.0), (156619, 1.0), (156896, 1.0), (156929, 1.0), (156988, 0), (157041, -1.0), (157118, 1.0), (157122, -1.0), (157148, 1.0), (157252, 1.0), (157521, -1.0), (157602, 0), (157647, 0), (157667, -1.0), (157747, 0), (157877, 1.0), (157888, 1.0), (157894, 0), (157907, 0), (157936, 0), (157961, 1.0), (158033, 0), (158109, 1.0), (158118, 1.0), (158121, 1.0), (158143, 1.0), (158187, 1.0), (158251, 1.0), (158336, 0), (158342, -1.0), (158425, 1.0), (158456, 0), (158490, 1.0), (158515, 1.0), (158520, 0), (158595, -1.0), (158612, -1.0), (158664, 1.0), (158733, 0), (158746, 1.0), (158769, 0), (158801, 1.0), (158829, 1.0), (158849, -1.0), (158874, -1.0), (158930, 1.0), (158943, 1.0), (158951, 0), (158960, -1.0), (159035, -1.0), (159092, 0), (159170, 0), (159206, 1.0), (159212, 1.0), (159217, -1.0), (159362, 1.0), (159368, -1.0), (159383, 1.0), (159400, 0), (159439, 0), (159455, 1.0), (159456, -1.0), (159468, 1.0), (159487, 1.0), (159494, 1.0), (159510, -1.0), (159577, 1.0), (159584, -1.0), (159614, -1.0), (159629, 0), (159666, -1.0), (159694, 0), (159697, 1.0), (159734, 0), (159840, 0), (159846, 0), (159852, 1.0), (159871, -1.0), (159886, -1.0), (159901, 0), (159913, 1.0), (159933, 0), (160003, 1.0), (160032, 1.0), (160106, 1.0), (160141, -1.0), (160189, 1.0), (160409, 1.0), (160421, -1.0), (160423, -1.0), (160453, 1.0), (160457, 1.0), (160538, 1.0), (160550, 1.0), (160552, 0), (160877, 0), (160895, 1.0), (160898, 0), (160976, 1.0), (160995, -1.0), (161053, 1.0), (161064, -1.0), (161091, -1.0), (161102, 1.0), (161126, -1.0), (161134, 1.0), (161148, 1.0), (161156, 1.0), (161169, -1.0), (161173, -1.0), (161197, 0), (161199, 1.0), (161209, -1.0), (161231, 1.0), (161239, 0), (161254, 0), (161294, 0), (161309, 0), (161316, -1.0), (161431, 0), (161434, 1.0), (161453, 1.0), (161594, 1.0), (161596, 0), (161677, 1.0), (161681, 0), (161734, 1.0), (161757, 1.0), (161790, 0), (161791, 1.0), (161810, 1.0), (161835, 0), (161858, 1.0), (161871, 1.0), (161874, 1.0), (161875, 0), (161954, -1.0), (161962, -1.0), (162009, -1.0), (162014, 1.0), (162048, -1.0), (162086, 1.0), (162102, 0), (162107, 1.0), (162120, 1.0), (162121, -1.0), (162169, 1.0), (162185, 1.0), (162202, 0), (162241, 0), (162268, 1.0), (162272, 0), (162296, 1.0), (162305, 1.0), (162332, 0), (162341, 1.0), (162401, -1.0), (162484, 0), (162569, 1.0), (162577, 1.0), (162644, 0), (162693, 1.0), (162697, 1.0), (162752, 1.0), (162873, -1.0), (163042, 1.0), (163141, 1.0), (163159, 0), (163160, 1.0), (163221, 1.0), (163246, 1.0), (163302, 1.0), (163319, 1.0), (163375, 0), (163387, 0), (163430, -1.0), (163466, 0), (163467, 1.0), (163473, 0), (163481, 1.0), (163493, 1.0), (163501, -1.0), (163503, 1.0), (163567, 0), (163596, 0), (163600, 1.0), (163661, 0), (163682, 0), (163687, 1.0), (163784, 1.0), (163791, 1.0), (163832, 1.0), (163842, 1.0), (163915, 1.0), (163929, 0), (164000, 0), (164061, 1.0), (164137, 0), (164156, -1.0), (164173, 0), (164226, 0), (164282, 0), (164297, -1.0), (164302, 0), (164326, 0), (164413, 1.0), (164418, 1.0), (164501, 1.0), (164516, 1.0), (164521, -1.0), (164595, 1.0), (164613, 1.0), (164633, 1.0), (164728, -1.0), (164887, 0), (164901, 1.0), (164909, -1.0), (164931, 0), (164960, 1.0), (164970, 1.0), (164972, -1.0), (164986, 0), (165000, 1.0), (165072, -1.0), (165147, -1.0), (165155, 1.0), (165158, -1.0), (165250, 1.0), (165396, 1.0), (165405, 1.0), (165494, 0), (165542, 1.0), (165623, 1.0), (165630, 0), (165703, -1.0), (165706, -1.0), (165727, 0), (165740, 0), (165748, 1.0), (165796, 1.0), (165813, -1.0), (165890, -1.0), (165900, 0), (165922, 0), (165998, 1.0), (166008, 1.0), (166074, 1.0), (166093, -1.0), (166172, 1.0), (166194, 0), (166201, 1.0), (166260, 1.0), (166286, 1.0), (166299, 0), (166319, 1.0), (166364, -1.0), (166395, 0), (166406, -1.0), (166439, 1.0), (166497, -1.0), (166501, 1.0), (166591, 1.0), (166607, 1.0), (166639, 1.0), (166771, 1.0), (166817, 1.0), (166851, 0), (166869, 1.0), (166925, 1.0), (166948, 0), (166963, 0), (167056, -1.0), (167059, -1.0), (167062, 0), (167072, 1.0), (167176, 1.0), (167227, 1.0), (167237, 1.0), (167352, 1.0), (167353, 0), (167420, -1.0), (167488, 0), (167525, 1.0), (167605, 1.0), (167621, 0), (167753, 1.0), (167775, 1.0), (167792, 1.0), (167831, 0), (167938, 1.0), (168030, -1.0), (168079, 0), (168082, 1.0), (168093, 1.0), (168156, 1.0), (168225, 1.0), (168250, 1.0), (168253, 1.0), (168288, 0), (168349, 0), (168414, -1.0), (168425, 1.0), (168522, -1.0), (168596, 0), (168602, -1.0), (168646, 0), (168669, 1.0), (168774, 1.0), (168784, -1.0), (168789, 1.0), (168797, 1.0), (168884, 1.0), (169096, 1.0), (169122, 1.0), (169155, 0), (169220, 1.0), (169240, 0), (169272, -1.0), (169306, 1.0), (169330, 1.0), (169352, 1.0), (169474, 0), (169521, 1.0), (169559, 1.0), (169571, 1.0), (169582, -1.0), (169585, -1.0), (169643, 1.0), (169648, 1.0), (169668, 1.0), (169695, 1.0), (169704, 1.0), (169718, 0), (169769, 1.0), (169778, -1.0), (169795, 1.0), (169899, 0), (169918, 0), (169944, 1.0), (169953, 0), (169969, -1.0), (170040, -1.0), (170061, -1.0), (170073, 0), (170081, -1.0), (170149, -1.0), (170166, 1.0), (170175, 0), (170176, 1.0), (170194, 0), (170206, -1.0), (170215, 1.0), (170260, -1.0), (170330, -1.0), (170418, 1.0), (170461, 0), (170480, -1.0), (170489, 1.0), (170577, 1.0), (170583, 0), (170598, 0), (170606, 1.0), (170712, 1.0), (170749, 1.0), (170755, 0), (170794, -1.0), (170802, 1.0), (170850, -1.0), (170873, 1.0), (170881, 1.0), (170889, 1.0), (170896, 0), (170944, 1.0), (170983, 1.0), (171050, -1.0), (171060, 1.0), (171065, 1.0), (171128, 0), (171129, -1.0), (171136, 0), (171158, 0), (171215, 1.0), (171229, 1.0), (171263, -1.0), (171304, 1.0), (171325, 1.0), (171370, 1.0), (171393, 0), (171508, 1.0), (171537, 0), (171556, 1.0), (171563, 0), (171651, 1.0), (171680, 1.0), (171829, 1.0), (171845, 1.0), (171871, -1.0), (171877, 1.0), (171901, 1.0), (171957, 1.0), (172038, 1.0), (172100, 0), (172154, 0), (172226, -1.0), (172257, 1.0), (172273, 1.0), (172283, -1.0), (172288, 1.0), (172303, 0), (172306, 1.0), (172325, -1.0), (172343, 1.0), (172400, 1.0), (172443, 0), (172481, -1.0), (172486, -1.0), (172498, -1.0), (172533, -1.0), (172552, 1.0), (172621, 0), (172628, 1.0), (172635, 0), (172638, 1.0), (172811, 0), (172833, 1.0), (172936, -1.0), (172957, 1.0), (172979, -1.0), (172992, -1.0), (173031, -1.0), (173061, 0), (173063, 1.0), (173086, 1.0), (173115, 1.0), (173199, -1.0), (173358, 0), (173370, 1.0), (173417, 0), (173436, 0), (173452, 0), (173458, -1.0), (173557, 1.0), (173614, 1.0), (173618, -1.0), (173641, 1.0), (173655, -1.0), (173663, 1.0), (173711, 1.0), (173755, 0), (173822, 0), (173864, 1.0), (173903, 1.0), (173986, 1.0), (173998, 0), (174077, 1.0), (174112, 0), (174123, 0), (174152, 0), (174167, 1.0), (174171, -1.0), (174211, 0), (174231, 1.0), (174282, 1.0), (174330, -1.0), (174337, 1.0), (174342, 1.0), (174344, 1.0), (174422, -1.0), (174429, 1.0), (174442, 1.0), (174524, -1.0), (174544, -1.0), (174563, 1.0), (174578, 1.0), (174597, -1.0), (174607, 1.0), (174785, -1.0), (174790, 0), (174792, -1.0), (174814, 1.0), (174832, 0), (174833, 1.0), (174890, -1.0), (174896, 1.0), (174923, -1.0), (174946, 1.0), (174947, 1.0), (175024, 1.0), (175036, 1.0), (175076, 1.0), (175124, 0), (175176, 1.0), (175318, -1.0), (175334, -1.0), (175454, 1.0), (175475, -1.0), (175537, -1.0), (175573, 1.0), (175674, 0), (175695, -1.0), (175890, 1.0), (176041, 1.0), (176111, 1.0), (176113, 0), (176115, 1.0), (176118, 0), (176144, 1.0), (176161, 1.0), (176255, -1.0), (176260, -1.0), (176277, -1.0), (176286, 0), (176428, -1.0), (176449, 1.0), (176474, 0), (176556, 1.0), (176608, 1.0), (176659, 0), (176697, 1.0), (176708, 1.0), (176778, -1.0), (176880, 1.0), (177075, 1.0), (177162, 1.0), (177178, 1.0), (177186, 1.0), (177232, 1.0), (177292, 1.0), (177369, 1.0), (177389, 0), (177497, 1.0), (177498, 1.0), (177542, 0), (177575, -1.0), (177633, 1.0), (177658, 1.0), (177668, 0), (177748, 0), (177787, -1.0), (177796, 1.0), (177870, 0), (177875, 1.0), (177895, 1.0), (177901, 1.0), (177915, 0), (177992, -1.0), (178043, 0), (178107, 1.0), (178122, 0), (178247, 0), (178259, 1.0), (178322, 1.0), (178341, 1.0), (178343, -1.0), (178347, 0), (178358, -1.0), (178423, 1.0), (178498, -1.0), (178595, 0), (178693, 0), (178708, 0), (178732, 1.0), (178827, 1.0), (178844, -1.0), (178880, 1.0), (178916, 0), (178944, 0), (178948, 1.0), (178953, 1.0), (179006, -1.0), (179028, 1.0), (179111, 1.0), (179154, 1.0), (179166, 1.0), (179194, 1.0), (179241, 0), (179269, 1.0), (179309, -1.0), (179322, -1.0), (179411, 1.0), (179422, 1.0), (179423, 0), (179486, 0), (179552, 1.0), (179556, 1.0), (179654, -1.0), (179696, 1.0), (179711, 1.0), (179713, 1.0), (179726, 1.0), (179744, -1.0), (179851, 1.0), (180103, 1.0), (180153, 1.0), (180177, 1.0), (180261, 0), (180289, 0), (180291, -1.0), (180316, 1.0), (180365, -1.0), (180431, 0), (180524, 0), (180561, 1.0), (180577, 0), (180607, -1.0), (180620, 0), (180638, 1.0), (180647, 1.0), (180699, 1.0), (180780, -1.0), (180795, 1.0), (180914, 0), (180937, 0), (180938, 0), (180962, -1.0), (180994, 1.0), (181007, -1.0), (181033, 1.0), (181100, -1.0), (181108, -1.0), (181209, 0), (181233, -1.0), (181272, 0), (181278, 1.0), (181281, 1.0), (181293, -1.0), (181317, 1.0), (181327, 0), (181353, 1.0), (181411, 0), (181420, 1.0), (181435, 1.0), (181465, 1.0), (181506, 0), (181579, 0), (181606, 1.0), (181615, 0), (181741, 1.0), (181755, 1.0), (181846, 1.0), (181847, 1.0), (181878, 1.0), (181880, 0), (181902, -1.0), (181933, -1.0), (182004, -1.0), (182097, 0), (182120, 1.0), (182161, 0), (182163, 1.0), (182187, -1.0), (182329, 1.0), (182342, -1.0), (182472, 1.0), (182493, 1.0), (182507, -1.0), (182660, 0), (182677, -1.0), (182692, -1.0), (182727, -1.0), (182732, 1.0), (182742, 1.0), (182763, 1.0), (182771, 1.0), (182773, 0), (182779, 0), (182835, -1.0), (182850, 0), (182867, 1.0), (182988, 1.0), (183044, 1.0), (183054, 1.0), (183055, 1.0), (183076, -1.0), (183178, 1.0), (183213, 0), (183219, 1.0), (183257, 0), (183300, 1.0), (183334, -1.0), (183384, 1.0), (183472, 1.0), (183524, 1.0), (183586, 1.0), (183601, -1.0), (183674, 1.0), (183703, 1.0), (183707, 0), (183769, 1.0), (183822, 1.0), (183939, 1.0), (183971, 1.0), (184023, 0), (184046, -1.0), (184055, 1.0), (184060, 1.0), (184083, 1.0), (184125, 0), (184136, 1.0), (184143, 1.0), (184158, 1.0), (184207, 1.0), (184225, 0), (184265, -1.0), (184271, 0), (184345, 1.0), (184358, 0), (184418, 1.0), (184432, 1.0), (184446, -1.0), (184478, 1.0), (184490, -1.0), (184567, 1.0), (184577, 0), (184649, -1.0), (184654, -1.0), (184658, 0), (184679, 1.0), (184685, 0), (184703, 0), (184775, 1.0), (184782, 1.0), (184832, 1.0), (184836, 0), (184868, -1.0), (185041, 0), (185139, 0), (185210, -1.0), (185227, 0), (185235, 0), (185237, 1.0), (185243, -1.0), (185275, 0), (185310, 1.0), (185344, 0), (185356, 1.0), (185393, 1.0), (185452, -1.0), (185455, 1.0), (185472, 0), (185474, 1.0), (185487, 1.0), (185502, 0), (185526, 0), (185543, 0), (185596, -1.0), (185604, 0), (185644, 1.0), (185718, 0), (185806, 1.0), (185864, 1.0), (185914, 1.0), (185915, 1.0), (185944, 0), (185998, 0), (186082, -1.0), (186093, 0), (186261, -1.0), (186310, 0), (186353, -1.0), (186513, 1.0), (186565, 1.0), (186606, 0), (186652, 0), (186658, 1.0), (186733, 0), (186772, -1.0), (186806, -1.0), (186807, 0), (186857, 0), (186986, 1.0), (187053, 1.0), (187061, 0), (187090, 0), (187122, -1.0), (187280, 1.0), (187299, 0), (187414, 1.0), (187473, -1.0), (187499, 1.0), (187522, 0), (187570, 0), (187694, 1.0), (187730, 0), (187776, 0), (187778, 1.0), (187810, 1.0), (187815, -1.0), (187846, -1.0), (187889, -1.0), (187972, 1.0), (188057, -1.0), (188095, 0), (188100, -1.0), (188136, 1.0), (188199, -1.0), (188222, 1.0), (188238, 1.0), (188307, 1.0), (188347, 1.0), (188375, 0), (188417, 1.0), (188500, 1.0), (188528, 1.0), (188609, 1.0), (188678, 1.0), (188716, 1.0), (188762, 0), (188766, 0), (188871, 0), (188900, 1.0), (188994, 1.0), (189002, 0), (189038, 1.0), (189105, 1.0), (189184, 1.0), (189334, -1.0), (189444, -1.0), (189458, 0), (189477, -1.0), (189507, 1.0), (189587, 0), (189601, 0), (189613, 1.0), (189637, -1.0), (189683, 1.0), (189791, -1.0), (189857, -1.0), (189875, -1.0), (189897, 1.0), (189900, 0), (189903, -1.0), (189944, 0), (189985, 1.0), (190116, 1.0), (190201, 1.0), (190284, 0), (190343, 1.0), (190377, 0), (190418, -1.0), (190455, 0), (190473, 1.0), (190500, -1.0), (190525, 1.0), (190526, 0), (190565, 1.0), (190612, 0), (190635, 1.0), (190647, 1.0), (190698, 1.0), (190756, 1.0), (190768, -1.0), (190777, -1.0), (190793, 1.0), (190890, 1.0), (190902, 1.0), (190938, 0), (190989, 0), (190998, 0), (191004, -1.0), (191023, -1.0), (191041, -1.0), (191050, -1.0), (191052, 1.0), (191097, 1.0), (191113, 0), (191120, -1.0), (191172, 1.0), (191186, 1.0), (191196, 1.0), (191206, 1.0), (191226, 0), (191283, 1.0), (191341, 1.0), (191377, 1.0), (191384, 1.0), (191418, 1.0), (191472, 0), (191513, 0), (191522, -1.0), (191529, 1.0), (191701, 1.0), (191727, 0), (191728, 1.0), (191775, 1.0), (191843, -1.0), (191883, 1.0), (191914, 0), (191937, -1.0), (191952, -1.0), (191997, 1.0), (192016, 1.0), (192028, -1.0), (192071, 1.0), (192081, 0), (192099, 0), (192276, -1.0), (192281, 0), (192310, 1.0), (192340, -1.0), (192447, 1.0), (192560, -1.0), (192601, 0), (192638, 1.0), (192734, 0), (192759, -1.0), (192774, 1.0), (192878, 1.0), (192921, 1.0), (192940, 1.0), (192944, 0), (192952, -1.0), (193061, 0), (193086, 1.0), (193227, -1.0), (193228, 1.0), (193236, 0), (193275, 1.0), (193332, 0), (193362, 1.0), (193466, 1.0), (193489, -1.0), (193508, -1.0), (193571, 1.0), (193585, 1.0), (193643, 1.0), (193762, 0), (193792, 1.0), (193846, -1.0), (193848, 0), (193913, 1.0), (193914, 1.0), (193954, -1.0), (193979, -1.0), (194005, 0), (194176, -1.0), (194236, -1.0), (194274, 0), (194332, 1.0), (194419, 0), (194435, 1.0), (194437, -1.0), (194455, -1.0), (194519, -1.0), (194532, 0), (194647, 1.0), (194682, 1.0), (194696, 0), (194732, 1.0), (194805, 1.0), (194818, 1.0), (194828, 1.0), (194833, 0), (194888, 1.0), (194920, -1.0), (194974, 0), (195070, -1.0), (195293, -1.0), (195438, -1.0), (195447, 1.0), (195490, 0), (195537, 0), (195538, 1.0), (195546, 0), (195616, 0), (195624, -1.0), (195674, 1.0), (195685, 1.0), (195768, 0), (195813, 1.0), (195920, 0), (195924, 1.0), (195928, -1.0), (195933, 0), (195997, 0), (195998, 1.0), (196277, 0), (196381, -1.0), (196426, 0), (196476, 1.0), (196614, 0), (196674, 1.0), (196691, 1.0), (196752, 0), (196798, 1.0), (196862, 1.0), (196932, 1.0), (196933, -1.0), (196940, 1.0), (196964, -1.0), (197027, 1.0), (197057, -1.0), (197111, 0), (197174, 0), (197214, 1.0), (197261, 1.0), (197275, -1.0), (197307, 1.0), (197365, 0), (197371, 0), (197428, 1.0), (197478, 0), (197494, 1.0), (197501, 0), (197594, 1.0), (197604, 1.0), (197695, 0), (197770, 0), (197904, -1.0), (197907, -1.0), (197936, 1.0), (197966, -1.0), (198073, 1.0), (198139, 0), (198150, -1.0), (198219, -1.0), (198404, 0), (198405, -1.0), (198419, 1.0), (198499, -1.0), (198524, -1.0), (198689, 1.0), (198742, -1.0), (198763, 0), (198775, 1.0), (198801, 1.0), (198881, 1.0), (198893, 1.0), (198912, 0), (198941, 1.0), (198975, 0), (199021, 0), (199026, 1.0), (199071, -1.0), (199076, 1.0), (199166, 0), (199217, 0), (199223, 0), (199261, 1.0), (199385, -1.0), (199444, -1.0), (199488, 0), (199499, 0), (199534, 1.0), (199630, 1.0), (199718, 1.0), (199750, -1.0), (199764, -1.0), (199765, 0), (199816, 0), (199839, -1.0), (199925, 1.0), (200039, 0), (200109, -1.0), (200129, 1.0), (200192, 1.0), (200204, 1.0), (200223, 1.0), (200227, 0), (200274, -1.0), (200329, 0), (200364, 1.0), (200365, 0), (200366, 1.0), (200416, 1.0), (200484, 1.0), (200525, 0), (200540, 0), (200554, 0), (200641, 0), (200646, 1.0), (200709, 1.0), (200715, 1.0), (200754, 1.0), (200790, -1.0), (200799, 1.0), (200822, 1.0), (200928, 0), (200947, 1.0), (200954, 0), (200970, 0), (200984, 1.0), (201050, -1.0), (201063, -1.0), (201085, 1.0), (201125, 1.0), (201165, 1.0), (201225, 0), (201277, 1.0), (201287, 1.0), (201340, 0), (201369, 0), (201395, 0), (201521, 1.0), (201604, 1.0), (201631, 1.0), (201660, 0), (201705, 1.0), (201742, 0), (201748, 1.0), (201789, 1.0), (201797, 1.0), (201799, 0), (201810, 1.0), (201836, 0), (201894, 1.0), (201896, 0), (201907, 0), (201908, 1.0), (201923, 1.0), (201947, 1.0), (201952, 0), (201962, 1.0), (201967, -1.0), (201993, 1.0), (202072, 1.0), (202119, -1.0), (202138, 1.0), (202237, 1.0), (202248, -1.0), (202293, 1.0), (202340, 0), (202423, 0), (202434, 1.0), (202436, -1.0), (202448, 0), (202482, -1.0), (202496, 0), (202497, 1.0), (202502, 1.0), (202541, 0), (202598, 0), (202617, -1.0), (202630, 1.0), (202640, -1.0), (202661, 1.0), (202729, 1.0), (202798, -1.0), (202802, 1.0), (202831, 1.0), (202859, 0), (202863, 0), (202963, 1.0), (203003, 1.0), (203009, -1.0), (203034, -1.0), (203054, 1.0), (203123, -1.0), (203149, -1.0), (203157, 1.0), (203217, 1.0), (203228, -1.0), (203243, 1.0), (203262, 1.0), (203341, 0), (203368, 0), (203373, 1.0), (203378, 0), (203452, 1.0), (203468, 0), (203527, -1.0), (203536, -1.0), (203570, -1.0), (203575, 1.0), (203592, -1.0), (203615, 1.0), (203641, 1.0), (203668, 1.0), (203686, 0), (203690, 0), (203707, 0), (203714, 0), (203735, 0), (203754, 0), (203894, 1.0), (203943, 1.0), (203974, -1.0), (204023, 1.0), (204063, 0), (204070, 0), (204160, 1.0), (204235, 1.0), (204239, 1.0), (204242, 1.0), (204272, -1.0), (204296, -1.0), (204483, 0), (204562, 0), (204652, 1.0), (204699, -1.0), (204720, -1.0), (204858, -1.0), (204885, -1.0), (205036, 0), (205045, 0), (205062, 1.0), (205064, 0), (205106, 1.0), (205180, 0), (205305, 0), (205381, 0), (205393, -1.0), (205557, 1.0), (205581, 1.0), (205617, -1.0), (205636, 1.0), (205640, 1.0), (205664, 1.0), (205680, 1.0), (205733, -1.0), (205735, 1.0), (205757, 0), (205856, 1.0), (205907, 1.0), (205918, 1.0), (205966, 0), (205997, -1.0), (206004, 1.0), (206062, 1.0), (206066, 1.0), (206127, -1.0), (206157, -1.0), (206221, 1.0), (206241, 0), (206257, 1.0), (206260, 0), (206291, 0), (206325, 0), (206439, -1.0), (206694, 1.0), (206757, 1.0), (206759, -1.0), (206830, 1.0), (206914, 0), (206949, 0), (206975, 0), (207086, 1.0), (207111, 1.0), (207161, 1.0), (207250, 0), (207304, 0), (207314, 1.0), (207335, 1.0), (207509, 1.0), (207541, -1.0), (207546, -1.0), (207600, 1.0), (207742, 0), (207791, 1.0), (207793, 1.0), (207942, -1.0), (207964, 0), (208014, 1.0), (208078, -1.0), (208080, 0), (208136, 0), (208172, 1.0), (208181, 1.0), (208242, 0), (208243, 1.0), (208244, 1.0), (208296, 1.0), (208367, -1.0), (208442, 0), (208566, 0), (208618, 1.0), (208691, 1.0), (208697, -1.0), (208796, 0), (208799, 1.0), (208813, -1.0), (208854, 0), (208855, 0), (208882, 1.0), (208885, 0), (208912, 1.0), (208915, 1.0), (208922, 1.0), (208984, -1.0), (209078, 1.0), (209126, 1.0), (209157, 1.0), (209236, 0), (209244, 1.0), (209268, -1.0), (209307, -1.0), (209327, 0), (209340, 1.0), (209346, 0), (209360, 0), (209372, 1.0), (209384, 0), (209389, 1.0), (209418, 1.0), (209421, -1.0), (209435, 1.0), (209443, 1.0), (209472, -1.0), (209579, -1.0), (209622, 1.0), (209708, 1.0), (209714, 1.0), (209719, 1.0), (209731, -1.0), (209772, 1.0), (209851, -1.0), (209858, 1.0), (209911, 1.0), (209919, -1.0), (209951, -1.0), (209976, -1.0), (210024, 0), (210025, 0), (210041, 1.0), (210052, 1.0), (210128, 1.0), (210257, 1.0), (210325, 1.0), (210328, -1.0), (210346, 0), (210399, 0), (210457, 0), (210479, 0), (210576, 0), (210628, 1.0), (210635, 1.0), (210726, 0), (210786, 1.0), (210813, 1.0), (210892, 1.0), (210920, -1.0), (210941, 1.0), (210950, -1.0), (211019, 0), (211089, 1.0), (211146, -1.0), (211194, 1.0), (211213, 1.0), (211225, 1.0), (211254, 0), (211366, 1.0), (211386, 0), (211447, 0), (211481, -1.0), (211638, 0), (211681, 1.0), (211809, 1.0), (211821, 1.0), (211964, 0), (212034, -1.0), (212060, 1.0), (212119, -1.0), (212133, 0), (212134, -1.0), (212135, -1.0), (212157, 1.0), (212187, -1.0), (212190, 1.0), (212198, 0), (212202, 0), (212211, -1.0), (212337, 1.0), (212401, 0), (212466, -1.0), (212531, 0), (212543, 0), (212653, 0), (212752, 1.0), (212802, 1.0), (212806, 0), (213013, -1.0), (213025, 0), (213052, 0), (213065, 0), (213132, 0), (213147, 1.0), (213184, 1.0), (213222, 0), (213286, 0), (213301, 0), (213310, 1.0), (213316, 1.0), (213322, 0), (213356, 0), (213392, 1.0), (213409, 0), (213426, 1.0), (213459, 1.0), (213478, 1.0), (213488, 1.0), (213520, 1.0), (213577, 0), (213684, 1.0), (213740, -1.0), (213764, 0), (213825, -1.0), (213871, 1.0), (213891, -1.0), (213963, 0), (213977, 1.0), (214028, 1.0), (214034, 1.0), (214040, 1.0), (214089, 0), (214281, 1.0), (214343, -1.0), (214406, 1.0), (214463, 1.0), (214477, 1.0), (214499, 0), (214505, 0), (214571, 1.0), (214628, 1.0), (214662, 0), (214663, 1.0), (214670, 0), (214702, 0), (214798, 0), (214812, -1.0), (214865, -1.0), (214888, -1.0), (214915, -1.0), (214925, 0), (214942, 1.0), (214979, 0), (215001, 1.0), (215059, 1.0), (215085, -1.0), (215112, 1.0), (215170, -1.0), (215226, 1.0), (215245, -1.0), (215306, 1.0), (215402, 0), (215521, 1.0), (215595, 0), (215602, 1.0), (215634, 0), (215641, 1.0), (215650, 0), (215698, -1.0), (215700, 0), (215738, 0), (215753, 1.0), (215760, -1.0), (215901, 1.0), (215905, 0), (215932, 1.0), (215968, 1.0), (216051, 1.0), (216057, 1.0), (216058, 1.0), (216068, 0), (216105, 0), (216118, 1.0), (216176, 1.0), (216302, 1.0), (216311, 1.0), (216326, 0), (216386, 1.0), (216448, 0), (216473, 1.0), (216570, 0), (216623, 1.0), (216630, 1.0), (216654, -1.0), (216669, -1.0), (216677, 0), (216681, 1.0), (216734, 1.0), (216801, 0), (216802, 1.0), (216819, 0), (216867, 0), (216989, 1.0), (216996, -1.0), (217065, 0), (217081, 0), (217147, -1.0), (217269, 1.0), (217376, 1.0), (217391, -1.0), (217451, 1.0), (217540, 1.0), (217561, 1.0), (217695, 0), (217793, 1.0), (217821, -1.0), (217850, -1.0), (217853, 1.0), (217859, 0), (217908, 0), (217931, 0), (217995, 1.0), (218074, 1.0), (218146, 1.0), (218214, 1.0), (218244, -1.0), (218252, 1.0), (218266, -1.0), (218289, 1.0), (218322, 0), (218356, 1.0), (218365, 1.0), (218366, -1.0), (218452, 0), (218566, -1.0), (218583, 1.0), (218608, 1.0), (218631, 1.0), (218705, 1.0), (218830, 1.0), (218846, 1.0), (218958, 1.0), (218962, -1.0), (219059, -1.0), (219109, 1.0), (219131, 1.0), (219224, 0), (219265, 1.0), (219271, -1.0), (219417, 0), (219465, -1.0), (219495, 1.0), (219557, 1.0), (219571, 1.0), (219654, 0), (219684, -1.0), (219715, -1.0), (219722, 1.0), (219723, 1.0), (219745, 1.0), (219760, 0), (219769, 1.0), (219815, 1.0), (219819, 1.0), (219882, 1.0), (219913, 1.0), (220019, 1.0), (220085, -1.0), (220127, 0), (220130, 1.0), (220180, -1.0), (220227, 1.0), (220262, 0), (220322, 1.0), (220331, 0), (220347, 1.0), (220359, 0), (220493, 0), (220495, 1.0), (220538, 1.0), (220584, 1.0), (220599, -1.0), (220609, -1.0), (220617, -1.0), (220619, 0), (220660, 0), (220692, 1.0), (220696, 0), (220750, 1.0), (220814, 1.0), (220861, -1.0), (220897, 0), (220901, 1.0), (220964, 1.0), (220971, 1.0), (220996, 1.0), (221052, 1.0), (221137, 0), (221222, 1.0), (221271, 1.0), (221278, -1.0), (221280, 1.0), (221355, -1.0), (221394, 1.0), (221401, 1.0), (221409, 0), (221456, 1.0), (221469, 0), (221499, 0), (221518, -1.0), (221577, 0), (221583, 1.0), (221618, -1.0), (221735, 1.0), (221736, 0), (221798, 0), (221815, 1.0), (221895, 1.0), (221948, 1.0), (221996, -1.0), (222011, 0), (222040, 1.0), (222065, -1.0), (222072, -1.0), (222138, -1.0), (222158, 1.0), (222187, 1.0), (222216, -1.0), (222225, 1.0), (222226, 1.0), (222241, 0), (222293, -1.0), (222379, -1.0), (222456, -1.0), (222523, 1.0), (222524, 1.0), (222545, 0), (222578, 1.0), (222738, 0), (222748, 1.0), (222778, 1.0), (222810, 0), (222830, 1.0), (222831, -1.0), (222853, 0), (222862, 0), (222906, 0), (222953, -1.0), (222982, 0), (222986, 0), (222998, 1.0), (223081, 0), (223137, 1.0), (223159, 0), (223191, 1.0), (223209, -1.0), (223311, 1.0), (223339, 1.0), (223354, 1.0), (223375, 0), (223439, 1.0), (223481, -1.0), (223565, 1.0), (223618, 0), (223648, -1.0), (223679, 1.0), (223715, -1.0), (223751, -1.0), (223860, 1.0), (223878, 0), (223880, -1.0), (223885, 0), (223912, 1.0), (223953, 0), (223956, 0), (223995, 0), (224091, 0), (224103, -1.0), (224116, 1.0), (224129, 0), (224318, 0), (224335, 1.0), (224353, 0), (224436, 1.0), (224453, 0), (224456, -1.0), (224581, 1.0), (224614, 1.0), (224615, 1.0), (224629, 1.0), (224700, 1.0), (224716, 1.0), (224726, 1.0), (224732, 1.0), (224793, 1.0), (224823, 1.0), (224913, 1.0), (224919, 1.0), (224935, -1.0), (224956, 0), (225018, 1.0), (225109, -1.0), (225117, -1.0), (225136, 1.0), (225139, 1.0), (225149, 1.0), (225176, 1.0), (225223, -1.0), (225245, 1.0), (225300, -1.0), (225320, 1.0), (225334, 0), (225351, 0), (225358, 1.0), (225365, 0), (225392, -1.0), (225397, 0), (225417, 0), (225441, 0), (225486, 1.0), (225487, 0), (225538, 1.0), (225600, 0), (225652, 0), (225746, 1.0), (225756, -1.0), (225759, 1.0), (225812, 0), (225837, 1.0), (225900, 1.0), (225938, 0), (225994, 1.0), (226002, 0), (226040, -1.0), (226042, 0), (226074, 0), (226213, 0), (226218, 1.0), (226275, 1.0), (226299, 0), (226380, 1.0), (226391, 0), (226451, -1.0), (226466, 1.0), (226484, 1.0), (226514, 0), (226519, -1.0), (226555, -1.0), (226595, 1.0), (226623, 1.0), (226633, -1.0), (226677, 0), (226721, 1.0), (226722, 1.0), (226736, 1.0), (226793, 1.0), (226799, 1.0), (226850, 1.0), (226929, 0), (227064, 0), (227081, 1.0), (227140, 1.0), (227153, -1.0), (227225, 0), (227261, 1.0), (227281, 1.0), (227286, -1.0), (227310, 1.0), (227322, 0), (227334, 0), (227349, 1.0), (227404, 0), (227435, 1.0), (227590, 0), (227612, -1.0), (227709, 1.0), (227721, -1.0), (227791, 0), (227803, 0), (227867, 0), (227869, 1.0), (227909, 1.0), (227924, 1.0), (227954, 1.0), (227985, 1.0), (228044, 1.0), (228090, 0), (228195, 1.0), (228275, 1.0), (228306, -1.0), (228312, 0), (228339, 0), (228364, 0), (228428, -1.0), (228431, 1.0), (228509, 0), (228516, 1.0), (228526, 0), (228545, 1.0), (228632, 0), (228659, 0), (228669, 0), (228678, -1.0), (228710, -1.0), (228807, 1.0), (228816, 0), (228854, -1.0), (229000, 1.0), (229025, -1.0), (229051, 0), (229096, 0), (229258, 0), (229260, 0), (229288, 1.0), (229390, -1.0), (229509, -1.0), (229549, 1.0), (229688, 1.0), (229734, -1.0), (229763, 0), (229774, -1.0), (229845, 0), (229875, 1.0), (230039, 1.0), (230055, 1.0), (230090, 0), (230117, -1.0), (230118, -1.0), (230119, 0), (230167, -1.0), (230185, 0), (230223, 1.0), (230299, 1.0), (230495, 1.0), (230508, 0), (230515, 0), (230538, 1.0), (230541, 1.0), (230649, 1.0), (230652, -1.0), (230698, 1.0), (230840, -1.0), (230915, 1.0), (231028, 0), (231069, 1.0), (231096, 1.0), (231111, -1.0), (231121, 1.0), (231183, -1.0), (231268, 0), (231336, -1.0), (231361, -1.0), (231370, -1.0), (231406, 1.0), (231486, -1.0), (231524, -1.0), (231538, 0), (231575, 1.0), (231590, 1.0), (231638, -1.0), (231666, 0), (231695, 1.0), (231708, 1.0), (231753, -1.0), (231757, -1.0), (231843, 0), (231901, 0), (231952, -1.0), (231965, -1.0), (232057, 0), (232073, -1.0), (232099, 0), (232103, 1.0), (232122, -1.0), (232131, 1.0), (232145, -1.0), (232154, 1.0), (232194, 1.0), (232237, 1.0), (232257, 1.0), (232283, 1.0), (232408, 0), (232428, -1.0), (232499, 0), (232655, -1.0), (232670, 1.0), (232689, 1.0), (232709, 1.0), (232713, 0), (232829, 1.0), (232953, 0), (233025, 0), (233026, -1.0), (233053, -1.0), (233083, 0), (233170, 1.0), (233183, -1.0), (233186, 1.0), (233246, 1.0), (233249, 1.0), (233325, 1.0), (233517, -1.0), (233547, -1.0), (233550, 0), (233613, -1.0), (233643, 0)])"
      ]
     },
     "execution_count": 26,
     "metadata": {},
     "output_type": "execute_result"
    }
   ],
   "source": [
    "pearsonCorrelationDict.items()"
   ]
  },
  {
   "cell_type": "code",
   "execution_count": 27,
   "metadata": {},
   "outputs": [
    {
     "data": {
      "text/html": [
       "<div>\n",
       "<style scoped>\n",
       "    .dataframe tbody tr th:only-of-type {\n",
       "        vertical-align: middle;\n",
       "    }\n",
       "\n",
       "    .dataframe tbody tr th {\n",
       "        vertical-align: top;\n",
       "    }\n",
       "\n",
       "    .dataframe thead th {\n",
       "        text-align: right;\n",
       "    }\n",
       "</style>\n",
       "<table border=\"1\" class=\"dataframe\">\n",
       "  <thead>\n",
       "    <tr style=\"text-align: right;\">\n",
       "      <th></th>\n",
       "      <th>similarityIndex</th>\n",
       "      <th>userId</th>\n",
       "    </tr>\n",
       "  </thead>\n",
       "  <tbody>\n",
       "    <tr>\n",
       "      <th>0</th>\n",
       "      <td>0.207547</td>\n",
       "      <td>6157</td>\n",
       "    </tr>\n",
       "    <tr>\n",
       "      <th>1</th>\n",
       "      <td>0.256978</td>\n",
       "      <td>6530</td>\n",
       "    </tr>\n",
       "    <tr>\n",
       "      <th>2</th>\n",
       "      <td>0.698113</td>\n",
       "      <td>20804</td>\n",
       "    </tr>\n",
       "    <tr>\n",
       "      <th>3</th>\n",
       "      <td>0.504695</td>\n",
       "      <td>24874</td>\n",
       "    </tr>\n",
       "    <tr>\n",
       "      <th>4</th>\n",
       "      <td>-0.364686</td>\n",
       "      <td>30771</td>\n",
       "    </tr>\n",
       "  </tbody>\n",
       "</table>\n",
       "</div>"
      ],
      "text/plain": [
       "   similarityIndex  userId\n",
       "0         0.207547    6157\n",
       "1         0.256978    6530\n",
       "2         0.698113   20804\n",
       "3         0.504695   24874\n",
       "4        -0.364686   30771"
      ]
     },
     "execution_count": 27,
     "metadata": {},
     "output_type": "execute_result"
    }
   ],
   "source": [
    "pearsonDF = pd.DataFrame.from_dict(pearsonCorrelationDict, orient='index')\n",
    "pearsonDF.columns = ['similarityIndex']\n",
    "pearsonDF['userId'] = pearsonDF.index\n",
    "pearsonDF.index = range(len(pearsonDF))\n",
    "pearsonDF.head()"
   ]
  },
  {
   "cell_type": "markdown",
   "metadata": {
    "button": false,
    "new_sheet": false,
    "run_control": {
     "read_only": false
    }
   },
   "source": [
    "#### The top x similar users to input user\n",
    "\n",
    "Now let's get the top 50 users that are most similar to the input.\n"
   ]
  },
  {
   "cell_type": "code",
   "execution_count": 28,
   "metadata": {
    "button": false,
    "new_sheet": false,
    "run_control": {
     "read_only": false
    }
   },
   "outputs": [
    {
     "data": {
      "text/html": [
       "<div>\n",
       "<style scoped>\n",
       "    .dataframe tbody tr th:only-of-type {\n",
       "        vertical-align: middle;\n",
       "    }\n",
       "\n",
       "    .dataframe tbody tr th {\n",
       "        vertical-align: top;\n",
       "    }\n",
       "\n",
       "    .dataframe thead th {\n",
       "        text-align: right;\n",
       "    }\n",
       "</style>\n",
       "<table border=\"1\" class=\"dataframe\">\n",
       "  <thead>\n",
       "    <tr style=\"text-align: right;\">\n",
       "      <th></th>\n",
       "      <th>similarityIndex</th>\n",
       "      <th>userId</th>\n",
       "    </tr>\n",
       "  </thead>\n",
       "  <tbody>\n",
       "    <tr>\n",
       "      <th>1711</th>\n",
       "      <td>1.0</td>\n",
       "      <td>2340</td>\n",
       "    </tr>\n",
       "    <tr>\n",
       "      <th>3595</th>\n",
       "      <td>1.0</td>\n",
       "      <td>175706</td>\n",
       "    </tr>\n",
       "    <tr>\n",
       "      <th>2497</th>\n",
       "      <td>1.0</td>\n",
       "      <td>73184</td>\n",
       "    </tr>\n",
       "    <tr>\n",
       "      <th>3429</th>\n",
       "      <td>1.0</td>\n",
       "      <td>160338</td>\n",
       "    </tr>\n",
       "    <tr>\n",
       "      <th>2014</th>\n",
       "      <td>1.0</td>\n",
       "      <td>28591</td>\n",
       "    </tr>\n",
       "  </tbody>\n",
       "</table>\n",
       "</div>"
      ],
      "text/plain": [
       "      similarityIndex  userId\n",
       "1711              1.0    2340\n",
       "3595              1.0  175706\n",
       "2497              1.0   73184\n",
       "3429              1.0  160338\n",
       "2014              1.0   28591"
      ]
     },
     "execution_count": 28,
     "metadata": {},
     "output_type": "execute_result"
    }
   ],
   "source": [
    "topUsers=pearsonDF.sort_values(by='similarityIndex', ascending=False)[0:50]\n",
    "topUsers.head()"
   ]
  },
  {
   "cell_type": "markdown",
   "metadata": {
    "button": false,
    "new_sheet": false,
    "run_control": {
     "read_only": false
    }
   },
   "source": [
    "Now, let's start recommending movies to the input user.\n",
    "\n",
    "#### Rating of selected users to all movies\n",
    "\n",
    "We're going to do this by taking the weighted average of the ratings of the movies using the Pearson Correlation as the weight. But to do this, we first need to get the movies watched by the users in our **pearsonDF** from the ratings dataframe and then store their correlation in a new column called \\_similarityIndex\". This is achieved below by merging of these two tables.\n"
   ]
  },
  {
   "cell_type": "code",
   "execution_count": 29,
   "metadata": {
    "button": false,
    "new_sheet": false,
    "run_control": {
     "read_only": false
    },
    "scrolled": true
   },
   "outputs": [
    {
     "data": {
      "text/html": [
       "<div>\n",
       "<style scoped>\n",
       "    .dataframe tbody tr th:only-of-type {\n",
       "        vertical-align: middle;\n",
       "    }\n",
       "\n",
       "    .dataframe tbody tr th {\n",
       "        vertical-align: top;\n",
       "    }\n",
       "\n",
       "    .dataframe thead th {\n",
       "        text-align: right;\n",
       "    }\n",
       "</style>\n",
       "<table border=\"1\" class=\"dataframe\">\n",
       "  <thead>\n",
       "    <tr style=\"text-align: right;\">\n",
       "      <th></th>\n",
       "      <th>similarityIndex</th>\n",
       "      <th>userId</th>\n",
       "      <th>movieId</th>\n",
       "      <th>rating</th>\n",
       "    </tr>\n",
       "  </thead>\n",
       "  <tbody>\n",
       "    <tr>\n",
       "      <th>0</th>\n",
       "      <td>1.0</td>\n",
       "      <td>2340</td>\n",
       "      <td>1</td>\n",
       "      <td>5.0</td>\n",
       "    </tr>\n",
       "    <tr>\n",
       "      <th>1</th>\n",
       "      <td>1.0</td>\n",
       "      <td>2340</td>\n",
       "      <td>5</td>\n",
       "      <td>4.0</td>\n",
       "    </tr>\n",
       "    <tr>\n",
       "      <th>2</th>\n",
       "      <td>1.0</td>\n",
       "      <td>2340</td>\n",
       "      <td>6</td>\n",
       "      <td>5.0</td>\n",
       "    </tr>\n",
       "    <tr>\n",
       "      <th>3</th>\n",
       "      <td>1.0</td>\n",
       "      <td>2340</td>\n",
       "      <td>7</td>\n",
       "      <td>5.0</td>\n",
       "    </tr>\n",
       "    <tr>\n",
       "      <th>4</th>\n",
       "      <td>1.0</td>\n",
       "      <td>2340</td>\n",
       "      <td>10</td>\n",
       "      <td>4.0</td>\n",
       "    </tr>\n",
       "  </tbody>\n",
       "</table>\n",
       "</div>"
      ],
      "text/plain": [
       "   similarityIndex  userId  movieId  rating\n",
       "0              1.0    2340        1     5.0\n",
       "1              1.0    2340        5     4.0\n",
       "2              1.0    2340        6     5.0\n",
       "3              1.0    2340        7     5.0\n",
       "4              1.0    2340       10     4.0"
      ]
     },
     "execution_count": 29,
     "metadata": {},
     "output_type": "execute_result"
    }
   ],
   "source": [
    "topUsersRating=topUsers.merge(ratings_df, left_on='userId', right_on='userId', how='inner')\n",
    "topUsersRating.head()"
   ]
  },
  {
   "cell_type": "markdown",
   "metadata": {
    "button": false,
    "new_sheet": false,
    "run_control": {
     "read_only": false
    }
   },
   "source": [
    "Now all we need to do is simply multiply the movie rating by its weight (the similarity index), then sum up the new ratings and divide it by the sum of the weights.\n",
    "\n",
    "We can easily do this by simply multiplying two columns, then grouping up the dataframe by movieId and then dividing two columns:\n",
    "\n",
    "It shows the idea of all similar users to candidate movies for the input user:\n"
   ]
  },
  {
   "cell_type": "code",
   "execution_count": 30,
   "metadata": {
    "button": false,
    "new_sheet": false,
    "run_control": {
     "read_only": false
    }
   },
   "outputs": [
    {
     "data": {
      "text/html": [
       "<div>\n",
       "<style scoped>\n",
       "    .dataframe tbody tr th:only-of-type {\n",
       "        vertical-align: middle;\n",
       "    }\n",
       "\n",
       "    .dataframe tbody tr th {\n",
       "        vertical-align: top;\n",
       "    }\n",
       "\n",
       "    .dataframe thead th {\n",
       "        text-align: right;\n",
       "    }\n",
       "</style>\n",
       "<table border=\"1\" class=\"dataframe\">\n",
       "  <thead>\n",
       "    <tr style=\"text-align: right;\">\n",
       "      <th></th>\n",
       "      <th>similarityIndex</th>\n",
       "      <th>userId</th>\n",
       "      <th>movieId</th>\n",
       "      <th>rating</th>\n",
       "      <th>weightedRating</th>\n",
       "    </tr>\n",
       "  </thead>\n",
       "  <tbody>\n",
       "    <tr>\n",
       "      <th>0</th>\n",
       "      <td>1.0</td>\n",
       "      <td>2340</td>\n",
       "      <td>1</td>\n",
       "      <td>5.0</td>\n",
       "      <td>5.0</td>\n",
       "    </tr>\n",
       "    <tr>\n",
       "      <th>1</th>\n",
       "      <td>1.0</td>\n",
       "      <td>2340</td>\n",
       "      <td>5</td>\n",
       "      <td>4.0</td>\n",
       "      <td>4.0</td>\n",
       "    </tr>\n",
       "    <tr>\n",
       "      <th>2</th>\n",
       "      <td>1.0</td>\n",
       "      <td>2340</td>\n",
       "      <td>6</td>\n",
       "      <td>5.0</td>\n",
       "      <td>5.0</td>\n",
       "    </tr>\n",
       "    <tr>\n",
       "      <th>3</th>\n",
       "      <td>1.0</td>\n",
       "      <td>2340</td>\n",
       "      <td>7</td>\n",
       "      <td>5.0</td>\n",
       "      <td>5.0</td>\n",
       "    </tr>\n",
       "    <tr>\n",
       "      <th>4</th>\n",
       "      <td>1.0</td>\n",
       "      <td>2340</td>\n",
       "      <td>10</td>\n",
       "      <td>4.0</td>\n",
       "      <td>4.0</td>\n",
       "    </tr>\n",
       "  </tbody>\n",
       "</table>\n",
       "</div>"
      ],
      "text/plain": [
       "   similarityIndex  userId  movieId  rating  weightedRating\n",
       "0              1.0    2340        1     5.0             5.0\n",
       "1              1.0    2340        5     4.0             4.0\n",
       "2              1.0    2340        6     5.0             5.0\n",
       "3              1.0    2340        7     5.0             5.0\n",
       "4              1.0    2340       10     4.0             4.0"
      ]
     },
     "execution_count": 30,
     "metadata": {},
     "output_type": "execute_result"
    }
   ],
   "source": [
    "#Multiplies the similarity by the user's ratings\n",
    "topUsersRating['weightedRating'] = topUsersRating['similarityIndex']*topUsersRating['rating']\n",
    "topUsersRating.head()"
   ]
  },
  {
   "cell_type": "code",
   "execution_count": 31,
   "metadata": {
    "button": false,
    "new_sheet": false,
    "run_control": {
     "read_only": false
    }
   },
   "outputs": [
    {
     "data": {
      "text/html": [
       "<div>\n",
       "<style scoped>\n",
       "    .dataframe tbody tr th:only-of-type {\n",
       "        vertical-align: middle;\n",
       "    }\n",
       "\n",
       "    .dataframe tbody tr th {\n",
       "        vertical-align: top;\n",
       "    }\n",
       "\n",
       "    .dataframe thead th {\n",
       "        text-align: right;\n",
       "    }\n",
       "</style>\n",
       "<table border=\"1\" class=\"dataframe\">\n",
       "  <thead>\n",
       "    <tr style=\"text-align: right;\">\n",
       "      <th></th>\n",
       "      <th>sum_similarityIndex</th>\n",
       "      <th>sum_weightedRating</th>\n",
       "    </tr>\n",
       "    <tr>\n",
       "      <th>movieId</th>\n",
       "      <th></th>\n",
       "      <th></th>\n",
       "    </tr>\n",
       "  </thead>\n",
       "  <tbody>\n",
       "    <tr>\n",
       "      <th>1</th>\n",
       "      <td>34.0</td>\n",
       "      <td>133.5</td>\n",
       "    </tr>\n",
       "    <tr>\n",
       "      <th>2</th>\n",
       "      <td>24.0</td>\n",
       "      <td>74.0</td>\n",
       "    </tr>\n",
       "    <tr>\n",
       "      <th>3</th>\n",
       "      <td>6.0</td>\n",
       "      <td>16.5</td>\n",
       "    </tr>\n",
       "    <tr>\n",
       "      <th>5</th>\n",
       "      <td>7.0</td>\n",
       "      <td>20.0</td>\n",
       "    </tr>\n",
       "    <tr>\n",
       "      <th>6</th>\n",
       "      <td>14.0</td>\n",
       "      <td>54.5</td>\n",
       "    </tr>\n",
       "  </tbody>\n",
       "</table>\n",
       "</div>"
      ],
      "text/plain": [
       "         sum_similarityIndex  sum_weightedRating\n",
       "movieId                                         \n",
       "1                       34.0               133.5\n",
       "2                       24.0                74.0\n",
       "3                        6.0                16.5\n",
       "5                        7.0                20.0\n",
       "6                       14.0                54.5"
      ]
     },
     "execution_count": 31,
     "metadata": {},
     "output_type": "execute_result"
    }
   ],
   "source": [
    "#Applies a sum to the topUsers after grouping it up by userId\n",
    "tempTopUsersRating = topUsersRating.groupby('movieId').sum()[['similarityIndex','weightedRating']]\n",
    "tempTopUsersRating.columns = ['sum_similarityIndex','sum_weightedRating']\n",
    "tempTopUsersRating.head()"
   ]
  },
  {
   "cell_type": "code",
   "execution_count": 32,
   "metadata": {
    "button": false,
    "new_sheet": false,
    "run_control": {
     "read_only": false
    }
   },
   "outputs": [
    {
     "data": {
      "text/html": [
       "<div>\n",
       "<style scoped>\n",
       "    .dataframe tbody tr th:only-of-type {\n",
       "        vertical-align: middle;\n",
       "    }\n",
       "\n",
       "    .dataframe tbody tr th {\n",
       "        vertical-align: top;\n",
       "    }\n",
       "\n",
       "    .dataframe thead th {\n",
       "        text-align: right;\n",
       "    }\n",
       "</style>\n",
       "<table border=\"1\" class=\"dataframe\">\n",
       "  <thead>\n",
       "    <tr style=\"text-align: right;\">\n",
       "      <th></th>\n",
       "      <th>weighted average recommendation score</th>\n",
       "      <th>movieId</th>\n",
       "    </tr>\n",
       "    <tr>\n",
       "      <th>movieId</th>\n",
       "      <th></th>\n",
       "      <th></th>\n",
       "    </tr>\n",
       "  </thead>\n",
       "  <tbody>\n",
       "    <tr>\n",
       "      <th>1</th>\n",
       "      <td>3.926471</td>\n",
       "      <td>1</td>\n",
       "    </tr>\n",
       "    <tr>\n",
       "      <th>2</th>\n",
       "      <td>3.083333</td>\n",
       "      <td>2</td>\n",
       "    </tr>\n",
       "    <tr>\n",
       "      <th>3</th>\n",
       "      <td>2.750000</td>\n",
       "      <td>3</td>\n",
       "    </tr>\n",
       "    <tr>\n",
       "      <th>5</th>\n",
       "      <td>2.857143</td>\n",
       "      <td>5</td>\n",
       "    </tr>\n",
       "    <tr>\n",
       "      <th>6</th>\n",
       "      <td>3.892857</td>\n",
       "      <td>6</td>\n",
       "    </tr>\n",
       "  </tbody>\n",
       "</table>\n",
       "</div>"
      ],
      "text/plain": [
       "         weighted average recommendation score  movieId\n",
       "movieId                                                \n",
       "1                                     3.926471        1\n",
       "2                                     3.083333        2\n",
       "3                                     2.750000        3\n",
       "5                                     2.857143        5\n",
       "6                                     3.892857        6"
      ]
     },
     "execution_count": 32,
     "metadata": {},
     "output_type": "execute_result"
    }
   ],
   "source": [
    "#Creates an empty dataframe\n",
    "recommendation_df = pd.DataFrame()\n",
    "#Now we take the weighted average\n",
    "recommendation_df['weighted average recommendation score'] = tempTopUsersRating['sum_weightedRating']/tempTopUsersRating['sum_similarityIndex']\n",
    "recommendation_df['movieId'] = tempTopUsersRating.index\n",
    "recommendation_df.head()"
   ]
  },
  {
   "cell_type": "markdown",
   "metadata": {
    "button": false,
    "new_sheet": false,
    "run_control": {
     "read_only": false
    }
   },
   "source": [
    "Now let's sort it and see the top 20 movies that the algorithm recommended!\n"
   ]
  },
  {
   "cell_type": "code",
   "execution_count": 33,
   "metadata": {
    "button": false,
    "new_sheet": false,
    "run_control": {
     "read_only": false
    },
    "scrolled": false
   },
   "outputs": [
    {
     "data": {
      "text/html": [
       "<div>\n",
       "<style scoped>\n",
       "    .dataframe tbody tr th:only-of-type {\n",
       "        vertical-align: middle;\n",
       "    }\n",
       "\n",
       "    .dataframe tbody tr th {\n",
       "        vertical-align: top;\n",
       "    }\n",
       "\n",
       "    .dataframe thead th {\n",
       "        text-align: right;\n",
       "    }\n",
       "</style>\n",
       "<table border=\"1\" class=\"dataframe\">\n",
       "  <thead>\n",
       "    <tr style=\"text-align: right;\">\n",
       "      <th></th>\n",
       "      <th>weighted average recommendation score</th>\n",
       "      <th>movieId</th>\n",
       "    </tr>\n",
       "    <tr>\n",
       "      <th>movieId</th>\n",
       "      <th></th>\n",
       "      <th></th>\n",
       "    </tr>\n",
       "  </thead>\n",
       "  <tbody>\n",
       "    <tr>\n",
       "      <th>148626</th>\n",
       "      <td>5.0</td>\n",
       "      <td>148626</td>\n",
       "    </tr>\n",
       "    <tr>\n",
       "      <th>106696</th>\n",
       "      <td>5.0</td>\n",
       "      <td>106696</td>\n",
       "    </tr>\n",
       "    <tr>\n",
       "      <th>93270</th>\n",
       "      <td>5.0</td>\n",
       "      <td>93270</td>\n",
       "    </tr>\n",
       "    <tr>\n",
       "      <th>1177</th>\n",
       "      <td>5.0</td>\n",
       "      <td>1177</td>\n",
       "    </tr>\n",
       "    <tr>\n",
       "      <th>417</th>\n",
       "      <td>5.0</td>\n",
       "      <td>417</td>\n",
       "    </tr>\n",
       "    <tr>\n",
       "      <th>5840</th>\n",
       "      <td>5.0</td>\n",
       "      <td>5840</td>\n",
       "    </tr>\n",
       "    <tr>\n",
       "      <th>95311</th>\n",
       "      <td>5.0</td>\n",
       "      <td>95311</td>\n",
       "    </tr>\n",
       "    <tr>\n",
       "      <th>95313</th>\n",
       "      <td>5.0</td>\n",
       "      <td>95313</td>\n",
       "    </tr>\n",
       "    <tr>\n",
       "      <th>95377</th>\n",
       "      <td>5.0</td>\n",
       "      <td>95377</td>\n",
       "    </tr>\n",
       "    <tr>\n",
       "      <th>95654</th>\n",
       "      <td>5.0</td>\n",
       "      <td>95654</td>\n",
       "    </tr>\n",
       "  </tbody>\n",
       "</table>\n",
       "</div>"
      ],
      "text/plain": [
       "         weighted average recommendation score  movieId\n",
       "movieId                                                \n",
       "148626                                     5.0   148626\n",
       "106696                                     5.0   106696\n",
       "93270                                      5.0    93270\n",
       "1177                                       5.0     1177\n",
       "417                                        5.0      417\n",
       "5840                                       5.0     5840\n",
       "95311                                      5.0    95311\n",
       "95313                                      5.0    95313\n",
       "95377                                      5.0    95377\n",
       "95654                                      5.0    95654"
      ]
     },
     "execution_count": 33,
     "metadata": {},
     "output_type": "execute_result"
    }
   ],
   "source": [
    "recommendation_df = recommendation_df.sort_values(by='weighted average recommendation score', ascending=False)\n",
    "recommendation_df.head(10)"
   ]
  },
  {
   "cell_type": "code",
   "execution_count": 34,
   "metadata": {
    "button": false,
    "new_sheet": false,
    "run_control": {
     "read_only": false
    },
    "scrolled": true
   },
   "outputs": [
    {
     "data": {
      "text/html": [
       "<div>\n",
       "<style scoped>\n",
       "    .dataframe tbody tr th:only-of-type {\n",
       "        vertical-align: middle;\n",
       "    }\n",
       "\n",
       "    .dataframe tbody tr th {\n",
       "        vertical-align: top;\n",
       "    }\n",
       "\n",
       "    .dataframe thead th {\n",
       "        text-align: right;\n",
       "    }\n",
       "</style>\n",
       "<table border=\"1\" class=\"dataframe\">\n",
       "  <thead>\n",
       "    <tr style=\"text-align: right;\">\n",
       "      <th></th>\n",
       "      <th>movieId</th>\n",
       "      <th>title</th>\n",
       "      <th>year</th>\n",
       "    </tr>\n",
       "  </thead>\n",
       "  <tbody>\n",
       "    <tr>\n",
       "      <th>4240</th>\n",
       "      <td>4334</td>\n",
       "      <td>Yi Yi</td>\n",
       "      <td>2000</td>\n",
       "    </tr>\n",
       "    <tr>\n",
       "      <th>4278</th>\n",
       "      <td>4372</td>\n",
       "      <td>Crazy/Beautiful</td>\n",
       "      <td>2001</td>\n",
       "    </tr>\n",
       "    <tr>\n",
       "      <th>5162</th>\n",
       "      <td>5258</td>\n",
       "      <td>George Washington</td>\n",
       "      <td>2000</td>\n",
       "    </tr>\n",
       "    <tr>\n",
       "      <th>5171</th>\n",
       "      <td>5267</td>\n",
       "      <td>Rookie, The</td>\n",
       "      <td>2002</td>\n",
       "    </tr>\n",
       "    <tr>\n",
       "      <th>9537</th>\n",
       "      <td>27857</td>\n",
       "      <td>As it is in Heaven (Så som i himmelen)</td>\n",
       "      <td>2004</td>\n",
       "    </tr>\n",
       "    <tr>\n",
       "      <th>11317</th>\n",
       "      <td>48032</td>\n",
       "      <td>Tiger and the Snow, The (La tigre e la neve)</td>\n",
       "      <td>2005</td>\n",
       "    </tr>\n",
       "    <tr>\n",
       "      <th>13308</th>\n",
       "      <td>65142</td>\n",
       "      <td>Loft</td>\n",
       "      <td>2008</td>\n",
       "    </tr>\n",
       "    <tr>\n",
       "      <th>13442</th>\n",
       "      <td>66203</td>\n",
       "      <td>He's Just Not That Into You</td>\n",
       "      <td>2009</td>\n",
       "    </tr>\n",
       "    <tr>\n",
       "      <th>13724</th>\n",
       "      <td>68519</td>\n",
       "      <td>S. Darko (S. Darko: A Donnie Darko Tale)</td>\n",
       "      <td>2009</td>\n",
       "    </tr>\n",
       "    <tr>\n",
       "      <th>14477</th>\n",
       "      <td>72356</td>\n",
       "      <td>Partly Cloudy</td>\n",
       "      <td>2009</td>\n",
       "    </tr>\n",
       "    <tr>\n",
       "      <th>15980</th>\n",
       "      <td>80831</td>\n",
       "      <td>Let Me In</td>\n",
       "      <td>2010</td>\n",
       "    </tr>\n",
       "    <tr>\n",
       "      <th>15983</th>\n",
       "      <td>80839</td>\n",
       "      <td>Secretariat</td>\n",
       "      <td>2010</td>\n",
       "    </tr>\n",
       "    <tr>\n",
       "      <th>16537</th>\n",
       "      <td>83369</td>\n",
       "      <td>Way Back, The</td>\n",
       "      <td>2010</td>\n",
       "    </tr>\n",
       "    <tr>\n",
       "      <th>16582</th>\n",
       "      <td>83601</td>\n",
       "      <td>Amer</td>\n",
       "      <td>2009</td>\n",
       "    </tr>\n",
       "    <tr>\n",
       "      <th>18730</th>\n",
       "      <td>93006</td>\n",
       "      <td>Very Potter Musical, A</td>\n",
       "      <td>2009</td>\n",
       "    </tr>\n",
       "    <tr>\n",
       "      <th>18776</th>\n",
       "      <td>93270</td>\n",
       "      <td>Project X</td>\n",
       "      <td>2012</td>\n",
       "    </tr>\n",
       "    <tr>\n",
       "      <th>19225</th>\n",
       "      <td>95311</td>\n",
       "      <td>Presto</td>\n",
       "      <td>2008</td>\n",
       "    </tr>\n",
       "    <tr>\n",
       "      <th>19226</th>\n",
       "      <td>95313</td>\n",
       "      <td>Jack-Jack Attack</td>\n",
       "      <td>2005</td>\n",
       "    </tr>\n",
       "    <tr>\n",
       "      <th>19229</th>\n",
       "      <td>95377</td>\n",
       "      <td>One Man Band</td>\n",
       "      <td>2005</td>\n",
       "    </tr>\n",
       "    <tr>\n",
       "      <th>19337</th>\n",
       "      <td>95858</td>\n",
       "      <td>For the Birds</td>\n",
       "      <td>2000</td>\n",
       "    </tr>\n",
       "    <tr>\n",
       "      <th>20038</th>\n",
       "      <td>98491</td>\n",
       "      <td>Paperman</td>\n",
       "      <td>2012</td>\n",
       "    </tr>\n",
       "    <tr>\n",
       "      <th>21494</th>\n",
       "      <td>103984</td>\n",
       "      <td>Great Beauty, The (Grande Bellezza, La)</td>\n",
       "      <td>2013</td>\n",
       "    </tr>\n",
       "    <tr>\n",
       "      <th>21754</th>\n",
       "      <td>104913</td>\n",
       "      <td>Rush</td>\n",
       "      <td>2013</td>\n",
       "    </tr>\n",
       "    <tr>\n",
       "      <th>21938</th>\n",
       "      <td>105504</td>\n",
       "      <td>Captain Phillips</td>\n",
       "      <td>2013</td>\n",
       "    </tr>\n",
       "    <tr>\n",
       "      <th>22023</th>\n",
       "      <td>105835</td>\n",
       "      <td>Double, The</td>\n",
       "      <td>2013</td>\n",
       "    </tr>\n",
       "    <tr>\n",
       "      <th>22271</th>\n",
       "      <td>106696</td>\n",
       "      <td>Frozen</td>\n",
       "      <td>2013</td>\n",
       "    </tr>\n",
       "    <tr>\n",
       "      <th>33451</th>\n",
       "      <td>148626</td>\n",
       "      <td>The Big Short</td>\n",
       "      <td>2015</td>\n",
       "    </tr>\n",
       "  </tbody>\n",
       "</table>\n",
       "</div>"
      ],
      "text/plain": [
       "       movieId                                         title  year\n",
       "4240      4334                                         Yi Yi  2000\n",
       "4278      4372                               Crazy/Beautiful  2001\n",
       "5162      5258                             George Washington  2000\n",
       "5171      5267                                   Rookie, The  2002\n",
       "9537     27857        As it is in Heaven (Så som i himmelen)  2004\n",
       "11317    48032  Tiger and the Snow, The (La tigre e la neve)  2005\n",
       "13308    65142                                          Loft  2008\n",
       "13442    66203                   He's Just Not That Into You  2009\n",
       "13724    68519      S. Darko (S. Darko: A Donnie Darko Tale)  2009\n",
       "14477    72356                                 Partly Cloudy  2009\n",
       "15980    80831                                     Let Me In  2010\n",
       "15983    80839                                   Secretariat  2010\n",
       "16537    83369                                 Way Back, The  2010\n",
       "16582    83601                                          Amer  2009\n",
       "18730    93006                        Very Potter Musical, A  2009\n",
       "18776    93270                                     Project X  2012\n",
       "19225    95311                                        Presto  2008\n",
       "19226    95313                              Jack-Jack Attack  2005\n",
       "19229    95377                                  One Man Band  2005\n",
       "19337    95858                                 For the Birds  2000\n",
       "20038    98491                                      Paperman  2012\n",
       "21494   103984       Great Beauty, The (Grande Bellezza, La)  2013\n",
       "21754   104913                                          Rush  2013\n",
       "21938   105504                              Captain Phillips  2013\n",
       "22023   105835                                   Double, The  2013\n",
       "22271   106696                                        Frozen  2013\n",
       "33451   148626                                 The Big Short  2015"
      ]
     },
     "execution_count": 34,
     "metadata": {},
     "output_type": "execute_result"
    }
   ],
   "source": [
    "movies_df.loc[movies_df['movieId'].isin(recommendation_df.head(50)['movieId'].tolist())]"
   ]
  },
  {
   "cell_type": "markdown",
   "metadata": {
    "button": false,
    "new_sheet": false,
    "run_control": {
     "read_only": false
    }
   },
   "source": [
    "### Advantages and Disadvantages of Collaborative Filtering\n",
    "\n",
    "##### Advantages\n",
    "\n",
    "*   Takes other user's ratings into consideration\n",
    "*   Doesn't need to study or extract information from the recommended item\n",
    "*   Adapts to the user's interests which might change over time\n",
    "\n",
    "##### Disadvantages\n",
    "\n",
    "*   Approximation function can be slow\n",
    "*   There might be a low amount of users to approximate\n",
    "*   Privacy issues when trying to learn the user's preferences\n"
   ]
  }
 ],
 "metadata": {
  "kernelspec": {
   "display_name": "Python 3 (ipykernel)",
   "language": "python",
   "name": "python3"
  },
  "language_info": {
   "codemirror_mode": {
    "name": "ipython",
    "version": 3
   },
   "file_extension": ".py",
   "mimetype": "text/x-python",
   "name": "python",
   "nbconvert_exporter": "python",
   "pygments_lexer": "ipython3",
   "version": "3.9.7"
  },
  "widgets": {
   "state": {},
   "version": "1.1.2"
  }
 },
 "nbformat": 4,
 "nbformat_minor": 2
}
